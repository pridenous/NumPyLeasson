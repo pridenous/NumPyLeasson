{
  "nbformat": 4,
  "nbformat_minor": 0,
  "metadata": {
    "colab": {
      "name": "fourthLeasson.ipynb",
      "provenance": [],
      "authorship_tag": "ABX9TyNj5gMOvLP7yLdaYgO6eiNp",
      "include_colab_link": true
    },
    "kernelspec": {
      "name": "python3",
      "display_name": "Python 3"
    }
  },
  "cells": [
    {
      "cell_type": "markdown",
      "metadata": {
        "id": "view-in-github",
        "colab_type": "text"
      },
      "source": [
        "<a href=\"https://colab.research.google.com/github/pridenous/NumPyLeasson/blob/master/fourthLeasson.ipynb\" target=\"_parent\"><img src=\"https://colab.research.google.com/assets/colab-badge.svg\" alt=\"Open In Colab\"/></a>"
      ]
    },
    {
      "cell_type": "code",
      "metadata": {
        "id": "sj4Pd3Sl5fQc"
      },
      "source": [
        "import requests\n",
        "import pandas as pd"
      ],
      "execution_count": 4,
      "outputs": []
    },
    {
      "cell_type": "code",
      "metadata": {
        "id": "2adIrrCA5kmq"
      },
      "source": [
        "def get_historic_price(symbol, exchange='bitfinex', after='2018-09-01') :\n",
        "  url = 'https://api.cryptowat.ch/markets/{exchange}/{symbol}usd/ohlc'.format(\n",
        "      symbol=symbol, exchange=exchange)\n",
        "  resp = requests.get(url, params={\n",
        "      'periods' : '3600',\n",
        "      'after' : str(int(pd.Timestamp(after).timestamp()))\n",
        "  })\n",
        "  resp.raise_for_status()\n",
        "  data = resp.json()\n",
        "  df = pd.DataFrame(data['result']['3600'], columns=[\n",
        "       'CloseTime', 'OpenPrice', 'HighPrice', 'LowerPrice', 'ClosePrice', 'Volume', 'NA'                                             \n",
        "  ])\n",
        "  df['CloseTime'] = pd.to_datetime(df['CloseTime'], unit='s')\n",
        "  df.set_index('CloseTime', inplace=True)\n",
        "  return df"
      ],
      "execution_count": 11,
      "outputs": []
    },
    {
      "cell_type": "code",
      "metadata": {
        "colab": {
          "base_uri": "https://localhost:8080/"
        },
        "id": "WMZ_W-tp8X4C",
        "outputId": "9d36c443-c3af-4ef3-8303-e5b9ecddabe0"
      },
      "source": [
        "last_week = (pd.Timestamp.now() - pd.offsets .Day(7))\n",
        "last_week"
      ],
      "execution_count": 12,
      "outputs": [
        {
          "output_type": "execute_result",
          "data": {
            "text/plain": [
              "Timestamp('2020-11-17 01:55:39.530467')"
            ]
          },
          "metadata": {
            "tags": []
          },
          "execution_count": 12
        }
      ]
    },
    {
      "cell_type": "code",
      "metadata": {
        "id": "qg4kTSeH9CHN"
      },
      "source": [
        "btc = get_historic_price('btc', 'bitstamp', after=last_week)"
      ],
      "execution_count": 13,
      "outputs": []
    },
    {
      "cell_type": "code",
      "metadata": {
        "id": "fD6KfnOF9rxe"
      },
      "source": [
        "eth = get_historic_price('eth', 'bitstamp', after=last_week)"
      ],
      "execution_count": 14,
      "outputs": []
    },
    {
      "cell_type": "code",
      "metadata": {
        "colab": {
          "base_uri": "https://localhost:8080/",
          "height": 235
        },
        "id": "1xxrDY-E94MN",
        "outputId": "af5df355-7a1b-4167-8a99-4886b3b3a380"
      },
      "source": [
        "btc.head()"
      ],
      "execution_count": 15,
      "outputs": [
        {
          "output_type": "execute_result",
          "data": {
            "text/html": [
              "<div>\n",
              "<style scoped>\n",
              "    .dataframe tbody tr th:only-of-type {\n",
              "        vertical-align: middle;\n",
              "    }\n",
              "\n",
              "    .dataframe tbody tr th {\n",
              "        vertical-align: top;\n",
              "    }\n",
              "\n",
              "    .dataframe thead th {\n",
              "        text-align: right;\n",
              "    }\n",
              "</style>\n",
              "<table border=\"1\" class=\"dataframe\">\n",
              "  <thead>\n",
              "    <tr style=\"text-align: right;\">\n",
              "      <th></th>\n",
              "      <th>OpenPrice</th>\n",
              "      <th>HighPrice</th>\n",
              "      <th>LowerPrice</th>\n",
              "      <th>ClosePrice</th>\n",
              "      <th>Volume</th>\n",
              "      <th>NA</th>\n",
              "    </tr>\n",
              "    <tr>\n",
              "      <th>CloseTime</th>\n",
              "      <th></th>\n",
              "      <th></th>\n",
              "      <th></th>\n",
              "      <th></th>\n",
              "      <th></th>\n",
              "      <th></th>\n",
              "    </tr>\n",
              "  </thead>\n",
              "  <tbody>\n",
              "    <tr>\n",
              "      <th>2020-11-17 02:00:00</th>\n",
              "      <td>16812.20</td>\n",
              "      <td>16813.54</td>\n",
              "      <td>16691.32</td>\n",
              "      <td>16698.05</td>\n",
              "      <td>126.649123</td>\n",
              "      <td>2.119083e+06</td>\n",
              "    </tr>\n",
              "    <tr>\n",
              "      <th>2020-11-17 03:00:00</th>\n",
              "      <td>16698.92</td>\n",
              "      <td>16750.00</td>\n",
              "      <td>16645.94</td>\n",
              "      <td>16683.88</td>\n",
              "      <td>222.586520</td>\n",
              "      <td>3.711739e+06</td>\n",
              "    </tr>\n",
              "    <tr>\n",
              "      <th>2020-11-17 04:00:00</th>\n",
              "      <td>16688.19</td>\n",
              "      <td>16717.57</td>\n",
              "      <td>16585.00</td>\n",
              "      <td>16594.34</td>\n",
              "      <td>301.384475</td>\n",
              "      <td>5.010891e+06</td>\n",
              "    </tr>\n",
              "    <tr>\n",
              "      <th>2020-11-17 05:00:00</th>\n",
              "      <td>16588.23</td>\n",
              "      <td>16687.40</td>\n",
              "      <td>16570.00</td>\n",
              "      <td>16687.09</td>\n",
              "      <td>168.187027</td>\n",
              "      <td>2.795748e+06</td>\n",
              "    </tr>\n",
              "    <tr>\n",
              "      <th>2020-11-17 06:00:00</th>\n",
              "      <td>16683.31</td>\n",
              "      <td>16687.51</td>\n",
              "      <td>16610.98</td>\n",
              "      <td>16630.13</td>\n",
              "      <td>115.326111</td>\n",
              "      <td>1.919946e+06</td>\n",
              "    </tr>\n",
              "  </tbody>\n",
              "</table>\n",
              "</div>"
            ],
            "text/plain": [
              "                     OpenPrice  HighPrice  ...      Volume            NA\n",
              "CloseTime                                  ...                          \n",
              "2020-11-17 02:00:00   16812.20   16813.54  ...  126.649123  2.119083e+06\n",
              "2020-11-17 03:00:00   16698.92   16750.00  ...  222.586520  3.711739e+06\n",
              "2020-11-17 04:00:00   16688.19   16717.57  ...  301.384475  5.010891e+06\n",
              "2020-11-17 05:00:00   16588.23   16687.40  ...  168.187027  2.795748e+06\n",
              "2020-11-17 06:00:00   16683.31   16687.51  ...  115.326111  1.919946e+06\n",
              "\n",
              "[5 rows x 6 columns]"
            ]
          },
          "metadata": {
            "tags": []
          },
          "execution_count": 15
        }
      ]
    },
    {
      "cell_type": "code",
      "metadata": {
        "colab": {
          "base_uri": "https://localhost:8080/",
          "height": 297
        },
        "id": "BFAsDIc--1Vk",
        "outputId": "d1b51e69-f3b1-459d-b2f7-696f54f303ed"
      },
      "source": [
        "btc.describe()"
      ],
      "execution_count": 19,
      "outputs": [
        {
          "output_type": "execute_result",
          "data": {
            "text/html": [
              "<div>\n",
              "<style scoped>\n",
              "    .dataframe tbody tr th:only-of-type {\n",
              "        vertical-align: middle;\n",
              "    }\n",
              "\n",
              "    .dataframe tbody tr th {\n",
              "        vertical-align: top;\n",
              "    }\n",
              "\n",
              "    .dataframe thead th {\n",
              "        text-align: right;\n",
              "    }\n",
              "</style>\n",
              "<table border=\"1\" class=\"dataframe\">\n",
              "  <thead>\n",
              "    <tr style=\"text-align: right;\">\n",
              "      <th></th>\n",
              "      <th>OpenPrice</th>\n",
              "      <th>HighPrice</th>\n",
              "      <th>LowerPrice</th>\n",
              "      <th>ClosePrice</th>\n",
              "      <th>Volume</th>\n",
              "      <th>NA</th>\n",
              "    </tr>\n",
              "  </thead>\n",
              "  <tbody>\n",
              "    <tr>\n",
              "      <th>count</th>\n",
              "      <td>169.000000</td>\n",
              "      <td>169.000000</td>\n",
              "      <td>169.000000</td>\n",
              "      <td>169.000000</td>\n",
              "      <td>169.000000</td>\n",
              "      <td>1.690000e+02</td>\n",
              "    </tr>\n",
              "    <tr>\n",
              "      <th>mean</th>\n",
              "      <td>18119.532544</td>\n",
              "      <td>18216.465503</td>\n",
              "      <td>18001.293550</td>\n",
              "      <td>18129.903195</td>\n",
              "      <td>400.557523</td>\n",
              "      <td>7.227940e+06</td>\n",
              "    </tr>\n",
              "    <tr>\n",
              "      <th>std</th>\n",
              "      <td>554.026858</td>\n",
              "      <td>545.839750</td>\n",
              "      <td>555.804048</td>\n",
              "      <td>545.638877</td>\n",
              "      <td>281.485398</td>\n",
              "      <td>5.024963e+06</td>\n",
              "    </tr>\n",
              "    <tr>\n",
              "      <th>min</th>\n",
              "      <td>16588.230000</td>\n",
              "      <td>16687.400000</td>\n",
              "      <td>16570.000000</td>\n",
              "      <td>16594.340000</td>\n",
              "      <td>56.401209</td>\n",
              "      <td>1.046732e+06</td>\n",
              "    </tr>\n",
              "    <tr>\n",
              "      <th>25%</th>\n",
              "      <td>17797.070000</td>\n",
              "      <td>17917.510000</td>\n",
              "      <td>17682.690000</td>\n",
              "      <td>17800.280000</td>\n",
              "      <td>222.586520</td>\n",
              "      <td>4.071491e+06</td>\n",
              "    </tr>\n",
              "    <tr>\n",
              "      <th>50%</th>\n",
              "      <td>18227.270000</td>\n",
              "      <td>18344.480000</td>\n",
              "      <td>18104.870000</td>\n",
              "      <td>18234.850000</td>\n",
              "      <td>324.030851</td>\n",
              "      <td>5.913115e+06</td>\n",
              "    </tr>\n",
              "    <tr>\n",
              "      <th>75%</th>\n",
              "      <td>18586.950000</td>\n",
              "      <td>18656.990000</td>\n",
              "      <td>18482.110000</td>\n",
              "      <td>18584.280000</td>\n",
              "      <td>479.981783</td>\n",
              "      <td>8.812595e+06</td>\n",
              "    </tr>\n",
              "    <tr>\n",
              "      <th>max</th>\n",
              "      <td>18878.000000</td>\n",
              "      <td>18977.000000</td>\n",
              "      <td>18785.350000</td>\n",
              "      <td>18878.000000</td>\n",
              "      <td>1882.256967</td>\n",
              "      <td>3.355962e+07</td>\n",
              "    </tr>\n",
              "  </tbody>\n",
              "</table>\n",
              "</div>"
            ],
            "text/plain": [
              "          OpenPrice     HighPrice  ...       Volume            NA\n",
              "count    169.000000    169.000000  ...   169.000000  1.690000e+02\n",
              "mean   18119.532544  18216.465503  ...   400.557523  7.227940e+06\n",
              "std      554.026858    545.839750  ...   281.485398  5.024963e+06\n",
              "min    16588.230000  16687.400000  ...    56.401209  1.046732e+06\n",
              "25%    17797.070000  17917.510000  ...   222.586520  4.071491e+06\n",
              "50%    18227.270000  18344.480000  ...   324.030851  5.913115e+06\n",
              "75%    18586.950000  18656.990000  ...   479.981783  8.812595e+06\n",
              "max    18878.000000  18977.000000  ...  1882.256967  3.355962e+07\n",
              "\n",
              "[8 rows x 6 columns]"
            ]
          },
          "metadata": {
            "tags": []
          },
          "execution_count": 19
        }
      ]
    },
    {
      "cell_type": "code",
      "metadata": {
        "id": "9fOZHlOJ-21t"
      },
      "source": [
        ""
      ],
      "execution_count": null,
      "outputs": []
    },
    {
      "cell_type": "code",
      "metadata": {
        "colab": {
          "base_uri": "https://localhost:8080/",
          "height": 481
        },
        "id": "QuiZysM6-ClN",
        "outputId": "7aee8041-7ef8-4c9f-ba60-ce63f3e5dfa8"
      },
      "source": [
        "btc['ClosePrice'].plot(figsize=(15,7))"
      ],
      "execution_count": 16,
      "outputs": [
        {
          "output_type": "execute_result",
          "data": {
            "text/plain": [
              "<matplotlib.axes._subplots.AxesSubplot at 0x7fdf3b8a9d30>"
            ]
          },
          "metadata": {
            "tags": []
          },
          "execution_count": 16
        },
        {
          "output_type": "display_data",
          "data": {
            "image/png": "[encoded data removed]",
            "text/plain": [
              "<Figure size 1080x504 with 1 Axes>"
            ]
          },
          "metadata": {
            "tags": [],
            "needs_background": "light"
          }
        }
      ]
    },
    {
      "cell_type": "code",
      "metadata": {
        "colab": {
          "base_uri": "https://localhost:8080/",
          "height": 235
        },
        "id": "p2XWuXrH-atd",
        "outputId": "35de1bcb-a3f5-4e3e-a9d2-c16ad302616d"
      },
      "source": [
        " eth.head()"
      ],
      "execution_count": 17,
      "outputs": [
        {
          "output_type": "execute_result",
          "data": {
            "text/html": [
              "<div>\n",
              "<style scoped>\n",
              "    .dataframe tbody tr th:only-of-type {\n",
              "        vertical-align: middle;\n",
              "    }\n",
              "\n",
              "    .dataframe tbody tr th {\n",
              "        vertical-align: top;\n",
              "    }\n",
              "\n",
              "    .dataframe thead th {\n",
              "        text-align: right;\n",
              "    }\n",
              "</style>\n",
              "<table border=\"1\" class=\"dataframe\">\n",
              "  <thead>\n",
              "    <tr style=\"text-align: right;\">\n",
              "      <th></th>\n",
              "      <th>OpenPrice</th>\n",
              "      <th>HighPrice</th>\n",
              "      <th>LowerPrice</th>\n",
              "      <th>ClosePrice</th>\n",
              "      <th>Volume</th>\n",
              "      <th>NA</th>\n",
              "    </tr>\n",
              "    <tr>\n",
              "      <th>CloseTime</th>\n",
              "      <th></th>\n",
              "      <th></th>\n",
              "      <th></th>\n",
              "      <th></th>\n",
              "      <th></th>\n",
              "      <th></th>\n",
              "    </tr>\n",
              "  </thead>\n",
              "  <tbody>\n",
              "    <tr>\n",
              "      <th>2020-11-17 02:00:00</th>\n",
              "      <td>468.39</td>\n",
              "      <td>469.42</td>\n",
              "      <td>465.09</td>\n",
              "      <td>465.09</td>\n",
              "      <td>1326.713951</td>\n",
              "      <td>619981.747859</td>\n",
              "    </tr>\n",
              "    <tr>\n",
              "      <th>2020-11-17 03:00:00</th>\n",
              "      <td>465.19</td>\n",
              "      <td>466.87</td>\n",
              "      <td>463.55</td>\n",
              "      <td>464.09</td>\n",
              "      <td>884.288933</td>\n",
              "      <td>411501.892296</td>\n",
              "    </tr>\n",
              "    <tr>\n",
              "      <th>2020-11-17 04:00:00</th>\n",
              "      <td>464.07</td>\n",
              "      <td>465.01</td>\n",
              "      <td>461.73</td>\n",
              "      <td>462.28</td>\n",
              "      <td>1202.564523</td>\n",
              "      <td>557316.094417</td>\n",
              "    </tr>\n",
              "    <tr>\n",
              "      <th>2020-11-17 05:00:00</th>\n",
              "      <td>462.38</td>\n",
              "      <td>466.39</td>\n",
              "      <td>461.82</td>\n",
              "      <td>466.00</td>\n",
              "      <td>825.030378</td>\n",
              "      <td>383679.989985</td>\n",
              "    </tr>\n",
              "    <tr>\n",
              "      <th>2020-11-17 06:00:00</th>\n",
              "      <td>465.73</td>\n",
              "      <td>466.48</td>\n",
              "      <td>463.40</td>\n",
              "      <td>463.58</td>\n",
              "      <td>661.432021</td>\n",
              "      <td>307726.718559</td>\n",
              "    </tr>\n",
              "  </tbody>\n",
              "</table>\n",
              "</div>"
            ],
            "text/plain": [
              "                     OpenPrice  HighPrice  ...       Volume             NA\n",
              "CloseTime                                  ...                            \n",
              "2020-11-17 02:00:00     468.39     469.42  ...  1326.713951  619981.747859\n",
              "2020-11-17 03:00:00     465.19     466.87  ...   884.288933  411501.892296\n",
              "2020-11-17 04:00:00     464.07     465.01  ...  1202.564523  557316.094417\n",
              "2020-11-17 05:00:00     462.38     466.39  ...   825.030378  383679.989985\n",
              "2020-11-17 06:00:00     465.73     466.48  ...   661.432021  307726.718559\n",
              "\n",
              "[5 rows x 6 columns]"
            ]
          },
          "metadata": {
            "tags": []
          },
          "execution_count": 17
        }
      ]
    },
    {
      "cell_type": "code",
      "metadata": {
        "colab": {
          "base_uri": "https://localhost:8080/",
          "height": 481
        },
        "id": "92ioyWBR-kTP",
        "outputId": "0624200e-0f12-4a8b-e175-8bdf2f7b9bc0"
      },
      "source": [
        "eth['ClosePrice'].plot(figsize=(15,7))"
      ],
      "execution_count": 18,
      "outputs": [
        {
          "output_type": "execute_result",
          "data": {
            "text/plain": [
              "<matplotlib.axes._subplots.AxesSubplot at 0x7fdf3a5995c0>"
            ]
          },
          "metadata": {
            "tags": []
          },
          "execution_count": 18
        },
        {
          "output_type": "display_data",
          "data": {
            "image/png": "[encoded data removed]",
            "text/plain": [
              "<Figure size 1080x504 with 1 Axes>"
            ]
          },
          "metadata": {
            "tags": [],
            "needs_background": "light"
          }
        }
      ]
    },
    {
      "cell_type": "markdown",
      "metadata": {
        "id": "41kbADM6E_nB"
      },
      "source": [
        "# **Use Bokeh Graph for Intuitive data**"
      ]
    },
    {
      "cell_type": "code",
      "metadata": {
        "id": "wa3hkNZMA3-P"
      },
      "source": [
        "from bokeh.plotting import figure, output_file, show\n",
        "from bokeh.io import output_notebook"
      ],
      "execution_count": 20,
      "outputs": []
    },
    {
      "cell_type": "code",
      "metadata": {
        "id": "3kH4quYPBGN-"
      },
      "source": [
        "output_notebook()"
      ],
      "execution_count": 22,
      "outputs": []
    },
    {
      "cell_type": "code",
      "metadata": {
        "colab": {
          "base_uri": "https://localhost:8080/",
          "height": 654
        },
        "id": "gPGAQQAhBLbw",
        "outputId": "7f9844a2-d24a-4a7f-8fe0-4e9451229161"
      },
      "source": [
        "pl = figure(x_axis_type =\"datetime\", title=\"Crypto Prices\", width=800)\n",
        "pl.grid.grid_line_alpha = 0.3\n",
        "pl.xaxis.axis_label = 'Date'\n",
        "pl.yaxis.axis_label = 'Price'\n",
        "\n",
        "pl.line(btc.index, btc['ClosePrice'], color='#f2a900', legend='Bitcoin')\n",
        "\n",
        "pl.legend.location = \"top_left\"\n",
        "\n",
        "show(pl)"
      ],
      "execution_count": 25,
      "outputs": [
        {
          "output_type": "stream",
          "text": [
            "BokehDeprecationWarning: 'legend' keyword is deprecated, use explicit 'legend_label', 'legend_field', or 'legend_group' keywords instead\n"
          ],
          "name": "stderr"
        },
        {
          "output_type": "display_data",
          "data": {
            "application/javascript": [
              "\n",
              "(function(root) {\n",
              "  function now() {\n",
              "    return new Date();\n",
              "  }\n",
              "\n",
              "  var force = true;\n",
              "\n",
              "  if (typeof root._bokeh_onload_callbacks === \"undefined\" || force === true) {\n",
              "    root._bokeh_onload_callbacks = [];\n",
              "    root._bokeh_is_loading = undefined;\n",
              "  }\n",
              "\n",
              "  var JS_MIME_TYPE = 'application/javascript';\n",
              "  var HTML_MIME_TYPE = 'text/html';\n",
              "  var EXEC_MIME_TYPE = 'application/vnd.bokehjs_exec.v0+json';\n",
              "  var CLASS_NAME = 'output_bokeh rendered_html';\n",
              "\n",
              "  /**\n",
              "   * Render data to the DOM node\n",
              "   */\n",
              "  function render(props, node) {\n",
              "    var script = document.createElement(\"script\");\n",
              "    node.appendChild(script);\n",
              "  }\n",
              "\n",
              "  /**\n",
              "   * Handle when an output is cleared or removed\n",
              "   */\n",
              "  function handleClearOutput(event, handle) {\n",
              "    var cell = handle.cell;\n",
              "\n",
              "    var id = cell.output_area._bokeh_element_id;\n",
              "    var server_id = cell.output_area._bokeh_server_id;\n",
              "    // Clean up Bokeh references\n",
              "    if (id != null && id in Bokeh.index) {\n",
              "      Bokeh.index[id].model.document.clear();\n",
              "      delete Bokeh.index[id];\n",
              "    }\n",
              "\n",
              "    if (server_id !== undefined) {\n",
              "      // Clean up Bokeh references\n",
              "      var cmd = \"from bokeh.io.state import curstate; print(curstate().uuid_to_server['\" + server_id + \"'].get_sessions()[0].document.roots[0]._id)\";\n",
              "      cell.notebook.kernel.execute(cmd, {\n",
              "        iopub: {\n",
              "          output: function(msg) {\n",
              "            var id = msg.content.text.trim();\n",
              "            if (id in Bokeh.index) {\n",
              "              Bokeh.index[id].model.document.clear();\n",
              "              delete Bokeh.index[id];\n",
              "            }\n",
              "          }\n",
              "        }\n",
              "      });\n",
              "      // Destroy server and session\n",
              "      var cmd = \"import bokeh.io.notebook as ion; ion.destroy_server('\" + server_id + \"')\";\n",
              "      cell.notebook.kernel.execute(cmd);\n",
              "    }\n",
              "  }\n",
              "\n",
              "  /**\n",
              "   * Handle when a new output is added\n",
              "   */\n",
              "  function handleAddOutput(event, handle) {\n",
              "    var output_area = handle.output_area;\n",
              "    var output = handle.output;\n",
              "\n",
              "    // limit handleAddOutput to display_data with EXEC_MIME_TYPE content only\n",
              "    if ((output.output_type != \"display_data\") || (!output.data.hasOwnProperty(EXEC_MIME_TYPE))) {\n",
              "      return\n",
              "    }\n",
              "\n",
              "    var toinsert = output_area.element.find(\".\" + CLASS_NAME.split(' ')[0]);\n",
              "\n",
              "    if (output.metadata[EXEC_MIME_TYPE][\"id\"] !== undefined) {\n",
              "      toinsert[toinsert.length - 1].firstChild.textContent = output.data[JS_MIME_TYPE];\n",
              "      // store reference to embed id on output_area\n",
              "      output_area._bokeh_element_id = output.metadata[EXEC_MIME_TYPE][\"id\"];\n",
              "    }\n",
              "    if (output.metadata[EXEC_MIME_TYPE][\"server_id\"] !== undefined) {\n",
              "      var bk_div = document.createElement(\"div\");\n",
              "      bk_div.innerHTML = output.data[HTML_MIME_TYPE];\n",
              "      var script_attrs = bk_div.children[0].attributes;\n",
              "      for (var i = 0; i < script_attrs.length; i++) {\n",
              "        toinsert[toinsert.length - 1].firstChild.setAttribute(script_attrs[i].name, script_attrs[i].value);\n",
              "        toinsert[toinsert.length - 1].firstChild.textContent = bk_div.children[0].textContent\n",
              "      }\n",
              "      // store reference to server id on output_area\n",
              "      output_area._bokeh_server_id = output.metadata[EXEC_MIME_TYPE][\"server_id\"];\n",
              "    }\n",
              "  }\n",
              "\n",
              "  function register_renderer(events, OutputArea) {\n",
              "\n",
              "    function append_mime(data, metadata, element) {\n",
              "      // create a DOM node to render to\n",
              "      var toinsert = this.create_output_subarea(\n",
              "        metadata,\n",
              "        CLASS_NAME,\n",
              "        EXEC_MIME_TYPE\n",
              "      );\n",
              "      this.keyboard_manager.register_events(toinsert);\n",
              "      // Render to node\n",
              "      var props = {data: data, metadata: metadata[EXEC_MIME_TYPE]};\n",
              "      render(props, toinsert[toinsert.length - 1]);\n",
              "      element.append(toinsert);\n",
              "      return toinsert\n",
              "    }\n",
              "\n",
              "    /* Handle when an output is cleared or removed */\n",
              "    events.on('clear_output.CodeCell', handleClearOutput);\n",
              "    events.on('delete.Cell', handleClearOutput);\n",
              "\n",
              "    /* Handle when a new output is added */\n",
              "    events.on('output_added.OutputArea', handleAddOutput);\n",
              "\n",
              "    /**\n",
              "     * Register the mime type and append_mime function with output_area\n",
              "     */\n",
              "    OutputArea.prototype.register_mime_type(EXEC_MIME_TYPE, append_mime, {\n",
              "      /* Is output safe? */\n",
              "      safe: true,\n",
              "      /* Index of renderer in `output_area.display_order` */\n",
              "      index: 0\n",
              "    });\n",
              "  }\n",
              "\n",
              "  // register the mime type if in Jupyter Notebook environment and previously unregistered\n",
              "  if (root.Jupyter !== undefined) {\n",
              "    var events = require('base/js/events');\n",
              "    var OutputArea = require('notebook/js/outputarea').OutputArea;\n",
              "\n",
              "    if (OutputArea.prototype.mime_types().indexOf(EXEC_MIME_TYPE) == -1) {\n",
              "      register_renderer(events, OutputArea);\n",
              "    }\n",
              "  }\n",
              "\n",
              "  \n",
              "  if (typeof (root._bokeh_timeout) === \"undefined\" || force === true) {\n",
              "    root._bokeh_timeout = Date.now() + 5000;\n",
              "    root._bokeh_failed_load = false;\n",
              "  }\n",
              "\n",
              "  var NB_LOAD_WARNING = {'data': {'text/html':\n",
              "     \"<div style='background-color: #fdd'>\\n\"+\n",
              "     \"<p>\\n\"+\n",
              "     \"BokehJS does not appear to have successfully loaded. If loading BokehJS from CDN, this \\n\"+\n",
              "     \"may be due to a slow or bad network connection. Possible fixes:\\n\"+\n",
              "     \"</p>\\n\"+\n",
              "     \"<ul>\\n\"+\n",
              "     \"<li>re-rerun `output_notebook()` to attempt to load from CDN again, or</li>\\n\"+\n",
              "     \"<li>use INLINE resources instead, as so:</li>\\n\"+\n",
              "     \"</ul>\\n\"+\n",
              "     \"<code>\\n\"+\n",
              "     \"from bokeh.resources import INLINE\\n\"+\n",
              "     \"output_notebook(resources=INLINE)\\n\"+\n",
              "     \"</code>\\n\"+\n",
              "     \"</div>\"}};\n",
              "\n",
              "  function display_loaded() {\n",
              "    var el = document.getElementById(null);\n",
              "    if (el != null) {\n",
              "      el.textContent = \"BokehJS is loading...\";\n",
              "    }\n",
              "    if (root.Bokeh !== undefined) {\n",
              "      if (el != null) {\n",
              "        el.textContent = \"BokehJS \" + root.Bokeh.version + \" successfully loaded.\";\n",
              "      }\n",
              "    } else if (Date.now() < root._bokeh_timeout) {\n",
              "      setTimeout(display_loaded, 100)\n",
              "    }\n",
              "  }\n",
              "\n",
              "\n",
              "  function run_callbacks() {\n",
              "    try {\n",
              "      root._bokeh_onload_callbacks.forEach(function(callback) {\n",
              "        if (callback != null)\n",
              "          callback();\n",
              "      });\n",
              "    } finally {\n",
              "      delete root._bokeh_onload_callbacks\n",
              "    }\n",
              "    console.debug(\"Bokeh: all callbacks have finished\");\n",
              "  }\n",
              "\n",
              "  function load_libs(css_urls, js_urls, callback) {\n",
              "    if (css_urls == null) css_urls = [];\n",
              "    if (js_urls == null) js_urls = [];\n",
              "\n",
              "    root._bokeh_onload_callbacks.push(callback);\n",
              "    if (root._bokeh_is_loading > 0) {\n",
              "      console.debug(\"Bokeh: BokehJS is being loaded, scheduling callback at\", now());\n",
              "      return null;\n",
              "    }\n",
              "    if (js_urls == null || js_urls.length === 0) {\n",
              "      run_callbacks();\n",
              "      return null;\n",
              "    }\n",
              "    console.debug(\"Bokeh: BokehJS not loaded, scheduling load and callback at\", now());\n",
              "    root._bokeh_is_loading = css_urls.length + js_urls.length;\n",
              "\n",
              "    function on_load() {\n",
              "      root._bokeh_is_loading--;\n",
              "      if (root._bokeh_is_loading === 0) {\n",
              "        console.debug(\"Bokeh: all BokehJS libraries/stylesheets loaded\");\n",
              "        run_callbacks()\n",
              "      }\n",
              "    }\n",
              "\n",
              "    function on_error() {\n",
              "      console.error(\"failed to load \" + url);\n",
              "    }\n",
              "\n",
              "    for (var i = 0; i < css_urls.length; i++) {\n",
              "      var url = css_urls[i];\n",
              "      const element = document.createElement(\"link\");\n",
              "      element.onload = on_load;\n",
              "      element.onerror = on_error;\n",
              "      element.rel = \"stylesheet\";\n",
              "      element.type = \"text/css\";\n",
              "      element.href = url;\n",
              "      console.debug(\"Bokeh: injecting link tag for BokehJS stylesheet: \", url);\n",
              "      document.body.appendChild(element);\n",
              "    }\n",
              "\n",
              "    const hashes = {\"https://cdn.bokeh.org/bokeh/release/bokeh-2.1.1.min.js\": \"kLr4fYcqcSpbuI95brIH3vnnYCquzzSxHPU6XGQCIkQRGJwhg0StNbj1eegrHs12\", \"https://cdn.bokeh.org/bokeh/release/bokeh-widgets-2.1.1.min.js\": \"xIGPmVtaOm+z0BqfSOMn4lOR6ciex448GIKG4eE61LsAvmGj48XcMQZtKcE/UXZe\", \"https://cdn.bokeh.org/bokeh/release/bokeh-tables-2.1.1.min.js\": \"Dc9u1wF/0zApGIWoBbH77iWEHtdmkuYWG839Uzmv8y8yBLXebjO9ZnERsde5Ln/P\", \"https://cdn.bokeh.org/bokeh/release/bokeh-gl-2.1.1.min.js\": \"cT9JaBz7GiRXdENrJLZNSC6eMNF3nh3fa5fTF51Svp+ukxPdwcU5kGXGPBgDCa2j\"};\n",
              "\n",
              "    for (var i = 0; i < js_urls.length; i++) {\n",
              "      var url = js_urls[i];\n",
              "      var element = document.createElement('script');\n",
              "      element.onload = on_load;\n",
              "      element.onerror = on_error;\n",
              "      element.async = false;\n",
              "      element.src = url;\n",
              "      if (url in hashes) {\n",
              "        element.crossOrigin = \"anonymous\";\n",
              "        element.integrity = \"sha384-\" + hashes[url];\n",
              "      }\n",
              "      console.debug(\"Bokeh: injecting script tag for BokehJS library: \", url);\n",
              "      document.head.appendChild(element);\n",
              "    }\n",
              "  };\n",
              "\n",
              "  function inject_raw_css(css) {\n",
              "    const element = document.createElement(\"style\");\n",
              "    element.appendChild(document.createTextNode(css));\n",
              "    document.body.appendChild(element);\n",
              "  }\n",
              "\n",
              "  \n",
              "  var js_urls = [\"https://cdn.bokeh.org/bokeh/release/bokeh-2.1.1.min.js\", \"https://cdn.bokeh.org/bokeh/release/bokeh-widgets-2.1.1.min.js\", \"https://cdn.bokeh.org/bokeh/release/bokeh-tables-2.1.1.min.js\", \"https://cdn.bokeh.org/bokeh/release/bokeh-gl-2.1.1.min.js\"];\n",
              "  var css_urls = [];\n",
              "  \n",
              "\n",
              "  var inline_js = [\n",
              "    function(Bokeh) {\n",
              "      Bokeh.set_log_level(\"info\");\n",
              "    },\n",
              "    function(Bokeh) {\n",
              "    \n",
              "    \n",
              "    }\n",
              "  ];\n",
              "\n",
              "  function run_inline_js() {\n",
              "    \n",
              "    if (root.Bokeh !== undefined || force === true) {\n",
              "      \n",
              "    for (var i = 0; i < inline_js.length; i++) {\n",
              "      inline_js[i].call(root, root.Bokeh);\n",
              "    }\n",
              "    } else if (Date.now() < root._bokeh_timeout) {\n",
              "      setTimeout(run_inline_js, 100);\n",
              "    } else if (!root._bokeh_failed_load) {\n",
              "      console.log(\"Bokeh: BokehJS failed to load within specified timeout.\");\n",
              "      root._bokeh_failed_load = true;\n",
              "    } else if (force !== true) {\n",
              "      var cell = $(document.getElementById(null)).parents('.cell').data().cell;\n",
              "      cell.output_area.append_execute_result(NB_LOAD_WARNING)\n",
              "    }\n",
              "\n",
              "  }\n",
              "\n",
              "  if (root._bokeh_is_loading === 0) {\n",
              "    console.debug(\"Bokeh: BokehJS loaded, going straight to plotting\");\n",
              "    run_inline_js();\n",
              "  } else {\n",
              "    load_libs(css_urls, js_urls, function() {\n",
              "      console.debug(\"Bokeh: BokehJS plotting callback run at\", now());\n",
              "      run_inline_js();\n",
              "    });\n",
              "  }\n",
              "}(window));"
            ],
            "application/vnd.bokehjs_load.v0+json": "\n(function(root) {\n  function now() {\n    return new Date();\n  }\n\n  var force = true;\n\n  if (typeof root._bokeh_onload_callbacks === \"undefined\" || force === true) {\n    root._bokeh_onload_callbacks = [];\n    root._bokeh_is_loading = undefined;\n  }\n\n  \n\n  \n  if (typeof (root._bokeh_timeout) === \"undefined\" || force === true) {\n    root._bokeh_timeout = Date.now() + 5000;\n    root._bokeh_failed_load = false;\n  }\n\n  var NB_LOAD_WARNING = {'data': {'text/html':\n     \"<div style='background-color: #fdd'>\\n\"+\n     \"<p>\\n\"+\n     \"BokehJS does not appear to have successfully loaded. If loading BokehJS from CDN, this \\n\"+\n     \"may be due to a slow or bad network connection. Possible fixes:\\n\"+\n     \"</p>\\n\"+\n     \"<ul>\\n\"+\n     \"<li>re-rerun `output_notebook()` to attempt to load from CDN again, or</li>\\n\"+\n     \"<li>use INLINE resources instead, as so:</li>\\n\"+\n     \"</ul>\\n\"+\n     \"<code>\\n\"+\n     \"from bokeh.resources import INLINE\\n\"+\n     \"output_notebook(resources=INLINE)\\n\"+\n     \"</code>\\n\"+\n     \"</div>\"}};\n\n  function display_loaded() {\n    var el = document.getElementById(null);\n    if (el != null) {\n      el.textContent = \"BokehJS is loading...\";\n    }\n    if (root.Bokeh !== undefined) {\n      if (el != null) {\n        el.textContent = \"BokehJS \" + root.Bokeh.version + \" successfully loaded.\";\n      }\n    } else if (Date.now() < root._bokeh_timeout) {\n      setTimeout(display_loaded, 100)\n    }\n  }\n\n\n  function run_callbacks() {\n    try {\n      root._bokeh_onload_callbacks.forEach(function(callback) {\n        if (callback != null)\n          callback();\n      });\n    } finally {\n      delete root._bokeh_onload_callbacks\n    }\n    console.debug(\"Bokeh: all callbacks have finished\");\n  }\n\n  function load_libs(css_urls, js_urls, callback) {\n    if (css_urls == null) css_urls = [];\n    if (js_urls == null) js_urls = [];\n\n    root._bokeh_onload_callbacks.push(callback);\n    if (root._bokeh_is_loading > 0) {\n      console.debug(\"Bokeh: BokehJS is being loaded, scheduling callback at\", now());\n      return null;\n    }\n    if (js_urls == null || js_urls.length === 0) {\n      run_callbacks();\n      return null;\n    }\n    console.debug(\"Bokeh: BokehJS not loaded, scheduling load and callback at\", now());\n    root._bokeh_is_loading = css_urls.length + js_urls.length;\n\n    function on_load() {\n      root._bokeh_is_loading--;\n      if (root._bokeh_is_loading === 0) {\n        console.debug(\"Bokeh: all BokehJS libraries/stylesheets loaded\");\n        run_callbacks()\n      }\n    }\n\n    function on_error() {\n      console.error(\"failed to load \" + url);\n    }\n\n    for (var i = 0; i < css_urls.length; i++) {\n      var url = css_urls[i];\n      const element = document.createElement(\"link\");\n      element.onload = on_load;\n      element.onerror = on_error;\n      element.rel = \"stylesheet\";\n      element.type = \"text/css\";\n      element.href = url;\n      console.debug(\"Bokeh: injecting link tag for BokehJS stylesheet: \", url);\n      document.body.appendChild(element);\n    }\n\n    const hashes = {\"https://cdn.bokeh.org/bokeh/release/bokeh-2.1.1.min.js\": \"kLr4fYcqcSpbuI95brIH3vnnYCquzzSxHPU6XGQCIkQRGJwhg0StNbj1eegrHs12\", \"https://cdn.bokeh.org/bokeh/release/bokeh-widgets-2.1.1.min.js\": \"xIGPmVtaOm+z0BqfSOMn4lOR6ciex448GIKG4eE61LsAvmGj48XcMQZtKcE/UXZe\", \"https://cdn.bokeh.org/bokeh/release/bokeh-tables-2.1.1.min.js\": \"Dc9u1wF/0zApGIWoBbH77iWEHtdmkuYWG839Uzmv8y8yBLXebjO9ZnERsde5Ln/P\", \"https://cdn.bokeh.org/bokeh/release/bokeh-gl-2.1.1.min.js\": \"cT9JaBz7GiRXdENrJLZNSC6eMNF3nh3fa5fTF51Svp+ukxPdwcU5kGXGPBgDCa2j\"};\n\n    for (var i = 0; i < js_urls.length; i++) {\n      var url = js_urls[i];\n      var element = document.createElement('script');\n      element.onload = on_load;\n      element.onerror = on_error;\n      element.async = false;\n      element.src = url;\n      if (url in hashes) {\n        element.crossOrigin = \"anonymous\";\n        element.integrity = \"sha384-\" + hashes[url];\n      }\n      console.debug(\"Bokeh: injecting script tag for BokehJS library: \", url);\n      document.head.appendChild(element);\n    }\n  };\n\n  function inject_raw_css(css) {\n    const element = document.createElement(\"style\");\n    element.appendChild(document.createTextNode(css));\n    document.body.appendChild(element);\n  }\n\n  \n  var js_urls = [\"https://cdn.bokeh.org/bokeh/release/bokeh-2.1.1.min.js\", \"https://cdn.bokeh.org/bokeh/release/bokeh-widgets-2.1.1.min.js\", \"https://cdn.bokeh.org/bokeh/release/bokeh-tables-2.1.1.min.js\", \"https://cdn.bokeh.org/bokeh/release/bokeh-gl-2.1.1.min.js\"];\n  var css_urls = [];\n  \n\n  var inline_js = [\n    function(Bokeh) {\n      Bokeh.set_log_level(\"info\");\n    },\n    function(Bokeh) {\n    \n    \n    }\n  ];\n\n  function run_inline_js() {\n    \n    if (root.Bokeh !== undefined || force === true) {\n      \n    for (var i = 0; i < inline_js.length; i++) {\n      inline_js[i].call(root, root.Bokeh);\n    }\n    } else if (Date.now() < root._bokeh_timeout) {\n      setTimeout(run_inline_js, 100);\n    } else if (!root._bokeh_failed_load) {\n      console.log(\"Bokeh: BokehJS failed to load within specified timeout.\");\n      root._bokeh_failed_load = true;\n    } else if (force !== true) {\n      var cell = $(document.getElementById(null)).parents('.cell').data().cell;\n      cell.output_area.append_execute_result(NB_LOAD_WARNING)\n    }\n\n  }\n\n  if (root._bokeh_is_loading === 0) {\n    console.debug(\"Bokeh: BokehJS loaded, going straight to plotting\");\n    run_inline_js();\n  } else {\n    load_libs(css_urls, js_urls, function() {\n      console.debug(\"Bokeh: BokehJS plotting callback run at\", now());\n      run_inline_js();\n    });\n  }\n}(window));"
          },
          "metadata": {
            "tags": []
          }
        },
        {
          "output_type": "display_data",
          "data": {
            "text/html": [
              "\n",
              "\n",
              "\n",
              "\n",
              "\n",
              "\n",
              "  <div class=\"bk-root\" id=\"83ec3e87-aa98-468f-9023-497983bc9ca6\" data-root-id=\"1234\"></div>\n"
            ]
          },
          "metadata": {
            "tags": []
          }
        },
        {
          "output_type": "display_data",
          "data": {
            "application/javascript": [
              "(function(root) {\n",
              "  function embed_document(root) {\n",
              "    \n",
              "  var docs_json = {\"189c0bf5-daee-4861-8db6-9abad21474f2\":{\"roots\":{\"references\":[{\"attributes\":{\"below\":[{\"id\":\"1245\"}],\"center\":[{\"id\":\"1248\"},{\"id\":\"1252\"},{\"id\":\"1292\"}],\"left\":[{\"id\":\"1249\"}],\"plot_width\":800,\"renderers\":[{\"id\":\"1270\"}],\"title\":{\"id\":\"1235\"},\"toolbar\":{\"id\":\"1260\"},\"x_range\":{\"id\":\"1237\"},\"x_scale\":{\"id\":\"1241\"},\"y_range\":{\"id\":\"1239\"},\"y_scale\":{\"id\":\"1243\"}},\"id\":\"1234\",\"subtype\":\"Figure\",\"type\":\"Plot\"},{\"attributes\":{\"months\":[0,6]},\"id\":\"1289\",\"type\":\"MonthsTicker\"},{\"attributes\":{\"active_drag\":\"auto\",\"active_inspect\":\"auto\",\"active_multi\":null,\"active_scroll\":\"auto\",\"active_tap\":\"auto\",\"tools\":[{\"id\":\"1253\"},{\"id\":\"1254\"},{\"id\":\"1255\"},{\"id\":\"1256\"},{\"id\":\"1257\"},{\"id\":\"1258\"}]},\"id\":\"1260\",\"type\":\"Toolbar\"},{\"attributes\":{},\"id\":\"1277\",\"type\":\"UnionRenderers\"},{\"attributes\":{},\"id\":\"1275\",\"type\":\"DatetimeTickFormatter\"},{\"attributes\":{\"axis_label\":\"Date\",\"formatter\":{\"id\":\"1275\"},\"ticker\":{\"id\":\"1246\"}},\"id\":\"1245\",\"type\":\"DatetimeAxis\"},{\"attributes\":{},\"id\":\"1273\",\"type\":\"BasicTickFormatter\"},{\"attributes\":{},\"id\":\"1258\",\"type\":\"HelpTool\"},{\"attributes\":{\"num_minor_ticks\":5,\"tickers\":[{\"id\":\"1279\"},{\"id\":\"1280\"},{\"id\":\"1281\"},{\"id\":\"1282\"},{\"id\":\"1283\"},{\"id\":\"1284\"},{\"id\":\"1285\"},{\"id\":\"1286\"},{\"id\":\"1287\"},{\"id\":\"1288\"},{\"id\":\"1289\"},{\"id\":\"1290\"}]},\"id\":\"1246\",\"type\":\"DatetimeTicker\"},{\"attributes\":{},\"id\":\"1290\",\"type\":\"YearsTicker\"},{\"attributes\":{},\"id\":\"1243\",\"type\":\"LinearScale\"},{\"attributes\":{\"source\":{\"id\":\"1267\"}},\"id\":\"1271\",\"type\":\"CDSView\"},{\"attributes\":{},\"id\":\"1241\",\"type\":\"LinearScale\"},{\"attributes\":{\"bottom_units\":\"screen\",\"fill_alpha\":0.5,\"fill_color\":\"lightgrey\",\"left_units\":\"screen\",\"level\":\"overlay\",\"line_alpha\":1.0,\"line_color\":\"black\",\"line_dash\":[4,4],\"line_width\":2,\"right_units\":\"screen\",\"top_units\":\"screen\"},\"id\":\"1259\",\"type\":\"BoxAnnotation\"},{\"attributes\":{},\"id\":\"1237\",\"type\":\"DataRange1d\"},{\"attributes\":{\"line_color\":\"#f2a900\",\"x\":{\"field\":\"x\"},\"y\":{\"field\":\"y\"}},\"id\":\"1268\",\"type\":\"Line\"},{\"attributes\":{},\"id\":\"1239\",\"type\":\"DataRange1d\"},{\"attributes\":{\"mantissas\":[1,2,5],\"max_interval\":500.0,\"num_minor_ticks\":0},\"id\":\"1279\",\"type\":\"AdaptiveTicker\"},{\"attributes\":{},\"id\":\"1257\",\"type\":\"ResetTool\"},{\"attributes\":{},\"id\":\"1278\",\"type\":\"Selection\"},{\"attributes\":{\"text\":\"Crypto Prices\"},\"id\":\"1235\",\"type\":\"Title\"},{\"attributes\":{\"line_alpha\":0.1,\"line_color\":\"#f2a900\",\"x\":{\"field\":\"x\"},\"y\":{\"field\":\"y\"}},\"id\":\"1269\",\"type\":\"Line\"},{\"attributes\":{\"days\":[1,15]},\"id\":\"1285\",\"type\":\"DaysTicker\"},{\"attributes\":{\"items\":[{\"id\":\"1293\"}],\"location\":\"top_left\"},\"id\":\"1292\",\"type\":\"Legend\"},{\"attributes\":{},\"id\":\"1256\",\"type\":\"SaveTool\"},{\"attributes\":{\"days\":[1,8,15,22]},\"id\":\"1284\",\"type\":\"DaysTicker\"},{\"attributes\":{\"label\":{\"value\":\"Bitcoin\"},\"renderers\":[{\"id\":\"1270\"}]},\"id\":\"1293\",\"type\":\"LegendItem\"},{\"attributes\":{\"days\":[1,4,7,10,13,16,19,22,25,28]},\"id\":\"1283\",\"type\":\"DaysTicker\"},{\"attributes\":{\"days\":[1,2,3,4,5,6,7,8,9,10,11,12,13,14,15,16,17,18,19,20,21,22,23,24,25,26,27,28,29,30,31]},\"id\":\"1282\",\"type\":\"DaysTicker\"},{\"attributes\":{\"axis\":{\"id\":\"1245\"},\"grid_line_alpha\":0.3,\"ticker\":null},\"id\":\"1248\",\"type\":\"Grid\"},{\"attributes\":{\"base\":24,\"mantissas\":[1,2,4,6,8,12],\"max_interval\":43200000.0,\"min_interval\":3600000.0,\"num_minor_ticks\":0},\"id\":\"1281\",\"type\":\"AdaptiveTicker\"},{\"attributes\":{\"axis_label\":\"Price\",\"formatter\":{\"id\":\"1273\"},\"ticker\":{\"id\":\"1250\"}},\"id\":\"1249\",\"type\":\"LinearAxis\"},{\"attributes\":{},\"id\":\"1250\",\"type\":\"BasicTicker\"},{\"attributes\":{\"overlay\":{\"id\":\"1259\"}},\"id\":\"1255\",\"type\":\"BoxZoomTool\"},{\"attributes\":{\"base\":60,\"mantissas\":[1,2,5,10,15,20,30],\"max_interval\":1800000.0,\"min_interval\":1000.0,\"num_minor_ticks\":0},\"id\":\"1280\",\"type\":\"AdaptiveTicker\"},{\"attributes\":{\"months\":[0,2,4,6,8,10]},\"id\":\"1287\",\"type\":\"MonthsTicker\"},{\"attributes\":{\"axis\":{\"id\":\"1249\"},\"dimension\":1,\"grid_line_alpha\":0.3,\"ticker\":null},\"id\":\"1252\",\"type\":\"Grid\"},{\"attributes\":{\"data_source\":{\"id\":\"1267\"},\"glyph\":{\"id\":\"1268\"},\"hover_glyph\":null,\"muted_glyph\":null,\"nonselection_glyph\":{\"id\":\"1269\"},\"selection_glyph\":null,\"view\":{\"id\":\"1271\"}},\"id\":\"1270\",\"type\":\"GlyphRenderer\"},{\"attributes\":{\"months\":[0,1,2,3,4,5,6,7,8,9,10,11]},\"id\":\"1286\",\"type\":\"MonthsTicker\"},{\"attributes\":{\"data\":{\"x\":{\"__ndarray__\":\"AAAQ4j5dd0IAAPhQQl13QgAA4L9FXXdCAADILkldd0IAALCdTF13QgAAmAxQXXdCAACAe1Ndd0IAAGjqVl13QgAAUFlaXXdCAAA4yF1dd0IAACA3YV13QgAACKZkXXdCAADwFGhdd0IAANiDa113QgAAwPJuXXdCAACoYXJdd0IAAJDQdV13QgAAeD95XXdCAABgrnxdd0IAAEgdgF13QgAAMIyDXXdCAAAY+4Zdd0IAAABqil13QgAA6NiNXXdCAADQR5Fdd0IAALi2lF13QgAAoCWYXXdCAACIlJtdd0IAAHADn113QgAAWHKiXXdCAABA4aVdd0IAAChQqV13QgAAEL+sXXdCAAD4LbBdd0IAAOCcs113QgAAyAu3XXdCAACwerpdd0IAAJjpvV13QgAAgFjBXXdCAABox8Rdd0IAAFA2yF13QgAAOKXLXXdCAAAgFM9dd0IAAAiD0l13QgAA8PHVXXdCAADYYNldd0IAAMDP3F13QgAAqD7gXXdCAACQreNdd0IAAHgc5113QgAAYIvqXXdCAABI+u1dd0IAADBp8V13QgAAGNj0XXdCAAAAR/hdd0IAAOi1+113QgAA0CT/XXdCAAC4kwJed0IAAKACBl53QgAAiHEJXndCAABw4Axed0IAAFhPEF53QgAAQL4TXndCAAAoLRded0IAABCcGl53QgAA+AoeXndCAADgeSFed0IAAMjoJF53QgAAsFcoXndCAACYxited0IAAIA1L153QgAAaKQyXndCAABQEzZed0IAADiCOV53QgAAIPE8XndCAAAIYEBed0IAAPDOQ153QgAA2D1HXndCAADArEped0IAAKgbTl53QgAAkIpRXndCAAB4+VRed0IAAGBoWF53QgAASNdbXndCAAAwRl9ed0IAABi1Yl53QgAAACRmXndCAADokmled0IAANABbV53QgAAuHBwXndCAACg33Ned0IAAIhOd153QgAAcL16XndCAABYLH5ed0IAAECbgV53QgAAKAqFXndCAAAQeYhed0IAAPjni153QgAA4FaPXndCAADIxZJed0IAALA0ll53QgAAmKOZXndCAACAEp1ed0IAAGiBoF53QgAAUPCjXndCAAA4X6ded0IAACDOql53QgAACD2uXndCAADwq7Fed0IAANgatV53QgAAwIm4XndCAACo+Lted0IAAJBnv153QgAAeNbCXndCAABgRcZed0IAAEi0yV53QgAAMCPNXndCAAAYktBed0IAAAAB1F53QgAA6G/XXndCAADQ3tped0IAALhN3l53QgAAoLzhXndCAACIK+Ved0IAAHCa6F53QgAAWAnsXndCAABAeO9ed0IAACjn8l53QgAAEFb2XndCAAD4xPled0IAAOAz/V53QgAAyKIAX3dCAACwEQRfd0IAAJiAB193QgAAgO8KX3dCAABoXg5fd0IAAFDNEV93QgAAODwVX3dCAAAgqxhfd0IAAAgaHF93QgAA8IgfX3dCAADY9yJfd0IAAMBmJl93QgAAqNUpX3dCAACQRC1fd0IAAHizMF93QgAAYCI0X3dCAABIkTdfd0IAADAAO193QgAAGG8+X3dCAAAA3kFfd0IAAOhMRV93QgAA0LtIX3dCAAC4Kkxfd0IAAKCZT193QgAAiAhTX3dCAABwd1Zfd0IAAFjmWV93QgAAQFVdX3dCAAAoxGBfd0IAABAzZF93QgAA+KFnX3dCAADgEGtfd0IAAMh/bl93QgAAsO5xX3dCAACYXXVfd0IAAIDMeF93QgAAaDt8X3dCAABQqn9fd0I=\",\"dtype\":\"float64\",\"order\":\"little\",\"shape\":[169]},\"y\":{\"__ndarray__\":\"MzMzM4NO0EAfhetR+ErQQClcj8KVNNBAKVyPwsVL0EAfhetRiD3QQHsUrkcRP9BA9ihcj4Je0EAAAAAAYFLQQPYoXI8SRtBA4XoUrodj0EAzMzMzE53QQK5H4XrUsdBAAAAAABCR0EAAAAAAwMXQQM3MzMxc7tBA16NwPUo50UC4HoXrEWLRQK5H4XrEPdFAw/UoXA9L0UDNzMzMXEbRQAAAAABAO9FAw/UoXB820UAfhetRKETRQAAAAACgT9FAAAAAAIBZ0UDXo3A9ekjRQNejcD1KntFAMzMzM+Pz0UA9CtejkDnRQArXo3DNYdFAAAAAAICq0UC4HoXrgcvRQHsUrkdhs9FA7FG4HgXW0UAAAAAAQNbRQI/C9SgsoNFAhetRuH520UDD9Shcz0jRQLgeheuxfNFAexSuR+Fj0UBI4XoUDn7RQD0K16MgXtFAAAAAAABB0UAUrkfhaj/RQFK4HoX7X9FArkfhenRp0UDNzMzMfF7RQNejcD1KWtFAAAAAAIBx0UB7FK5H0YbRQB+F61FYg9FASOF6FN5x0UBSuB6F+33RQFyPwvUoWdFA16NwPUpC0UCPwvUorCHRQNejcD3qB9FAZmZmZmY10UDD9Shcn1rRQMP1KFw/T9FAzczMzHyT0UAUrkfhyrPRQIXrUbjuotFAH4XrUbiZ0UD2KFyPMo7RQOF6FK6Hh9FAuB6F6/GN0UAAAAAAgKDRQPYoXI9CiNFASOF6FE510UBI4XoUXmjRQHsUrkdBYdFAw/UoXJ+N0UAK16NwnY7RQEjhehReitFAMzMzM3PH0UDsUbge5bjRQM3MzMzswdFAmpmZmbnO0UC4HoXrAeTRQOF6FK7nxtFAKVyPwrXj0UC4HoXrIdvRQFK4HoWL0NFAH4XrUZjU0UAAAAAAQDjSQEjhehReQNJAj8L1KCxE0kAAAAAAcEXSQOxRuB6FKNJASOF6FB400kDXo3A9ajbSQLgehesRJtJAcT0K1zM10kCamZmZ6T/SQAAAAACAb9JAMzMzMyNm0kDhehSuh1HSQClcj8L1OtJAXI/C9Rgn0kAAAAAAkDzSQM3MzMzcNdJAFK5H4eo80kCF61G4flvSQM3MzMwMMdJACtejcD0u0kAAAAAAgB3SQEjhehROONJArkfhejRh0kBcj8L12FHSQArXo3DtYdJA9ihcj/JP0kAAAAAAAFbSQD0K16MwUtJAAAAAAAA+0kAUrkfhWjjSQIXrUbguOtJAj8L1KAw00kAAAAAAQEnSQM3MzMxcINJAUrgehSsJ0kBI4XoUHirSQK5H4XpkItJAKVyPwkUs0kAUrkfhChXSQKRwPQr3D9JAhetRuD4W0kBmZmZmJszRQKRwPQo39NFA9ihcj4LB0UBSuB6FC3fRQDMzMzMDsNFApHA9CrfI0UAK16NwXcXRQB+F61EY4NFAZmZmZgYg0kAAAAAA0A7SQHE9CtdzF9JApHA9Chcn0kCuR+F6hCLSQJqZmZmJKNJAmpmZmckz0kDNzMzMzADSQGZmZmb2t9FAZmZmZrbO0UDXo3A9SszRQEjhehRu7tFApHA9CpcL0kBcj8L1+ATSQEjhehROGNJAKVyPwvUL0kDsUbgeRSnSQAAAAAAAOtJAKVyPwuVS0kDD9ShcPyXSQFyPwvWoMtJAw/UoXJ8u0kB7FK5HYSDSQMP1KFxP2NFAMzMzMyP30UBmZmZm5uvRQArXo3AN7dFAAAAAAIAJ0kC4HoXrYffRQArXo3AN/dFA9ihcj8L+0UBmZmZm1vPRQDMzMzNj8NFAZmZmZiYT0kA=\",\"dtype\":\"float64\",\"order\":\"little\",\"shape\":[169]}},\"selected\":{\"id\":\"1278\"},\"selection_policy\":{\"id\":\"1277\"}},\"id\":\"1267\",\"type\":\"ColumnDataSource\"},{\"attributes\":{\"months\":[0,4,8]},\"id\":\"1288\",\"type\":\"MonthsTicker\"},{\"attributes\":{},\"id\":\"1254\",\"type\":\"WheelZoomTool\"},{\"attributes\":{},\"id\":\"1253\",\"type\":\"PanTool\"}],\"root_ids\":[\"1234\"]},\"title\":\"Bokeh Application\",\"version\":\"2.1.1\"}};\n",
              "  var render_items = [{\"docid\":\"189c0bf5-daee-4861-8db6-9abad21474f2\",\"root_ids\":[\"1234\"],\"roots\":{\"1234\":\"83ec3e87-aa98-468f-9023-497983bc9ca6\"}}];\n",
              "  root.Bokeh.embed.embed_items_notebook(docs_json, render_items);\n",
              "\n",
              "  }\n",
              "  if (root.Bokeh !== undefined) {\n",
              "    embed_document(root);\n",
              "  } else {\n",
              "    var attempts = 0;\n",
              "    var timer = setInterval(function(root) {\n",
              "      if (root.Bokeh !== undefined) {\n",
              "        clearInterval(timer);\n",
              "        embed_document(root);\n",
              "      } else {\n",
              "        attempts++;\n",
              "        if (attempts > 100) {\n",
              "          clearInterval(timer);\n",
              "          console.log(\"Bokeh: ERROR: Unable to run BokehJS code because BokehJS library is missing\");\n",
              "        }\n",
              "      }\n",
              "    }, 10, root)\n",
              "  }\n",
              "})(window);"
            ],
            "application/vnd.bokehjs_exec.v0+json": ""
          },
          "metadata": {
            "tags": [],
            "application/vnd.bokehjs_exec.v0+json": {
              "id": "1234"
            }
          }
        }
      ]
    },
    {
      "cell_type": "markdown",
      "metadata": {
        "id": "cYWOstnKEzQc"
      },
      "source": [
        "# **Exporting Excel**"
      ]
    },
    {
      "cell_type": "code",
      "metadata": {
        "id": "yjUywDlRDyrg"
      },
      "source": [
        "writer = pd.ExcelWriter('Cryptos.xlsx')"
      ],
      "execution_count": 26,
      "outputs": []
    },
    {
      "cell_type": "code",
      "metadata": {
        "id": "UcQuvjzqFh-B"
      },
      "source": [
        "btc.to_excel(writer, sheet_name='Bitcoin')\n",
        "eth.to_excel(writer, sheet_name='Ether')"
      ],
      "execution_count": 27,
      "outputs": []
    },
    {
      "cell_type": "code",
      "metadata": {
        "id": "WVq4_jW2Fz7w"
      },
      "source": [
        "writer.save"
      ],
      "execution_count": 28,
      "outputs": []
    },
    {
      "cell_type": "code",
      "metadata": {
        "id": "Q7X7u97KF2QB"
      },
      "source": [
        ""
      ],
      "execution_count": null,
      "outputs": []
    }
  ]
}