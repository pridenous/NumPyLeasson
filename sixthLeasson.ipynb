{
  "nbformat": 4,
  "nbformat_minor": 0,
  "metadata": {
    "colab": {
      "name": "sixthLeasson.ipynb",
      "provenance": [],
      "collapsed_sections": [],
      "authorship_tag": "ABX9TyP6Btopub1d+1wJDLwlWXzb",
      "include_colab_link": true
    },
    "kernelspec": {
      "name": "python3",
      "display_name": "Python 3"
    }
  },
  "cells": [
    {
      "cell_type": "markdown",
      "metadata": {
        "id": "view-in-github",
        "colab_type": "text"
      },
      "source": [
        "<a href=\"https://colab.research.google.com/github/pridenous/NumPyLeasson/blob/master/sixthLeasson.ipynb\" target=\"_parent\"><img src=\"https://colab.research.google.com/assets/colab-badge.svg\" alt=\"Open In Colab\"/></a>"
      ]
    },
    {
      "cell_type": "code",
      "metadata": {
        "id": "WhGAgelWStOJ"
      },
      "source": [
        "import numpy as np"
      ],
      "execution_count": 2,
      "outputs": []
    },
    {
      "cell_type": "code",
      "metadata": {
        "id": "zqcrqSdnTZuk"
      },
      "source": [
        "a = np.arange(4)"
      ],
      "execution_count": 14,
      "outputs": []
    },
    {
      "cell_type": "code",
      "metadata": {
        "colab": {
          "base_uri": "https://localhost:8080/"
        },
        "id": "nQfdY34WTdA0",
        "outputId": "24c4fe9d-e188-4fa4-ae4b-c07809e7c85b"
      },
      "source": [
        "a"
      ],
      "execution_count": 15,
      "outputs": [
        {
          "output_type": "execute_result",
          "data": {
            "text/plain": [
              "array([0, 1, 2, 3])"
            ]
          },
          "metadata": {
            "tags": []
          },
          "execution_count": 15
        }
      ]
    },
    {
      "cell_type": "markdown",
      "metadata": {
        "id": "yYDYSwXQUBs6"
      },
      "source": [
        "Tambah tiap elemen array **a** dengan angka **10**"
      ]
    },
    {
      "cell_type": "code",
      "metadata": {
        "id": "guqZbEqvT0ix",
        "colab": {
          "base_uri": "https://localhost:8080/"
        },
        "outputId": "3f738784-5231-49ff-dcc8-4445a3698e89"
      },
      "source": [
        "a + 10"
      ],
      "execution_count": 16,
      "outputs": [
        {
          "output_type": "execute_result",
          "data": {
            "text/plain": [
              "array([10, 11, 12, 13])"
            ]
          },
          "metadata": {
            "tags": []
          },
          "execution_count": 16
        }
      ]
    },
    {
      "cell_type": "markdown",
      "metadata": {
        "id": "RDiSyBJEUjgC"
      },
      "source": [
        "Kasus perkalian"
      ]
    },
    {
      "cell_type": "code",
      "metadata": {
        "colab": {
          "base_uri": "https://localhost:8080/"
        },
        "id": "kCGSyWsLUmMH",
        "outputId": "e05a48d9-76dc-4881-d3a2-b895bfa96b3d"
      },
      "source": [
        "a * 10"
      ],
      "execution_count": 9,
      "outputs": [
        {
          "output_type": "execute_result",
          "data": {
            "text/plain": [
              "array([ 0, 10, 20, 30])"
            ]
          },
          "metadata": {
            "tags": []
          },
          "execution_count": 9
        }
      ]
    },
    {
      "cell_type": "markdown",
      "metadata": {
        "id": "JTuDOd2FUn31"
      },
      "source": [
        "dalam kasus diatas variabel **a** tidak mengalami perubahan, dikarenakan perintah diatas mengoprasikan jenis array baru bukan mengganti atau merubah nilai pada variabel **a**"
      ]
    },
    {
      "cell_type": "code",
      "metadata": {
        "colab": {
          "base_uri": "https://localhost:8080/"
        },
        "id": "evkYSr69U8NT",
        "outputId": "bef9dd9f-1119-4547-b4d7-4b70fc31d230"
      },
      "source": [
        "a"
      ],
      "execution_count": 10,
      "outputs": [
        {
          "output_type": "execute_result",
          "data": {
            "text/plain": [
              "array([0, 1, 2, 3])"
            ]
          },
          "metadata": {
            "tags": []
          },
          "execution_count": 10
        }
      ]
    },
    {
      "cell_type": "markdown",
      "metadata": {
        "id": "jKumi-XNU9Cz"
      },
      "source": [
        "melakukan operasi perhitungan serta merubah nilai **a**"
      ]
    },
    {
      "cell_type": "code",
      "metadata": {
        "id": "z1rDLfrGVq0t"
      },
      "source": [
        "a += 100"
      ],
      "execution_count": 17,
      "outputs": []
    },
    {
      "cell_type": "code",
      "metadata": {
        "colab": {
          "base_uri": "https://localhost:8080/"
        },
        "id": "V325kT5PVsTw",
        "outputId": "3fc90703-3a74-4a9c-dc48-0e1a10e503d0"
      },
      "source": [
        "a"
      ],
      "execution_count": 18,
      "outputs": [
        {
          "output_type": "execute_result",
          "data": {
            "text/plain": [
              "array([100, 101, 102, 103])"
            ]
          },
          "metadata": {
            "tags": []
          },
          "execution_count": 18
        }
      ]
    },
    {
      "cell_type": "code",
      "metadata": {
        "id": "zzpH6SvnVsv8"
      },
      "source": [
        "a *= 100"
      ],
      "execution_count": 19,
      "outputs": []
    },
    {
      "cell_type": "code",
      "metadata": {
        "colab": {
          "base_uri": "https://localhost:8080/"
        },
        "id": "nKzPhH1nVwOm",
        "outputId": "72da6845-fd4c-41c7-92e5-8872575c6a7b"
      },
      "source": [
        "a"
      ],
      "execution_count": 20,
      "outputs": [
        {
          "output_type": "execute_result",
          "data": {
            "text/plain": [
              "array([10000, 10100, 10200, 10300])"
            ]
          },
          "metadata": {
            "tags": []
          },
          "execution_count": 20
        }
      ]
    },
    {
      "cell_type": "markdown",
      "metadata": {
        "id": "JVy-wfo7Vw3T"
      },
      "source": [
        "Operasi **list**"
      ]
    },
    {
      "cell_type": "code",
      "metadata": {
        "id": "rlLye8GWWJ3L"
      },
      "source": [
        "l = [1,2,3,4]"
      ],
      "execution_count": 21,
      "outputs": []
    },
    {
      "cell_type": "code",
      "metadata": {
        "colab": {
          "base_uri": "https://localhost:8080/"
        },
        "id": "BWPooeTOWPiy",
        "outputId": "ee865f43-2171-4696-fce9-efaa082a5840"
      },
      "source": [
        "[i*10 for i in l]"
      ],
      "execution_count": 23,
      "outputs": [
        {
          "output_type": "execute_result",
          "data": {
            "text/plain": [
              "[10, 20, 30, 40]"
            ]
          },
          "metadata": {
            "tags": []
          },
          "execution_count": 23
        }
      ]
    },
    {
      "cell_type": "markdown",
      "metadata": {
        "id": "EugyuZ7xWXta"
      },
      "source": [
        "Operasi hitung pada 2 array"
      ]
    },
    {
      "cell_type": "code",
      "metadata": {
        "colab": {
          "base_uri": "https://localhost:8080/"
        },
        "id": "fcbnYM1oWvCX",
        "outputId": "a5cb274c-e06e-450a-efdf-b815c7691006"
      },
      "source": [
        "a = np.array([0,1,2,3])\r\n",
        "a"
      ],
      "execution_count": 26,
      "outputs": [
        {
          "output_type": "execute_result",
          "data": {
            "text/plain": [
              "array([0, 1, 2, 3])"
            ]
          },
          "metadata": {
            "tags": []
          },
          "execution_count": 26
        }
      ]
    },
    {
      "cell_type": "code",
      "metadata": {
        "colab": {
          "base_uri": "https://localhost:8080/"
        },
        "id": "yRzXeBHzW31J",
        "outputId": "319a3da8-bd2f-4c02-cc3a-09170f9ca3bb"
      },
      "source": [
        "b = np.array([10,20,30,40])\r\n",
        "b"
      ],
      "execution_count": 28,
      "outputs": [
        {
          "output_type": "execute_result",
          "data": {
            "text/plain": [
              "array([10, 20, 30, 40])"
            ]
          },
          "metadata": {
            "tags": []
          },
          "execution_count": 28
        }
      ]
    },
    {
      "cell_type": "code",
      "metadata": {
        "colab": {
          "base_uri": "https://localhost:8080/"
        },
        "id": "c9p-VggOW818",
        "outputId": "80f43642-336f-4a1a-aac9-c5979376a827"
      },
      "source": [
        "a + b"
      ],
      "execution_count": 29,
      "outputs": [
        {
          "output_type": "execute_result",
          "data": {
            "text/plain": [
              "array([10, 21, 32, 43])"
            ]
          },
          "metadata": {
            "tags": []
          },
          "execution_count": 29
        }
      ]
    }
  ]
}