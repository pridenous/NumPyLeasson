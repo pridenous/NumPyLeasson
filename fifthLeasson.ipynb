{
  "nbformat": 4,
  "nbformat_minor": 0,
  "metadata": {
    "colab": {
      "name": "fifthLeasson.ipynb",
      "provenance": [],
      "collapsed_sections": [],
      "authorship_tag": "ABX9TyOE4SdQFpqRaJKaHY2AzhSF",
      "include_colab_link": true
    },
    "kernelspec": {
      "name": "python3",
      "display_name": "Python 3"
    }
  },
  "cells": [
    {
      "cell_type": "markdown",
      "metadata": {
        "id": "view-in-github",
        "colab_type": "text"
      },
      "source": [
        "<a href=\"https://colab.research.google.com/github/pridenous/NumPyLeasson/blob/master/fifthLeasson.ipynb\" target=\"_parent\"><img src=\"https://colab.research.google.com/assets/colab-badge.svg\" alt=\"Open In Colab\"/></a>"
      ]
    },
    {
      "cell_type": "code",
      "metadata": {
        "id": "UpehD5i3HCNK"
      },
      "source": [
        "import sys\n",
        "import numpy as np"
      ],
      "execution_count": 2,
      "outputs": []
    },
    {
      "cell_type": "code",
      "metadata": {
        "colab": {
          "base_uri": "https://localhost:8080/"
        },
        "id": "i6mlatnoJd_N",
        "outputId": "76d05f9d-8caf-4c50-906a-37a4b246e0de"
      },
      "source": [
        "np.array([1,2,4,5])"
      ],
      "execution_count": 2,
      "outputs": [
        {
          "output_type": "execute_result",
          "data": {
            "text/plain": [
              "array([1, 2, 4, 5])"
            ]
          },
          "metadata": {
            "tags": []
          },
          "execution_count": 2
        }
      ]
    },
    {
      "cell_type": "code",
      "metadata": {
        "colab": {
          "base_uri": "https://localhost:8080/"
        },
        "id": "QfNR-u-XJlLm",
        "outputId": "c33add97-9736-477c-9d2d-903668817a99"
      },
      "source": [
        "np.int8"
      ],
      "execution_count": 3,
      "outputs": [
        {
          "output_type": "execute_result",
          "data": {
            "text/plain": [
              "numpy.int8"
            ]
          },
          "metadata": {
            "tags": []
          },
          "execution_count": 3
        }
      ]
    },
    {
      "cell_type": "code",
      "metadata": {
        "id": "TQFX9fuXPjRv"
      },
      "source": [
        "a = np.array([1,2,3,4])"
      ],
      "execution_count": 6,
      "outputs": []
    },
    {
      "cell_type": "code",
      "metadata": {
        "colab": {
          "base_uri": "https://localhost:8080/"
        },
        "id": "2iZdgpaUDYgz",
        "outputId": "57647adc-dc5f-4a30-81e6-1ae47f82da3d"
      },
      "source": [
        "a.dtype"
      ],
      "execution_count": 8,
      "outputs": [
        {
          "output_type": "execute_result",
          "data": {
            "text/plain": [
              "dtype('int64')"
            ]
          },
          "metadata": {
            "tags": []
          },
          "execution_count": 8
        }
      ]
    },
    {
      "cell_type": "code",
      "metadata": {
        "id": "5MM-zVCQD_jS"
      },
      "source": [
        "b = np.array([2,3,5,4], dtype=np.int8)"
      ],
      "execution_count": 12,
      "outputs": []
    },
    {
      "cell_type": "code",
      "metadata": {
        "colab": {
          "base_uri": "https://localhost:8080/"
        },
        "id": "dIdeFppiErLS",
        "outputId": "3bfe0a7c-c2ff-4f7a-95e3-0f5c677dbce4"
      },
      "source": [
        "b.dtype"
      ],
      "execution_count": 14,
      "outputs": [
        {
          "output_type": "execute_result",
          "data": {
            "text/plain": [
              "dtype('int8')"
            ]
          },
          "metadata": {
            "tags": []
          },
          "execution_count": 14
        }
      ]
    },
    {
      "cell_type": "markdown",
      "metadata": {
        "id": "nCml7zW1E_Tt"
      },
      "source": [
        "# **Multidimensional Array**"
      ]
    },
    {
      "cell_type": "code",
      "metadata": {
        "id": "10CUaDZ4FFDx"
      },
      "source": [
        "c = np.array([\n",
        "              [1,2,3],\n",
        "              [5,6,7]\n",
        "])"
      ],
      "execution_count": 15,
      "outputs": []
    },
    {
      "cell_type": "code",
      "metadata": {
        "colab": {
          "base_uri": "https://localhost:8080/"
        },
        "id": "8hTLiu5FFP-D",
        "outputId": "dfe6b854-2611-4dcc-811f-6663f2acb82a"
      },
      "source": [
        "c.shape"
      ],
      "execution_count": 16,
      "outputs": [
        {
          "output_type": "execute_result",
          "data": {
            "text/plain": [
              "(2, 3)"
            ]
          },
          "metadata": {
            "tags": []
          },
          "execution_count": 16
        }
      ]
    },
    {
      "cell_type": "code",
      "metadata": {
        "colab": {
          "base_uri": "https://localhost:8080/"
        },
        "id": "dV5zrAP9FRCD",
        "outputId": "8bfd9054-869a-4926-e5bf-2a4fffef5560"
      },
      "source": [
        "c.ndim"
      ],
      "execution_count": 18,
      "outputs": [
        {
          "output_type": "execute_result",
          "data": {
            "text/plain": [
              "2"
            ]
          },
          "metadata": {
            "tags": []
          },
          "execution_count": 18
        }
      ]
    },
    {
      "cell_type": "code",
      "metadata": {
        "colab": {
          "base_uri": "https://localhost:8080/"
        },
        "id": "saCt-pTHFdAm",
        "outputId": "b07b077d-5935-47ec-8cfe-5282fb35830b"
      },
      "source": [
        "c.size"
      ],
      "execution_count": 19,
      "outputs": [
        {
          "output_type": "execute_result",
          "data": {
            "text/plain": [
              "6"
            ]
          },
          "metadata": {
            "tags": []
          },
          "execution_count": 19
        }
      ]
    },
    {
      "cell_type": "code",
      "metadata": {
        "id": "C6InMOIbFgWi"
      },
      "source": [
        "d = np.array([\n",
        "              [\n",
        "               [1,2,3],\n",
        "               [2,3,6]\n",
        "              ],\n",
        "              [\n",
        "               [1,2,4],\n",
        "               [6,3,1]\n",
        "              ]\n",
        "\n",
        "])"
      ],
      "execution_count": 21,
      "outputs": []
    },
    {
      "cell_type": "code",
      "metadata": {
        "colab": {
          "base_uri": "https://localhost:8080/"
        },
        "id": "_4GMtkMFGkuk",
        "outputId": "94931e0a-61b6-4968-bcf4-dc6cd4e673bc"
      },
      "source": [
        "d"
      ],
      "execution_count": 22,
      "outputs": [
        {
          "output_type": "execute_result",
          "data": {
            "text/plain": [
              "array([[[1, 2, 3],\n",
              "        [2, 3, 6]],\n",
              "\n",
              "       [[1, 2, 4],\n",
              "        [6, 3, 1]]])"
            ]
          },
          "metadata": {
            "tags": []
          },
          "execution_count": 22
        }
      ]
    },
    {
      "cell_type": "code",
      "metadata": {
        "colab": {
          "base_uri": "https://localhost:8080/"
        },
        "id": "6b0kceD9GmEE",
        "outputId": "53d5825a-1c5d-47e8-d608-97db6f5856b9"
      },
      "source": [
        "d.shape"
      ],
      "execution_count": 23,
      "outputs": [
        {
          "output_type": "execute_result",
          "data": {
            "text/plain": [
              "(2, 2, 3)"
            ]
          },
          "metadata": {
            "tags": []
          },
          "execution_count": 23
        }
      ]
    },
    {
      "cell_type": "code",
      "metadata": {
        "colab": {
          "base_uri": "https://localhost:8080/"
        },
        "id": "tb6VxujxGoU1",
        "outputId": "aa7ad712-2e80-4df4-be28-2e7b6e757bc9"
      },
      "source": [
        "d.ndim"
      ],
      "execution_count": 26,
      "outputs": [
        {
          "output_type": "execute_result",
          "data": {
            "text/plain": [
              "3"
            ]
          },
          "metadata": {
            "tags": []
          },
          "execution_count": 26
        }
      ]
    },
    {
      "cell_type": "code",
      "metadata": {
        "colab": {
          "base_uri": "https://localhost:8080/"
        },
        "id": "rGixeWaGGtUE",
        "outputId": "7fe7c50a-4394-4565-a010-3cbf22f4826d"
      },
      "source": [
        "d.size"
      ],
      "execution_count": 27,
      "outputs": [
        {
          "output_type": "execute_result",
          "data": {
            "text/plain": [
              "12"
            ]
          },
          "metadata": {
            "tags": []
          },
          "execution_count": 27
        }
      ]
    },
    {
      "cell_type": "markdown",
      "metadata": {
        "id": "E6J9nQCuG5ft"
      },
      "source": [
        "# **Matrix**"
      ]
    },
    {
      "cell_type": "code",
      "metadata": {
        "id": "nAaGF7fDG9SF"
      },
      "source": [
        "e = np.array([\n",
        "    #.         0 1 2         \n",
        "              [1,2,3],   #. 1\n",
        "              [5,6,7],   #. 2\n",
        "              [8,9,11]   #. 3\n",
        "])"
      ],
      "execution_count": 33,
      "outputs": []
    },
    {
      "cell_type": "code",
      "metadata": {
        "colab": {
          "base_uri": "https://localhost:8080/"
        },
        "id": "s-VDG42SHElU",
        "outputId": "34df7009-4fe9-4e2d-bc57-be91a105e2dd"
      },
      "source": [
        "e[1]  #. Selecting Rows 1"
      ],
      "execution_count": 30,
      "outputs": [
        {
          "output_type": "execute_result",
          "data": {
            "text/plain": [
              "array([5, 6, 7])"
            ]
          },
          "metadata": {
            "tags": []
          },
          "execution_count": 30
        }
      ]
    },
    {
      "cell_type": "code",
      "metadata": {
        "colab": {
          "base_uri": "https://localhost:8080/"
        },
        "id": "zavq7RHgHiLU",
        "outputId": "6ab66020-0981-4e27-ceaa-ba90bf04fb73"
      },
      "source": [
        "e[1][2] #. Selecting Rows 1, Columns 2 "
      ],
      "execution_count": 32,
      "outputs": [
        {
          "output_type": "execute_result",
          "data": {
            "text/plain": [
              "7"
            ]
          },
          "metadata": {
            "tags": []
          },
          "execution_count": 32
        }
      ]
    },
    {
      "cell_type": "code",
      "metadata": {
        "colab": {
          "base_uri": "https://localhost:8080/"
        },
        "id": "lBl2MBB2HHVU",
        "outputId": "fd50b408-0584-4f11-8a58-a58660ca0d6d"
      },
      "source": [
        "e[0:2]"
      ],
      "execution_count": 34,
      "outputs": [
        {
          "output_type": "execute_result",
          "data": {
            "text/plain": [
              "array([[1, 2, 3],\n",
              "       [5, 6, 7]])"
            ]
          },
          "metadata": {
            "tags": []
          },
          "execution_count": 34
        }
      ]
    },
    {
      "cell_type": "markdown",
      "metadata": {
        "id": "ANbO3LWTIwZ3"
      },
      "source": [
        "Make Skip symbol (:) for array skip"
      ]
    },
    {
      "cell_type": "code",
      "metadata": {
        "colab": {
          "base_uri": "https://localhost:8080/"
        },
        "id": "SyWmu-QNIdoX",
        "outputId": "e2538f26-83a4-48ef-b34d-9a4cd9afa61c"
      },
      "source": [
        "e[:,2] #. Skip row 0-1, and show columns 2"
      ],
      "execution_count": 36,
      "outputs": [
        {
          "output_type": "execute_result",
          "data": {
            "text/plain": [
              "array([ 3,  7, 11])"
            ]
          },
          "metadata": {
            "tags": []
          },
          "execution_count": 36
        }
      ]
    },
    {
      "cell_type": "code",
      "metadata": {
        "colab": {
          "base_uri": "https://localhost:8080/"
        },
        "id": "i6esjN--Iio0",
        "outputId": "540446e5-63e2-4aa4-c452-52aa1a5d3725"
      },
      "source": [
        "e[2,:] #. Show Row 2, and skip row 0-2"
      ],
      "execution_count": 37,
      "outputs": [
        {
          "output_type": "execute_result",
          "data": {
            "text/plain": [
              "array([ 8,  9, 11])"
            ]
          },
          "metadata": {
            "tags": []
          },
          "execution_count": 37
        }
      ]
    },
    {
      "cell_type": "code",
      "metadata": {
        "colab": {
          "base_uri": "https://localhost:8080/"
        },
        "id": "VcOx3URFIq3l",
        "outputId": "c93dbf48-f5c7-4d4e-9c27-21c041c6f14a"
      },
      "source": [
        "e[:2,2:]"
      ],
      "execution_count": 41,
      "outputs": [
        {
          "output_type": "execute_result",
          "data": {
            "text/plain": [
              "array([[3],\n",
              "       [7]])"
            ]
          },
          "metadata": {
            "tags": []
          },
          "execution_count": 41
        }
      ]
    },
    {
      "cell_type": "markdown",
      "metadata": {
        "id": "SKcpvd4rJ51X"
      },
      "source": [
        "Assign new array to base array"
      ]
    },
    {
      "cell_type": "code",
      "metadata": {
        "id": "AK_-TZ5_J-9k"
      },
      "source": [
        "e[1] = [18,1,2]"
      ],
      "execution_count": 42,
      "outputs": []
    },
    {
      "cell_type": "code",
      "metadata": {
        "colab": {
          "base_uri": "https://localhost:8080/"
        },
        "id": "GsZYmHATKDWm",
        "outputId": "d1eb5505-d40c-4ac4-87e3-dd50bbd16682"
      },
      "source": [
        "e"
      ],
      "execution_count": 43,
      "outputs": [
        {
          "output_type": "execute_result",
          "data": {
            "text/plain": [
              "array([[ 1,  2,  3],\n",
              "       [18,  1,  2],\n",
              "       [ 8,  9, 11]])"
            ]
          },
          "metadata": {
            "tags": []
          },
          "execution_count": 43
        }
      ]
    },
    {
      "cell_type": "code",
      "metadata": {
        "id": "2mhS6X98KD8l"
      },
      "source": [
        "e[2] = 10"
      ],
      "execution_count": 44,
      "outputs": []
    },
    {
      "cell_type": "code",
      "metadata": {
        "colab": {
          "base_uri": "https://localhost:8080/"
        },
        "id": "IiEoP0JJKJH1",
        "outputId": "fe5bc691-b8e7-416b-f99e-e3b3a0429a31"
      },
      "source": [
        "e"
      ],
      "execution_count": 45,
      "outputs": [
        {
          "output_type": "execute_result",
          "data": {
            "text/plain": [
              "array([[ 1,  2,  3],\n",
              "       [18,  1,  2],\n",
              "       [10, 10, 10]])"
            ]
          },
          "metadata": {
            "tags": []
          },
          "execution_count": 45
        }
      ]
    },
    {
      "cell_type": "markdown",
      "metadata": {
        "id": "LA3PfHBGKPXn"
      },
      "source": [
        "# Summary Statistic"
      ]
    },
    {
      "cell_type": "code",
      "metadata": {
        "id": "cOxFIN56KRwY"
      },
      "source": [
        "f = np.array([1,2,3,4])"
      ],
      "execution_count": 46,
      "outputs": []
    },
    {
      "cell_type": "code",
      "metadata": {
        "colab": {
          "base_uri": "https://localhost:8080/"
        },
        "id": "IRfR66XiKbc3",
        "outputId": "15aaa7ae-3481-45ae-8fc3-e79e47661597"
      },
      "source": [
        "f.sum()"
      ],
      "execution_count": 47,
      "outputs": [
        {
          "output_type": "execute_result",
          "data": {
            "text/plain": [
              "10"
            ]
          },
          "metadata": {
            "tags": []
          },
          "execution_count": 47
        }
      ]
    },
    {
      "cell_type": "code",
      "metadata": {
        "colab": {
          "base_uri": "https://localhost:8080/"
        },
        "id": "C1ZtThWqKdV1",
        "outputId": "4f4f26fa-1728-480d-da01-421c4682565c"
      },
      "source": [
        "f.mean()"
      ],
      "execution_count": 48,
      "outputs": [
        {
          "output_type": "execute_result",
          "data": {
            "text/plain": [
              "2.5"
            ]
          },
          "metadata": {
            "tags": []
          },
          "execution_count": 48
        }
      ]
    },
    {
      "cell_type": "code",
      "metadata": {
        "colab": {
          "base_uri": "https://localhost:8080/"
        },
        "id": "IDZshyZWKf72",
        "outputId": "d79e79f6-a2cf-4740-c761-dd911ad6362e"
      },
      "source": [
        "f.std()"
      ],
      "execution_count": 49,
      "outputs": [
        {
          "output_type": "execute_result",
          "data": {
            "text/plain": [
              "1.118033988749895"
            ]
          },
          "metadata": {
            "tags": []
          },
          "execution_count": 49
        }
      ]
    },
    {
      "cell_type": "code",
      "metadata": {
        "colab": {
          "base_uri": "https://localhost:8080/"
        },
        "id": "Blk_LExNKlc1",
        "outputId": "2a9d9f33-215d-4feb-9157-e35deec41e30"
      },
      "source": [
        "f.var()"
      ],
      "execution_count": 50,
      "outputs": [
        {
          "output_type": "execute_result",
          "data": {
            "text/plain": [
              "1.25"
            ]
          },
          "metadata": {
            "tags": []
          },
          "execution_count": 50
        }
      ]
    },
    {
      "cell_type": "code",
      "metadata": {
        "id": "bDuwk_hAKmzV"
      },
      "source": [
        "f = np.array([\n",
        "              [1,2,3],\n",
        "              [5,6,7],\n",
        "              [8,9,10]\n",
        "])"
      ],
      "execution_count": 51,
      "outputs": []
    },
    {
      "cell_type": "code",
      "metadata": {
        "colab": {
          "base_uri": "https://localhost:8080/"
        },
        "id": "K1WhqvTSLJoF",
        "outputId": "6f73e182-98bf-45b3-caab-94b6d75bb1ed"
      },
      "source": [
        "f.sum()"
      ],
      "execution_count": 52,
      "outputs": [
        {
          "output_type": "execute_result",
          "data": {
            "text/plain": [
              "51"
            ]
          },
          "metadata": {
            "tags": []
          },
          "execution_count": 52
        }
      ]
    },
    {
      "cell_type": "code",
      "metadata": {
        "colab": {
          "base_uri": "https://localhost:8080/"
        },
        "id": "whcR_cGuLKrF",
        "outputId": "e04ca1b7-0195-496c-83a2-85507d24b513"
      },
      "source": [
        "f.mean()"
      ],
      "execution_count": 53,
      "outputs": [
        {
          "output_type": "execute_result",
          "data": {
            "text/plain": [
              "5.666666666666667"
            ]
          },
          "metadata": {
            "tags": []
          },
          "execution_count": 53
        }
      ]
    },
    {
      "cell_type": "code",
      "metadata": {
        "colab": {
          "base_uri": "https://localhost:8080/"
        },
        "id": "C6of9lSzLL91",
        "outputId": "7e4fb3cb-25c8-4766-9150-696e08ca4085"
      },
      "source": [
        "f.std()"
      ],
      "execution_count": 54,
      "outputs": [
        {
          "output_type": "execute_result",
          "data": {
            "text/plain": [
              "2.9814239699997196"
            ]
          },
          "metadata": {
            "tags": []
          },
          "execution_count": 54
        }
      ]
    },
    {
      "cell_type": "code",
      "metadata": {
        "colab": {
          "base_uri": "https://localhost:8080/"
        },
        "id": "t3DnJ8r1LOEU",
        "outputId": "962bd00e-a054-4687-eee0-9ba9391484a2"
      },
      "source": [
        "f.var()"
      ],
      "execution_count": 55,
      "outputs": [
        {
          "output_type": "execute_result",
          "data": {
            "text/plain": [
              "8.88888888888889"
            ]
          },
          "metadata": {
            "tags": []
          },
          "execution_count": 55
        }
      ]
    },
    {
      "cell_type": "code",
      "metadata": {
        "colab": {
          "base_uri": "https://localhost:8080/"
        },
        "id": "NjDhbw5HLPeW",
        "outputId": "a854d278-1327-414a-c631-a5258520f46d"
      },
      "source": [
        "f.sum(axis=0)  #. vertical"
      ],
      "execution_count": 56,
      "outputs": [
        {
          "output_type": "execute_result",
          "data": {
            "text/plain": [
              "array([14, 17, 20])"
            ]
          },
          "metadata": {
            "tags": []
          },
          "execution_count": 56
        }
      ]
    },
    {
      "cell_type": "code",
      "metadata": {
        "colab": {
          "base_uri": "https://localhost:8080/"
        },
        "id": "hfG3uV9MMEfe",
        "outputId": "b163d717-28a1-47e2-bfe9-061f741dbd04"
      },
      "source": [
        "f.sum(axis=1) #. horizontal"
      ],
      "execution_count": 59,
      "outputs": [
        {
          "output_type": "execute_result",
          "data": {
            "text/plain": [
              "array([ 6, 18, 27])"
            ]
          },
          "metadata": {
            "tags": []
          },
          "execution_count": 59
        }
      ]
    },
    {
      "cell_type": "code",
      "metadata": {
        "colab": {
          "base_uri": "https://localhost:8080/"
        },
        "id": "0LHr4bPEMAU2",
        "outputId": "5b4736a8-c49d-408d-bb39-3979b088c2ef"
      },
      "source": [
        "f.mean(axis=0)"
      ],
      "execution_count": 60,
      "outputs": [
        {
          "output_type": "execute_result",
          "data": {
            "text/plain": [
              "array([4.66666667, 5.66666667, 6.66666667])"
            ]
          },
          "metadata": {
            "tags": []
          },
          "execution_count": 60
        }
      ]
    },
    {
      "cell_type": "code",
      "metadata": {
        "colab": {
          "base_uri": "https://localhost:8080/"
        },
        "id": "AUEKsLX8MQSW",
        "outputId": "b46e0db4-486c-47f2-c2bb-a6d4d7aaeaa9"
      },
      "source": [
        "f.mean(axis=1)"
      ],
      "execution_count": 61,
      "outputs": [
        {
          "output_type": "execute_result",
          "data": {
            "text/plain": [
              "array([2., 6., 9.])"
            ]
          },
          "metadata": {
            "tags": []
          },
          "execution_count": 61
        }
      ]
    }
  ]
}