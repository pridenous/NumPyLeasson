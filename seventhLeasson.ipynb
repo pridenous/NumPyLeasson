{
  "nbformat": 4,
  "nbformat_minor": 0,
  "metadata": {
    "colab": {
      "name": "seventhLeasson.ipynb",
      "provenance": [],
      "collapsed_sections": [],
      "authorship_tag": "ABX9TyNjrOoPXAny4E1m5Y0q2hNl",
      "include_colab_link": true
    },
    "kernelspec": {
      "name": "python3",
      "display_name": "Python 3"
    }
  },
  "cells": [
    {
      "cell_type": "markdown",
      "metadata": {
        "id": "view-in-github",
        "colab_type": "text"
      },
      "source": [
        "<a href=\"https://colab.research.google.com/github/pridenous/NumPyLeasson/blob/master/seventhLeasson.ipynb\" target=\"_parent\"><img src=\"https://colab.research.google.com/assets/colab-badge.svg\" alt=\"Open In Colab\"/></a>"
      ]
    },
    {
      "cell_type": "markdown",
      "metadata": {
        "id": "hiHTbcLXZJH5"
      },
      "source": [
        "## **Boolean Operation**\r\n",
        "Seleksi numpy pada array boolean"
      ]
    },
    {
      "cell_type": "code",
      "metadata": {
        "id": "YQZRxpD_ZWL-"
      },
      "source": [
        "import numpy as np"
      ],
      "execution_count": 1,
      "outputs": []
    },
    {
      "cell_type": "code",
      "metadata": {
        "colab": {
          "base_uri": "https://localhost:8080/"
        },
        "id": "8a45-cU0Z6I6",
        "outputId": "ac636502-6b62-4834-ae08-e79baed056ec"
      },
      "source": [
        "a = np. arange(4)\r\n",
        "a"
      ],
      "execution_count": 2,
      "outputs": [
        {
          "output_type": "execute_result",
          "data": {
            "text/plain": [
              "array([0, 1, 2, 3])"
            ]
          },
          "metadata": {
            "tags": []
          },
          "execution_count": 2
        }
      ]
    },
    {
      "cell_type": "markdown",
      "metadata": {
        "id": "11yovg8MaArB"
      },
      "source": [
        "Contoh seleksi dengan cara **normal**"
      ]
    },
    {
      "cell_type": "code",
      "metadata": {
        "colab": {
          "base_uri": "https://localhost:8080/"
        },
        "id": "7lqEk_viaGEc",
        "outputId": "34c8e913-ebcc-4704-ef89-5a23242f597f"
      },
      "source": [
        "a[[0,-1]] #seleksi baris 0, dan kolom -1 (yg berarti -1 dari total kolom yang ada "
      ],
      "execution_count": 6,
      "outputs": [
        {
          "output_type": "execute_result",
          "data": {
            "text/plain": [
              "array([0, 3])"
            ]
          },
          "metadata": {
            "tags": []
          },
          "execution_count": 6
        }
      ]
    },
    {
      "cell_type": "markdown",
      "metadata": {
        "id": "tBXi1wJ-al6P"
      },
      "source": [
        "Contoh seleksi dengan **boolean**"
      ]
    },
    {
      "cell_type": "code",
      "metadata": {
        "colab": {
          "base_uri": "https://localhost:8080/"
        },
        "id": "esbFzEVWbHUR",
        "outputId": "fd49d62f-97ee-43fa-b61e-ebd218e5d58d"
      },
      "source": [
        "a[[True,False,False,True]]"
      ],
      "execution_count": 8,
      "outputs": [
        {
          "output_type": "execute_result",
          "data": {
            "text/plain": [
              "array([0, 3])"
            ]
          },
          "metadata": {
            "tags": []
          },
          "execution_count": 8
        }
      ]
    },
    {
      "cell_type": "markdown",
      "metadata": {
        "id": "PHN0GAc7bOko"
      },
      "source": [
        "Dapat dikatakan cara diatas masih belum efektif jika array yang ditampung berjumlah **ribuan** atau **miliaran**. maka dapat diefektifkan dengan menambahkan kondisi array yang akan diseleksi."
      ]
    },
    {
      "cell_type": "code",
      "metadata": {
        "colab": {
          "base_uri": "https://localhost:8080/"
        },
        "id": "FwsHnLBccB-w",
        "outputId": "c8df6e29-439e-4027-b8f5-0618f3a0769d"
      },
      "source": [
        "a >= 2"
      ],
      "execution_count": 9,
      "outputs": [
        {
          "output_type": "execute_result",
          "data": {
            "text/plain": [
              "array([False, False,  True,  True])"
            ]
          },
          "metadata": {
            "tags": []
          },
          "execution_count": 9
        }
      ]
    },
    {
      "cell_type": "code",
      "metadata": {
        "colab": {
          "base_uri": "https://localhost:8080/"
        },
        "id": "7SDHhjDBcGJb",
        "outputId": "3ff1d6ec-11e3-45d3-a21e-905d8a715e73"
      },
      "source": [
        "a[a >= 2] #seleksi nilai array diatas angka 2)"
      ],
      "execution_count": 12,
      "outputs": [
        {
          "output_type": "execute_result",
          "data": {
            "text/plain": [
              "array([2, 3])"
            ]
          },
          "metadata": {
            "tags": []
          },
          "execution_count": 12
        }
      ]
    },
    {
      "cell_type": "markdown",
      "metadata": {
        "id": "rfOVBMSTcJwK"
      },
      "source": [
        "# **Spesifik Penyeleksian Array**"
      ]
    },
    {
      "cell_type": "code",
      "metadata": {
        "colab": {
          "base_uri": "https://localhost:8080/"
        },
        "id": "GWnbu-I1c2dW",
        "outputId": "e95e4878-3566-428c-fad1-d97cba9ed2dd"
      },
      "source": [
        "a.mean() #Mendapatkan nilai rata-rata dari nilai array a"
      ],
      "execution_count": 13,
      "outputs": [
        {
          "output_type": "execute_result",
          "data": {
            "text/plain": [
              "1.5"
            ]
          },
          "metadata": {
            "tags": []
          },
          "execution_count": 13
        }
      ]
    },
    {
      "cell_type": "code",
      "metadata": {
        "colab": {
          "base_uri": "https://localhost:8080/"
        },
        "id": "RLQo2lIHc30u",
        "outputId": "9bf7dad7-288d-4615-a121-cb4288d7ad08"
      },
      "source": [
        "a[a > a.mean()] #Seleksi nilai array diatas nilai rata yakni 1,5"
      ],
      "execution_count": 17,
      "outputs": [
        {
          "output_type": "execute_result",
          "data": {
            "text/plain": [
              "array([2, 3])"
            ]
          },
          "metadata": {
            "tags": []
          },
          "execution_count": 17
        }
      ]
    },
    {
      "cell_type": "code",
      "metadata": {
        "colab": {
          "base_uri": "https://localhost:8080/"
        },
        "id": "glnrS-3DdjfD",
        "outputId": "d71810ae-fe8c-4f31-a73f-9891d402536c"
      },
      "source": [
        "a[~(a > a.mean())] #Seleksi nilai array tidak termasuk(bukan) diatas rata-rata, simbol not ditandai dengan ~"
      ],
      "execution_count": 22,
      "outputs": [
        {
          "output_type": "execute_result",
          "data": {
            "text/plain": [
              "array([0, 1])"
            ]
          },
          "metadata": {
            "tags": []
          },
          "execution_count": 22
        }
      ]
    },
    {
      "cell_type": "code",
      "metadata": {
        "colab": {
          "base_uri": "https://localhost:8080/"
        },
        "id": "xmeFcPeednBV",
        "outputId": "7a82f95b-406c-4d1f-a4cd-3182af6150cf"
      },
      "source": [
        "a[(a == 0) | (a == 1)] #Seleski nilai array dengan operasi OR"
      ],
      "execution_count": 25,
      "outputs": [
        {
          "output_type": "execute_result",
          "data": {
            "text/plain": [
              "array([0, 1])"
            ]
          },
          "metadata": {
            "tags": []
          },
          "execution_count": 25
        }
      ]
    },
    {
      "cell_type": "code",
      "metadata": {
        "colab": {
          "base_uri": "https://localhost:8080/"
        },
        "id": "TCUT9ashfwWB",
        "outputId": "7012facd-5e73-4674-ace2-1a1b773931f0"
      },
      "source": [
        "a[(a <=2) & (a % 2 == 0)] #Seleksi nilai array menggunakan operasi AND, (tambahan, untuk proses seleksi menggunakan modulasi)"
      ],
      "execution_count": 27,
      "outputs": [
        {
          "output_type": "execute_result",
          "data": {
            "text/plain": [
              "array([0, 2])"
            ]
          },
          "metadata": {
            "tags": []
          },
          "execution_count": 27
        }
      ]
    },
    {
      "cell_type": "markdown",
      "metadata": {
        "id": "GEieltMGgHNM"
      },
      "source": [
        "**Seleksi Array Multidimensi**\r\n"
      ]
    },
    {
      "cell_type": "code",
      "metadata": {
        "colab": {
          "base_uri": "https://localhost:8080/"
        },
        "id": "H_bojDcFidyr",
        "outputId": "3453bfab-c903-4402-8887-d61367394b6d"
      },
      "source": [
        "b = np.random.randint(100, size=(3,3)) #Membuat array dengan dimensi 3x3 serta diisi angka random dari 0-100\r\n",
        "b"
      ],
      "execution_count": 33,
      "outputs": [
        {
          "output_type": "execute_result",
          "data": {
            "text/plain": [
              "array([[40, 51, 14],\n",
              "       [ 2, 79, 72],\n",
              "       [89, 13, 75]])"
            ]
          },
          "metadata": {
            "tags": []
          },
          "execution_count": 33
        }
      ]
    },
    {
      "cell_type": "markdown",
      "metadata": {
        "id": "4aFWXfxEi419"
      },
      "source": [
        "Berikut adalah contoh seleksi array dengan boolean normal namun masih dikategorikan kurang efektif"
      ]
    },
    {
      "cell_type": "code",
      "metadata": {
        "colab": {
          "base_uri": "https://localhost:8080/"
        },
        "id": "5dV8iT7fjN83",
        "outputId": "903f8e1b-6921-4f12-e703-21af50a34f6d"
      },
      "source": [
        "b[np.array([\r\n",
        "              [False, True, False],\r\n",
        "              [False, True, True],\r\n",
        "              [True, False, True]\r\n",
        "])]"
      ],
      "execution_count": 35,
      "outputs": [
        {
          "output_type": "execute_result",
          "data": {
            "text/plain": [
              "array([51, 79, 72, 89, 75])"
            ]
          },
          "metadata": {
            "tags": []
          },
          "execution_count": 35
        }
      ]
    },
    {
      "cell_type": "markdown",
      "metadata": {
        "id": "4LP0bio1jr-0"
      },
      "source": [
        "*Penyederhanaan :*"
      ]
    },
    {
      "cell_type": "code",
      "metadata": {
        "colab": {
          "base_uri": "https://localhost:8080/"
        },
        "id": "s4zZwy15kinP",
        "outputId": "7308572b-10bb-468b-a2ff-5a98fc99a754"
      },
      "source": [
        "b>=51"
      ],
      "execution_count": 37,
      "outputs": [
        {
          "output_type": "execute_result",
          "data": {
            "text/plain": [
              "array([[False,  True, False],\n",
              "       [False,  True,  True],\n",
              "       [ True, False,  True]])"
            ]
          },
          "metadata": {
            "tags": []
          },
          "execution_count": 37
        }
      ]
    },
    {
      "cell_type": "code",
      "metadata": {
        "colab": {
          "base_uri": "https://localhost:8080/"
        },
        "id": "Qpa2S-bDkckw",
        "outputId": "d3ef800d-4e88-4437-efe5-0f68a365d00d"
      },
      "source": [
        "b[b>=51] # Seleksi Array dengan kondisi"
      ],
      "execution_count": 38,
      "outputs": [
        {
          "output_type": "execute_result",
          "data": {
            "text/plain": [
              "array([51, 79, 72, 89, 75])"
            ]
          },
          "metadata": {
            "tags": []
          },
          "execution_count": 38
        }
      ]
    }
  ]
}