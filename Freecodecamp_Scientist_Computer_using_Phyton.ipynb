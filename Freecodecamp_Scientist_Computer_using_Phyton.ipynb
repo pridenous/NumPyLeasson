{
  "nbformat": 4,
  "nbformat_minor": 0,
  "metadata": {
    "colab": {
      "name": "Freecodecamp : Scientist Computer using Phyton.ipynb",
      "provenance": [],
      "authorship_tag": "ABX9TyMb+tFtlTlqFaPR5BiT+YJs",
      "include_colab_link": true
    },
    "kernelspec": {
      "name": "python3",
      "display_name": "Python 3"
    }
  },
  "cells": [
    {
      "cell_type": "markdown",
      "metadata": {
        "id": "view-in-github",
        "colab_type": "text"
      },
      "source": [
        "<a href=\"https://colab.research.google.com/github/pridenous/NumPyLeasson/blob/master/Freecodecamp_Scientist_Computer_using_Phyton.ipynb\" target=\"_parent\"><img src=\"https://colab.research.google.com/assets/colab-badge.svg\" alt=\"Open In Colab\"/></a>"
      ]
    },
    {
      "cell_type": "markdown",
      "metadata": {
        "id": "O7UPDF014VU9"
      },
      "source": [
        "# **Looping string**"
      ]
    },
    {
      "cell_type": "code",
      "metadata": {
        "id": "5JNkE1_JWPBj",
        "colab": {
          "base_uri": "https://localhost:8080/"
        },
        "outputId": "80621bdd-0882-4f4c-9b5f-4496ad6059b7"
      },
      "source": [
        "letter = input('Letter? ')\r\n",
        "\r\n",
        "# number of array string\r\n",
        "arr_letter = letter[3]\r\n",
        "print(arr_letter)\r\n",
        "\r\n",
        "# Loop using while (not effective at all)\r\n",
        "index = 0\r\n",
        "while index < len(letter) :\r\n",
        "  letter_in_count = letter[index]\r\n",
        "  print(index,letter_in_count)\r\n",
        "  index += 1\r\n",
        "print('Number of letter', len(letter))\r\n",
        "\r\n",
        "# Loop using for (effective mode)\r\n",
        "for count_letter in letter :\r\n",
        "  print(count_letter)"
      ],
      "execution_count": null,
      "outputs": [
        {
          "output_type": "stream",
          "text": [
            "Letter? adli\n",
            "i\n",
            "0 a\n",
            "1 d\n",
            "2 l\n",
            "3 i\n",
            "Number of letter 4\n",
            "a\n",
            "d\n",
            "l\n",
            "i\n"
          ],
          "name": "stdout"
        }
      ]
    },
    {
      "cell_type": "markdown",
      "metadata": {
        "id": "EOLgvgNU5rcH"
      },
      "source": [
        "# **String Slicer and modify**"
      ]
    },
    {
      "cell_type": "code",
      "metadata": {
        "id": "tjVmCvxDnisU",
        "colab": {
          "base_uri": "https://localhost:8080/"
        },
        "outputId": "cfc84134-7ff6-4af3-a7d7-df6f102866df"
      },
      "source": [
        "fruit = 'BANANA'\r\n",
        "\r\n",
        "a = 'a' in fruit\r\n",
        "print('a in fruit',a)\r\n",
        "\r\n",
        "# B   A   N   A   N    A\r\n",
        "# 0   1   2   3   4    5\r\n",
        "b = fruit[0:1] \r\n",
        "print(b)\r\n",
        "b = fruit[2:]\r\n",
        "print(b)\r\n",
        "b = fruit[:3]\r\n",
        "print(b)\r\n",
        "\r\n",
        "# Function Lowercase and Uppercase\r\n",
        "b = fruit.lower()\r\n",
        "print(b)\r\n",
        "print('WATERMELON'.lower())\r\n",
        "\r\n",
        "# Function to find string subcharacter\r\n",
        "b = fruit.find('A') # case sensitive\r\n",
        "print(b)\r\n",
        "\r\n",
        "# Function to find and replace string\r\n",
        "b = fruit.replace('BAN','123') # case sensitive\r\n",
        "print(b)\r\n",
        "\r\n",
        "# Command or Function can be used for string variable\r\n",
        "b = dir(fruit)\r\n",
        "print(b)\r\n",
        "\r\n",
        "# Strippng whitespacing\r\n",
        "letter = '   ohayou   '\r\n",
        "fix_letter = letter.lstrip()  # fix left\r\n",
        "print(fix_letter)\r\n",
        "fix_letter = letter.rstrip()  # fix right\r\n",
        "print(fix_letter)\r\n",
        "fix_letter = letter.strip()   # fix both (left and right)\r\n",
        "print(fix_letter)\r\n",
        "\r\n",
        "# Prefixes\r\n",
        "\r\n",
        "letter = 'Personality is mystery'\r\n",
        "pre_letter = letter.startswith('Personality') # check the string variable start with \r\n",
        "print(pre_letter)\r\n",
        "pre_letter = letter.startswith('p') #case sensitve\r\n",
        "print(pre_letter)\r\n",
        "\r\n",
        "# Find string with combine way\r\n",
        "\r\n",
        "sub_str = 'from pridenote4@gmail.com 00:12:20 GMT'\r\n",
        "# from pridenote4@gmail.com 00:12:20 GMT\r\n",
        "#                15        25\r\n",
        "find_str = sub_str.find('@')\r\n",
        "print(find_str)\r\n",
        "sps_str = sub_str.find(' ',find_str)\r\n",
        "print(sps_str)\r\n",
        "mr_str = sub_str[find_str+1 : sps_str] # start with find_str = 16 number of array string and end with sps_str = 25 number of array (but not including)\r\n",
        "print(mr_str)"
      ],
      "execution_count": 28,
      "outputs": [
        {
          "output_type": "stream",
          "text": [
            "a in fruit False\n",
            "B\n",
            "NANA\n",
            "BAN\n",
            "banana\n",
            "watermelon\n",
            "1\n",
            "123ANA\n",
            "['__add__', '__class__', '__contains__', '__delattr__', '__dir__', '__doc__', '__eq__', '__format__', '__ge__', '__getattribute__', '__getitem__', '__getnewargs__', '__gt__', '__hash__', '__init__', '__init_subclass__', '__iter__', '__le__', '__len__', '__lt__', '__mod__', '__mul__', '__ne__', '__new__', '__reduce__', '__reduce_ex__', '__repr__', '__rmod__', '__rmul__', '__setattr__', '__sizeof__', '__str__', '__subclasshook__', 'capitalize', 'casefold', 'center', 'count', 'encode', 'endswith', 'expandtabs', 'find', 'format', 'format_map', 'index', 'isalnum', 'isalpha', 'isdecimal', 'isdigit', 'isidentifier', 'islower', 'isnumeric', 'isprintable', 'isspace', 'istitle', 'isupper', 'join', 'ljust', 'lower', 'lstrip', 'maketrans', 'partition', 'replace', 'rfind', 'rindex', 'rjust', 'rpartition', 'rsplit', 'rstrip', 'split', 'splitlines', 'startswith', 'strip', 'swapcase', 'title', 'translate', 'upper', 'zfill']\n",
            "ohayou   \n",
            "   ohayou\n",
            "ohayou\n",
            "True\n",
            "False\n",
            "15\n",
            "25\n",
            "gmail.com\n"
          ],
          "name": "stdout"
        }
      ]
    },
    {
      "cell_type": "code",
      "metadata": {
        "id": "5BPsoGwb25gM"
      },
      "source": [
        ""
      ],
      "execution_count": null,
      "outputs": []
    }
  ]
}