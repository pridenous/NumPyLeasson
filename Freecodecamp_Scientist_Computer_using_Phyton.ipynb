{
  "nbformat": 4,
  "nbformat_minor": 0,
  "metadata": {
    "colab": {
      "name": "Freecodecamp : Scientist Computer using Phyton.ipynb",
      "provenance": [],
      "collapsed_sections": [
        "O7UPDF014VU9",
        "EOLgvgNU5rcH",
        "5BPsoGwb25gM"
      ],
      "toc_visible": true,
      "mount_file_id": "10j3riAyCcFq6NbLRqy0XFdUUhLu049Lu",
      "authorship_tag": "ABX9TyOqY0bh/Xwmu5DT4KODWUJC",
      "include_colab_link": true
    },
    "kernelspec": {
      "name": "python3",
      "display_name": "Python 3"
    }
  },
  "cells": [
    {
      "cell_type": "markdown",
      "metadata": {
        "id": "view-in-github",
        "colab_type": "text"
      },
      "source": [
        "<a href=\"https://colab.research.google.com/github/pridenous/NumPyLeasson/blob/master/Freecodecamp_Scientist_Computer_using_Phyton.ipynb\" target=\"_parent\"><img src=\"https://colab.research.google.com/assets/colab-badge.svg\" alt=\"Open In Colab\"/></a>"
      ]
    },
    {
      "cell_type": "markdown",
      "metadata": {
        "id": "O7UPDF014VU9"
      },
      "source": [
        "# **Looping string**"
      ]
    },
    {
      "cell_type": "code",
      "metadata": {
        "id": "5JNkE1_JWPBj",
        "colab": {
          "base_uri": "https://localhost:8080/"
        },
        "outputId": "80621bdd-0882-4f4c-9b5f-4496ad6059b7"
      },
      "source": [
        "letter = input('Letter? ')\r\n",
        "\r\n",
        "# number of array string\r\n",
        "arr_letter = letter[3]\r\n",
        "print(arr_letter)\r\n",
        "\r\n",
        "# Loop using while (not effective at all)\r\n",
        "index = 0\r\n",
        "while index < len(letter) :\r\n",
        "  letter_in_count = letter[index]\r\n",
        "  print(index,letter_in_count)\r\n",
        "  index += 1\r\n",
        "print('Number of letter', len(letter))\r\n",
        "\r\n",
        "# Loop using for (effective mode)\r\n",
        "for count_letter in letter :\r\n",
        "  print(count_letter)"
      ],
      "execution_count": null,
      "outputs": [
        {
          "output_type": "stream",
          "text": [
            "Letter? adli\n",
            "i\n",
            "0 a\n",
            "1 d\n",
            "2 l\n",
            "3 i\n",
            "Number of letter 4\n",
            "a\n",
            "d\n",
            "l\n",
            "i\n"
          ],
          "name": "stdout"
        }
      ]
    },
    {
      "cell_type": "markdown",
      "metadata": {
        "id": "EOLgvgNU5rcH"
      },
      "source": [
        "# **String Slicer and modify**"
      ]
    },
    {
      "cell_type": "code",
      "metadata": {
        "id": "tjVmCvxDnisU",
        "colab": {
          "base_uri": "https://localhost:8080/"
        },
        "outputId": "cfc84134-7ff6-4af3-a7d7-df6f102866df"
      },
      "source": [
        "fruit = 'BANANA'\r\n",
        "\r\n",
        "a = 'a' in fruit\r\n",
        "print('a in fruit',a)\r\n",
        "\r\n",
        "# B   A   N   A   N    A\r\n",
        "# 0   1   2   3   4    5\r\n",
        "b = fruit[0:1] \r\n",
        "print(b)\r\n",
        "b = fruit[2:]\r\n",
        "print(b)\r\n",
        "b = fruit[:3]\r\n",
        "print(b)\r\n",
        "\r\n",
        "# Function Lowercase and Uppercase\r\n",
        "b = fruit.lower()\r\n",
        "print(b)\r\n",
        "print('WATERMELON'.lower())\r\n",
        "\r\n",
        "# Function to find string subcharacter\r\n",
        "b = fruit.find('A') # case sensitive\r\n",
        "print(b)\r\n",
        "\r\n",
        "# Function to find and replace string\r\n",
        "b = fruit.replace('BAN','123') # case sensitive\r\n",
        "print(b)\r\n",
        "\r\n",
        "# Command or Function can be used for string variable\r\n",
        "b = dir(fruit)\r\n",
        "print(b)\r\n",
        "\r\n",
        "# Strippng whitespacing\r\n",
        "letter = '   ohayou   '\r\n",
        "fix_letter = letter.lstrip()  # fix left\r\n",
        "print(fix_letter)\r\n",
        "fix_letter = letter.rstrip()  # fix right\r\n",
        "print(fix_letter)\r\n",
        "fix_letter = letter.strip()   # fix both (left and right)\r\n",
        "print(fix_letter)\r\n",
        "\r\n",
        "# Prefixes\r\n",
        "\r\n",
        "letter = 'Personality is mystery'\r\n",
        "pre_letter = letter.startswith('Personality') # check the string variable start with \r\n",
        "print(pre_letter)\r\n",
        "pre_letter = letter.startswith('p') #case sensitve\r\n",
        "print(pre_letter)\r\n",
        "\r\n",
        "# Find string with combine way\r\n",
        "\r\n",
        "sub_str = 'from pridenote4@gmail.com 00:12:20 GMT'\r\n",
        "# from pridenote4@gmail.com 00:12:20 GMT\r\n",
        "#                15        25\r\n",
        "find_str = sub_str.find('@')\r\n",
        "print(find_str)\r\n",
        "sps_str = sub_str.find(' ',find_str)\r\n",
        "print(sps_str)\r\n",
        "mr_str = sub_str[find_str+1 : sps_str] # start with find_str = 16 number of array string and end with sps_str = 25 number of array (but not including)\r\n",
        "print(mr_str)"
      ],
      "execution_count": null,
      "outputs": [
        {
          "output_type": "stream",
          "text": [
            "a in fruit False\n",
            "B\n",
            "NANA\n",
            "BAN\n",
            "banana\n",
            "watermelon\n",
            "1\n",
            "123ANA\n",
            "['__add__', '__class__', '__contains__', '__delattr__', '__dir__', '__doc__', '__eq__', '__format__', '__ge__', '__getattribute__', '__getitem__', '__getnewargs__', '__gt__', '__hash__', '__init__', '__init_subclass__', '__iter__', '__le__', '__len__', '__lt__', '__mod__', '__mul__', '__ne__', '__new__', '__reduce__', '__reduce_ex__', '__repr__', '__rmod__', '__rmul__', '__setattr__', '__sizeof__', '__str__', '__subclasshook__', 'capitalize', 'casefold', 'center', 'count', 'encode', 'endswith', 'expandtabs', 'find', 'format', 'format_map', 'index', 'isalnum', 'isalpha', 'isdecimal', 'isdigit', 'isidentifier', 'islower', 'isnumeric', 'isprintable', 'isspace', 'istitle', 'isupper', 'join', 'ljust', 'lower', 'lstrip', 'maketrans', 'partition', 'replace', 'rfind', 'rindex', 'rjust', 'rpartition', 'rsplit', 'rstrip', 'split', 'splitlines', 'startswith', 'strip', 'swapcase', 'title', 'translate', 'upper', 'zfill']\n",
            "ohayou   \n",
            "   ohayou\n",
            "ohayou\n",
            "True\n",
            "False\n",
            "15\n",
            "25\n",
            "gmail.com\n"
          ],
          "name": "stdout"
        }
      ]
    },
    {
      "cell_type": "markdown",
      "metadata": {
        "id": "5BPsoGwb25gM"
      },
      "source": [
        "# **String B Operation**"
      ]
    },
    {
      "cell_type": "code",
      "metadata": {
        "colab": {
          "base_uri": "https://localhost:8080/"
        },
        "id": "3ViEk6svxSRZ",
        "outputId": "96bf5752-dac9-48a4-ff3b-6807dad19d33"
      },
      "source": [
        "# Open File in Phyton\r\n",
        "r_file = open('/content/sample_data/mbox-short.txt','r')\r\n",
        "print(r_file)\r\n",
        "\r\n",
        "# Newline operation string\r\n",
        "stuff = 'Hello\\nWorld'\r\n",
        "stuff\r\n",
        "print(stuff)"
      ],
      "execution_count": null,
      "outputs": [
        {
          "output_type": "stream",
          "text": [
            "<_io.TextIOWrapper name='/content/sample_data/mbox-short.txt' mode='r' encoding='UTF-8'>\n",
            "Hello\n",
            "World\n"
          ],
          "name": "stdout"
        }
      ]
    },
    {
      "cell_type": "markdown",
      "metadata": {
        "id": "jCyeOL7KxXk-"
      },
      "source": [
        "# **Reading data**"
      ]
    },
    {
      "cell_type": "markdown",
      "metadata": {
        "id": "mIj61onfT31u"
      },
      "source": [
        "Basic : With Loop Function"
      ]
    },
    {
      "cell_type": "code",
      "metadata": {
        "colab": {
          "base_uri": "https://localhost:8080/"
        },
        "id": "48NV7EAXPgU5",
        "outputId": "a1f4f245-ff6e-4cef-faf5-063d4587254a"
      },
      "source": [
        "\r\n",
        "# Read some data from file with loop\r\n",
        "\r\n",
        "print(\"# Read some data from file with loop \\n\")\r\n",
        "m_message = open('/content/mbox-short.txt')\r\n",
        "for sample in m_message :\r\n",
        "  print(sample)\r\n",
        "\r\n",
        "# Count number line of data with loop\r\n",
        "\r\n",
        "m_message = open('/content/mbox-short.txt')\r\n",
        "count = 0\r\n",
        "for line in m_message : \r\n",
        "  count += 1\r\n",
        "print('number of count line',count)"
      ],
      "execution_count": null,
      "outputs": [
        {
          "output_type": "stream",
          "text": [
            "# Read some data from file with loop \n",
            "\n",
            "From stephen.marquard@uct.ac.za Sat Jan  5 09:14:16 2008\n",
            "\n",
            "Return-Path: <postmaster@collab.sakaiproject.org>\n",
            "\n",
            "Received: from murder (mail.umich.edu [141.211.14.90])\n",
            "\n",
            "\t by frankenstein.mail.umich.edu (Cyrus v2.3.8) with LMTPA;\n",
            "\n",
            "\t Sat, 05 Jan 2008 09:14:16 -0500\n",
            "\n",
            "X-Sieve: CMU Sieve 2.3\n",
            "\n",
            "\n",
            "\n",
            "number of count line 7\n"
          ],
          "name": "stdout"
        }
      ]
    },
    {
      "cell_type": "markdown",
      "metadata": {
        "id": "Ki44DpQnP6Ow"
      },
      "source": [
        "and With **Read** File Function"
      ]
    },
    {
      "cell_type": "code",
      "metadata": {
        "colab": {
          "base_uri": "https://localhost:8080/"
        },
        "id": "clDielBKUMbm",
        "outputId": "185ce2cb-48b5-4301-b8e6-d85ea1339c5b"
      },
      "source": [
        "# Read some data from file with function\r\n",
        "print(\"# Read some data from file with function \\n\")\r\n",
        "m_message = open('/content/mbox-short.txt')\r\n",
        "r_data = m_message.read()\r\n",
        "print(r_data)\r\n",
        "print('\\n\\n')\r\n",
        "\r\n",
        "# Calculate number of character from file\r\n",
        "print('Number of Character :',len(r_data))\r\n",
        "\r\n",
        "# Find\r\n",
        "print('You find :', r_data[:20])"
      ],
      "execution_count": null,
      "outputs": [
        {
          "output_type": "stream",
          "text": [
            "# Read some data from file with function \n",
            "\n",
            "From stephen.marquard@uct.ac.za Sat Jan  5 09:14:16 2008\n",
            "Return-Path: <postmaster@collab.sakaiproject.org>\n",
            "Received: from murder (mail.umich.edu [141.211.14.90])\n",
            "\t by frankenstein.mail.umich.edu (Cyrus v2.3.8) with LMTPA;\n",
            "\t Sat, 05 Jan 2008 09:14:16 -0500\n",
            "X-Sieve: CMU Sieve 2.3\n",
            "\n",
            "\n",
            "\n",
            "\n",
            "\n",
            "Number of Character : 280\n",
            "You find : From stephen.marquar\n"
          ],
          "name": "stdout"
        }
      ]
    },
    {
      "cell_type": "markdown",
      "metadata": {
        "id": "1RAsf-whUOfQ"
      },
      "source": [
        "Basic : Find with loop and if statement"
      ]
    },
    {
      "cell_type": "code",
      "metadata": {
        "id": "ra_6YVV3VWDo"
      },
      "source": [
        "m_message = open('/content/mbox-short.txt')\r\n",
        "for line in m_message :\r\n",
        "  # Find line start with 'From' \r\n",
        "  if line.startswith('From') :\r\n",
        "    print(line)"
      ],
      "execution_count": null,
      "outputs": []
    },
    {
      "cell_type": "code",
      "metadata": {
        "id": "pegpgp_QVhQ3"
      },
      "source": [
        "m_message = open('/content/mbox-short.txt')\r\n",
        "for line in m_message :\r\n",
        "  if line.startswith('From') :\r\n",
        "    # With rstrip, this is reason to delete whitespace from line\r\n",
        "    line = line.rstrip()\r\n",
        "    print(line)"
      ],
      "execution_count": null,
      "outputs": []
    },
    {
      "cell_type": "code",
      "metadata": {
        "colab": {
          "base_uri": "https://localhost:8080/"
        },
        "id": "hzrcPCtSPIb-",
        "outputId": "a84f0523-1fb9-417e-b51f-a6220d61e547"
      },
      "source": [
        "# Search of word from data\r\n",
        "m_message = open('/content/mbox-short.txt')\r\n",
        "for line in m_message :\r\n",
        "  line = line.strip()\r\n",
        "  # if not stephen just skipped, if stephen print out\r\n",
        "  if not 'stephen' in line :\r\n",
        "    continue\r\n",
        "  print(line)"
      ],
      "execution_count": 16,
      "outputs": [
        {
          "output_type": "stream",
          "text": [
            "From stephen.marquard@uct.ac.za Sat Jan  5 09:14:16 2008\n",
            "X-Authentication-Warning: nakamura.uits.iupui.edu: apache set sender to stephen.marquard@uct.ac.za using -f\n",
            "From: stephen.marquard@uct.ac.za\n",
            "Author: stephen.marquard@uct.ac.za\n",
            "From stephen.marquard@uct.ac.za Fri Jan  4 04:07:34 2008\n",
            "X-Authentication-Warning: nakamura.uits.iupui.edu: apache set sender to stephen.marquard@uct.ac.za using -f\n",
            "From: stephen.marquard@uct.ac.za\n",
            "Author: stephen.marquard@uct.ac.za\n"
          ],
          "name": "stdout"
        }
      ]
    },
    {
      "cell_type": "markdown",
      "metadata": {
        "id": "Rf8ITNV0VKZq"
      },
      "source": [
        "**Input file and open it, with error control**"
      ]
    },
    {
      "cell_type": "code",
      "metadata": {
        "colab": {
          "base_uri": "https://localhost:8080/"
        },
        "id": "w7cycZktRmrL",
        "outputId": "7238751d-7b22-4d9b-a677-0fcab7ac65b1"
      },
      "source": [
        "open_txt = input('open directory or file/txt >')\r\n",
        "try :\r\n",
        "  txt_file = open(open_txt)\r\n",
        "  count = 0\r\n",
        "  for line in txt_file :\r\n",
        "    count += 1\r\n",
        "  print('Total Subject line',count)\r\n",
        "except :\r\n",
        "  print('sorry, no such directory or file')\r\n"
      ],
      "execution_count": 4,
      "outputs": [
        {
          "output_type": "stream",
          "text": [
            "open directory or file/txt >/content/mbox-short.txt\n",
            "Total Subject line 1910\n"
          ],
          "name": "stdout"
        }
      ]
    }
  ]
}