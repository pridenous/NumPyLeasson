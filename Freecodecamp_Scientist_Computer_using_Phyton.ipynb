{
  "nbformat": 4,
  "nbformat_minor": 0,
  "metadata": {
    "colab": {
      "name": "Freecodecamp : Scientist Computer using Phyton.ipynb",
      "provenance": [],
      "authorship_tag": "ABX9TyMpuhu7JsQTJsFK3m1bp6hz",
      "include_colab_link": true
    },
    "kernelspec": {
      "name": "python3",
      "display_name": "Python 3"
    }
  },
  "cells": [
    {
      "cell_type": "markdown",
      "metadata": {
        "id": "view-in-github",
        "colab_type": "text"
      },
      "source": [
        "<a href=\"https://colab.research.google.com/github/pridenous/NumPyLeasson/blob/master/Freecodecamp_Scientist_Computer_using_Phyton.ipynb\" target=\"_parent\"><img src=\"https://colab.research.google.com/assets/colab-badge.svg\" alt=\"Open In Colab\"/></a>"
      ]
    },
    {
      "cell_type": "code",
      "metadata": {
        "id": "5JNkE1_JWPBj",
        "colab": {
          "base_uri": "https://localhost:8080/"
        },
        "outputId": "80621bdd-0882-4f4c-9b5f-4496ad6059b7"
      },
      "source": [
        "letter = input('Letter? ')\r\n",
        "\r\n",
        "# number of array string\r\n",
        "arr_letter = letter[3]\r\n",
        "print(arr_letter)\r\n",
        "\r\n",
        "# Loop using while (not effective at all)\r\n",
        "index = 0\r\n",
        "while index < len(letter) :\r\n",
        "  letter_in_count = letter[index]\r\n",
        "  print(index,letter_in_count)\r\n",
        "  index += 1\r\n",
        "print('Number of letter', len(letter))\r\n",
        "\r\n",
        "# Loop using for (effective mode)\r\n",
        "for count_letter in letter :\r\n",
        "  print(count_letter)"
      ],
      "execution_count": 4,
      "outputs": [
        {
          "output_type": "stream",
          "text": [
            "Letter? adli\n",
            "i\n",
            "0 a\n",
            "1 d\n",
            "2 l\n",
            "3 i\n",
            "Number of letter 4\n",
            "a\n",
            "d\n",
            "l\n",
            "i\n"
          ],
          "name": "stdout"
        }
      ]
    },
    {
      "cell_type": "code",
      "metadata": {
        "id": "tjVmCvxDnisU"
      },
      "source": [
        ""
      ],
      "execution_count": null,
      "outputs": []
    }
  ]
}