{
  "nbformat": 4,
  "nbformat_minor": 0,
  "metadata": {
    "colab": {
      "name": "eighthLeasson.ipynb",
      "provenance": [],
      "authorship_tag": "ABX9TyObqKqRdLoWF0iMo+/1+m/r",
      "include_colab_link": true
    },
    "kernelspec": {
      "name": "python3",
      "display_name": "Python 3"
    }
  },
  "cells": [
    {
      "cell_type": "markdown",
      "metadata": {
        "id": "view-in-github",
        "colab_type": "text"
      },
      "source": [
        "<a href=\"https://colab.research.google.com/github/pridenous/NumPyLeasson/blob/master/eighthLeasson.ipynb\" target=\"_parent\"><img src=\"https://colab.research.google.com/assets/colab-badge.svg\" alt=\"Open In Colab\"/></a>"
      ]
    },
    {
      "cell_type": "markdown",
      "metadata": {
        "id": "Un8r03yIPZRt"
      },
      "source": [
        "# **Algebra and Size**"
      ]
    },
    {
      "cell_type": "code",
      "metadata": {
        "id": "BKSAkVL9QD36"
      },
      "source": [
        "import numpy as np\r\n",
        "import sys"
      ],
      "execution_count": 7,
      "outputs": []
    },
    {
      "cell_type": "markdown",
      "metadata": {
        "id": "awKb2m6JVJ3J"
      },
      "source": [
        "Membuat variabel array, **a = 3 Dimensi** dan **b = 2 Dimensi**"
      ]
    },
    {
      "cell_type": "code",
      "metadata": {
        "colab": {
          "base_uri": "https://localhost:8080/"
        },
        "id": "EbyzWmwsPl01",
        "outputId": "b6643875-a38d-4cb1-9426-38688cf21aa6"
      },
      "source": [
        "# a = np.random.randint(100,size=(3,3))\r\n",
        "a = np.array([[49, 62, 27],\r\n",
        "       [88,  6, 11],\r\n",
        "       [74, 35, 51]])\r\n",
        "a"
      ],
      "execution_count": 2,
      "outputs": [
        {
          "output_type": "execute_result",
          "data": {
            "text/plain": [
              "array([[49, 62, 27],\n",
              "       [88,  6, 11],\n",
              "       [74, 35, 51]])"
            ]
          },
          "metadata": {
            "tags": []
          },
          "execution_count": 2
        }
      ]
    },
    {
      "cell_type": "code",
      "metadata": {
        "colab": {
          "base_uri": "https://localhost:8080/"
        },
        "id": "w_8R63zSQMwu",
        "outputId": "4404dc93-326e-422c-fc49-b98a16b34d9b"
      },
      "source": [
        "# b = np.random.randint(50,size=(3,2))\r\n",
        "b = np.array([[ 2,  9],\r\n",
        "       [ 9, 28],\r\n",
        "       [34, 44]])\r\n",
        "b"
      ],
      "execution_count": 3,
      "outputs": [
        {
          "output_type": "execute_result",
          "data": {
            "text/plain": [
              "array([[ 2,  9],\n",
              "       [ 9, 28],\n",
              "       [34, 44]])"
            ]
          },
          "metadata": {
            "tags": []
          },
          "execution_count": 3
        }
      ]
    },
    {
      "cell_type": "markdown",
      "metadata": {
        "id": "ZhmcZ9onTQ5k"
      },
      "source": [
        "**Operasi Matriks** <h5>\r\n",
        "*Maka didapat,* <h5>,\r\n",
        "\r\n",
        "\r\n",
        ">$a =\r\n",
        " \\begin{pmatrix}\r\n",
        "  {49} & {62} & {27} \\\\\r\n",
        "  {88} & {6} & {11} \\\\\r\n",
        "  {74} & {35} & {51} \r\n",
        " \\end{pmatrix}$\r\n",
        "\r\n",
        " dan ,\r\n",
        " >$b =\r\n",
        " \\begin{pmatrix}\r\n",
        "  {2} &  {9} \\\\\r\n",
        "  {9} & {28} \\\\\r\n",
        "  {34} &  {44} \r\n",
        " \\end{pmatrix}$\r\n",
        " \r\n",
        "\r\n",
        "\r\n",
        "\r\n",
        "\r\n"
      ]
    },
    {
      "cell_type": "markdown",
      "metadata": {
        "id": "hbpJLaVbY0i7"
      },
      "source": [
        "**Perkalian beda matriks** <h5>\r\n",
        "operasi pada matriks ($a.b$)"
      ]
    },
    {
      "cell_type": "code",
      "metadata": {
        "colab": {
          "base_uri": "https://localhost:8080/"
        },
        "id": "a5hM27DJZJcC",
        "outputId": "d1c106e8-b4d9-4d86-a3d1-4cfee41ccf0b"
      },
      "source": [
        "a.dot(b)"
      ],
      "execution_count": null,
      "outputs": [
        {
          "output_type": "execute_result",
          "data": {
            "text/plain": [
              "array([[1574, 3365],\n",
              "       [ 604, 1444],\n",
              "       [2197, 3890]])"
            ]
          },
          "metadata": {
            "tags": []
          },
          "execution_count": 31
        }
      ]
    },
    {
      "cell_type": "code",
      "metadata": {
        "colab": {
          "base_uri": "https://localhost:8080/"
        },
        "id": "NxmYa2kxZMmv",
        "outputId": "52928a25-202e-4ef0-a227-db66ff09fed5"
      },
      "source": [
        "a @ b "
      ],
      "execution_count": null,
      "outputs": [
        {
          "output_type": "execute_result",
          "data": {
            "text/plain": [
              "array([[1574, 3365],\n",
              "       [ 604, 1444],\n",
              "       [2197, 3890]])"
            ]
          },
          "metadata": {
            "tags": []
          },
          "execution_count": 32
        }
      ]
    },
    {
      "cell_type": "markdown",
      "metadata": {
        "id": "CNbO4Xa1ZUaH"
      },
      "source": [
        "**Transpos Matriks**"
      ]
    },
    {
      "cell_type": "markdown",
      "metadata": {
        "id": "m_sB9Zm2Z8x2"
      },
      "source": [
        "operasi matriks dengan mentransposkan array $b$ = $b^T$"
      ]
    },
    {
      "cell_type": "code",
      "metadata": {
        "colab": {
          "base_uri": "https://localhost:8080/"
        },
        "id": "K1WBnNeRasoD",
        "outputId": "16ffbd22-7210-42c8-dcad-a1961fc5b7a8"
      },
      "source": [
        "b #array sebelum transpos"
      ],
      "execution_count": null,
      "outputs": [
        {
          "output_type": "execute_result",
          "data": {
            "text/plain": [
              "array([[ 2,  9],\n",
              "       [ 9, 28],\n",
              "       [34, 44]])"
            ]
          },
          "metadata": {
            "tags": []
          },
          "execution_count": 34
        }
      ]
    },
    {
      "cell_type": "code",
      "metadata": {
        "colab": {
          "base_uri": "https://localhost:8080/"
        },
        "id": "K5fKN8UpaL6_",
        "outputId": "2c56a6e7-1cd7-4c81-ae33-62fdd2febdd5"
      },
      "source": [
        "b.T # array sesudah transpos"
      ],
      "execution_count": null,
      "outputs": [
        {
          "output_type": "execute_result",
          "data": {
            "text/plain": [
              "array([[ 2,  9, 34],\n",
              "       [ 9, 28, 44]])"
            ]
          },
          "metadata": {
            "tags": []
          },
          "execution_count": 35
        }
      ]
    },
    {
      "cell_type": "markdown",
      "metadata": {
        "id": "poaef6ERjGCv"
      },
      "source": [
        "Operasi matriks $b^T$$. a$"
      ]
    },
    {
      "cell_type": "code",
      "metadata": {
        "id": "qs8-yhokapXI",
        "outputId": "31046df8-a308-4615-e258-333eccc7d871",
        "colab": {
          "base_uri": "https://localhost:8080/"
        }
      },
      "source": [
        "b.T @ a"
      ],
      "execution_count": 5,
      "outputs": [
        {
          "output_type": "execute_result",
          "data": {
            "text/plain": [
              "array([[3406, 1368, 1887],\n",
              "       [6161, 2266, 2795]])"
            ]
          },
          "metadata": {
            "tags": []
          },
          "execution_count": 5
        }
      ]
    },
    {
      "cell_type": "markdown",
      "metadata": {
        "id": "lOBUuA5sjdW4"
      },
      "source": [
        "# **Size of Object in Memory**"
      ]
    },
    {
      "cell_type": "markdown",
      "metadata": {
        "id": "tqyTXttjkTkW"
      },
      "source": [
        "dapat dikatakan, angka **3** di python memakan resource sebesar `28 Bytes`"
      ]
    },
    {
      "cell_type": "code",
      "metadata": {
        "id": "TLwIqXCTj2R4",
        "outputId": "8e57b99a-069b-4047-e732-6cba5f6fd797",
        "colab": {
          "base_uri": "https://localhost:8080/"
        }
      },
      "source": [
        "sys.getsizeof(3)"
      ],
      "execution_count": 10,
      "outputs": [
        {
          "output_type": "execute_result",
          "data": {
            "text/plain": [
              "28"
            ]
          },
          "metadata": {
            "tags": []
          },
          "execution_count": 10
        }
      ]
    },
    {
      "cell_type": "markdown",
      "metadata": {
        "id": "VoO3tI2TlGpK"
      },
      "source": [
        "didapatkan juga tipe data **long** memakan lebih banyak resource dibanding integer"
      ]
    },
    {
      "cell_type": "code",
      "metadata": {
        "id": "wLm3aYEoj7IB",
        "outputId": "efea1c19-ce2d-45b8-edda-866b91274b84",
        "colab": {
          "base_uri": "https://localhost:8080/"
        }
      },
      "source": [
        "sys.getsizeof(10**100)"
      ],
      "execution_count": 9,
      "outputs": [
        {
          "output_type": "execute_result",
          "data": {
            "text/plain": [
              "72"
            ]
          },
          "metadata": {
            "tags": []
          },
          "execution_count": 9
        }
      ]
    },
    {
      "cell_type": "code",
      "metadata": {
        "id": "63lmQ23SlEit",
        "outputId": "8a55a8e2-609a-4265-97fa-6487143e0fa0",
        "colab": {
          "base_uri": "https://localhost:8080/"
        }
      },
      "source": [
        "sys.getsizeof(int)"
      ],
      "execution_count": 11,
      "outputs": [
        {
          "output_type": "execute_result",
          "data": {
            "text/plain": [
              "400"
            ]
          },
          "metadata": {
            "tags": []
          },
          "execution_count": 11
        }
      ]
    },
    {
      "cell_type": "code",
      "metadata": {
        "id": "I8lb4CXxldun",
        "outputId": "454f8f35-a8bd-4168-f7a2-b7fd90dcf05f",
        "colab": {
          "base_uri": "https://localhost:8080/"
        }
      },
      "source": [
        "np.dtype(int).itemsize #resouce integer per satu angka"
      ],
      "execution_count": 12,
      "outputs": [
        {
          "output_type": "execute_result",
          "data": {
            "text/plain": [
              "8"
            ]
          },
          "metadata": {
            "tags": []
          },
          "execution_count": 12
        }
      ]
    },
    {
      "cell_type": "code",
      "metadata": {
        "id": "ez9BpNzSloL4",
        "outputId": "e4bb06e8-d4e2-4688-a453-68b2299a4e55",
        "colab": {
          "base_uri": "https://localhost:8080/"
        }
      },
      "source": [
        "np.dtype(float).itemsize #resource float per satu angka"
      ],
      "execution_count": 14,
      "outputs": [
        {
          "output_type": "execute_result",
          "data": {
            "text/plain": [
              "8"
            ]
          },
          "metadata": {
            "tags": []
          },
          "execution_count": 14
        }
      ]
    },
    {
      "cell_type": "code",
      "metadata": {
        "id": "MTl2KXQzlsXg"
      },
      "source": [
        ""
      ],
      "execution_count": null,
      "outputs": []
    }
  ]
}