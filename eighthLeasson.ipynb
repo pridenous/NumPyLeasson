{
  "nbformat": 4,
  "nbformat_minor": 0,
  "metadata": {
    "colab": {
      "name": "eighthLeasson.ipynb",
      "provenance": [],
      "include_colab_link": true
    },
    "kernelspec": {
      "name": "python3",
      "display_name": "Python 3"
    }
  },
  "cells": [
    {
      "cell_type": "markdown",
      "metadata": {
        "id": "view-in-github",
        "colab_type": "text"
      },
      "source": [
        "<a href=\"https://colab.research.google.com/github/pridenous/NumPyLeasson/blob/master/eighthLeasson.ipynb\" target=\"_parent\"><img src=\"https://colab.research.google.com/assets/colab-badge.svg\" alt=\"Open In Colab\"/></a>"
      ]
    },
    {
      "cell_type": "markdown",
      "metadata": {
        "id": "Un8r03yIPZRt"
      },
      "source": [
        "# **Algebra and Size**"
      ]
    },
    {
      "cell_type": "code",
      "metadata": {
        "id": "BKSAkVL9QD36"
      },
      "source": [
        "import numpy as np\r\n",
        "import sys"
      ],
      "execution_count": null,
      "outputs": []
    },
    {
      "cell_type": "markdown",
      "metadata": {
        "id": "awKb2m6JVJ3J"
      },
      "source": [
        "Membuat variabel array, **a = 3 Dimensi** dan **b = 2 Dimensi**"
      ]
    },
    {
      "cell_type": "code",
      "metadata": {
        "colab": {
          "base_uri": "https://localhost:8080/"
        },
        "id": "EbyzWmwsPl01",
        "outputId": "b6643875-a38d-4cb1-9426-38688cf21aa6"
      },
      "source": [
        "# a = np.random.randint(100,size=(3,3))\r\n",
        "a = np.array([[49, 62, 27],\r\n",
        "       [88,  6, 11],\r\n",
        "       [74, 35, 51]])\r\n",
        "a"
      ],
      "execution_count": null,
      "outputs": [
        {
          "output_type": "execute_result",
          "data": {
            "text/plain": [
              "array([[49, 62, 27],\n",
              "       [88,  6, 11],\n",
              "       [74, 35, 51]])"
            ]
          },
          "metadata": {
            "tags": []
          },
          "execution_count": 2
        }
      ]
    },
    {
      "cell_type": "code",
      "metadata": {
        "colab": {
          "base_uri": "https://localhost:8080/"
        },
        "id": "w_8R63zSQMwu",
        "outputId": "4404dc93-326e-422c-fc49-b98a16b34d9b"
      },
      "source": [
        "# b = np.random.randint(50,size=(3,2))\r\n",
        "b = np.array([[ 2,  9],\r\n",
        "       [ 9, 28],\r\n",
        "       [34, 44]])\r\n",
        "b"
      ],
      "execution_count": null,
      "outputs": [
        {
          "output_type": "execute_result",
          "data": {
            "text/plain": [
              "array([[ 2,  9],\n",
              "       [ 9, 28],\n",
              "       [34, 44]])"
            ]
          },
          "metadata": {
            "tags": []
          },
          "execution_count": 3
        }
      ]
    },
    {
      "cell_type": "markdown",
      "metadata": {
        "id": "ZhmcZ9onTQ5k"
      },
      "source": [
        "**Operasi Matriks** <h5>\r\n",
        "*Maka didapat,* <h5>,\r\n",
        "\r\n",
        "\r\n",
        ">$a =\r\n",
        " \\begin{pmatrix}\r\n",
        "  {49} & {62} & {27} \\\\\r\n",
        "  {88} & {6} & {11} \\\\\r\n",
        "  {74} & {35} & {51} \r\n",
        " \\end{pmatrix}$\r\n",
        "\r\n",
        " dan ,\r\n",
        " >$b =\r\n",
        " \\begin{pmatrix}\r\n",
        "  {2} &  {9} \\\\\r\n",
        "  {9} & {28} \\\\\r\n",
        "  {34} &  {44} \r\n",
        " \\end{pmatrix}$\r\n",
        " \r\n",
        "\r\n",
        "\r\n",
        "\r\n",
        "\r\n"
      ]
    },
    {
      "cell_type": "markdown",
      "metadata": {
        "id": "hbpJLaVbY0i7"
      },
      "source": [
        "**Perkalian beda matriks** <h5>\r\n",
        "operasi pada matriks ($a.b$)"
      ]
    },
    {
      "cell_type": "code",
      "metadata": {
        "colab": {
          "base_uri": "https://localhost:8080/"
        },
        "id": "a5hM27DJZJcC",
        "outputId": "d1c106e8-b4d9-4d86-a3d1-4cfee41ccf0b"
      },
      "source": [
        "a.dot(b)"
      ],
      "execution_count": null,
      "outputs": [
        {
          "output_type": "execute_result",
          "data": {
            "text/plain": [
              "array([[1574, 3365],\n",
              "       [ 604, 1444],\n",
              "       [2197, 3890]])"
            ]
          },
          "metadata": {
            "tags": []
          },
          "execution_count": 31
        }
      ]
    },
    {
      "cell_type": "code",
      "metadata": {
        "colab": {
          "base_uri": "https://localhost:8080/"
        },
        "id": "NxmYa2kxZMmv",
        "outputId": "52928a25-202e-4ef0-a227-db66ff09fed5"
      },
      "source": [
        "a @ b "
      ],
      "execution_count": null,
      "outputs": [
        {
          "output_type": "execute_result",
          "data": {
            "text/plain": [
              "array([[1574, 3365],\n",
              "       [ 604, 1444],\n",
              "       [2197, 3890]])"
            ]
          },
          "metadata": {
            "tags": []
          },
          "execution_count": 32
        }
      ]
    },
    {
      "cell_type": "markdown",
      "metadata": {
        "id": "CNbO4Xa1ZUaH"
      },
      "source": [
        "**Transpos Matriks**"
      ]
    },
    {
      "cell_type": "markdown",
      "metadata": {
        "id": "m_sB9Zm2Z8x2"
      },
      "source": [
        "operasi matriks dengan mentransposkan array $b$ = $b^T$"
      ]
    },
    {
      "cell_type": "code",
      "metadata": {
        "colab": {
          "base_uri": "https://localhost:8080/"
        },
        "id": "K1WBnNeRasoD",
        "outputId": "16ffbd22-7210-42c8-dcad-a1961fc5b7a8"
      },
      "source": [
        "b #array sebelum transpos"
      ],
      "execution_count": null,
      "outputs": [
        {
          "output_type": "execute_result",
          "data": {
            "text/plain": [
              "array([[ 2,  9],\n",
              "       [ 9, 28],\n",
              "       [34, 44]])"
            ]
          },
          "metadata": {
            "tags": []
          },
          "execution_count": 34
        }
      ]
    },
    {
      "cell_type": "code",
      "metadata": {
        "colab": {
          "base_uri": "https://localhost:8080/"
        },
        "id": "K5fKN8UpaL6_",
        "outputId": "2c56a6e7-1cd7-4c81-ae33-62fdd2febdd5"
      },
      "source": [
        "b.T # array sesudah transpos"
      ],
      "execution_count": null,
      "outputs": [
        {
          "output_type": "execute_result",
          "data": {
            "text/plain": [
              "array([[ 2,  9, 34],\n",
              "       [ 9, 28, 44]])"
            ]
          },
          "metadata": {
            "tags": []
          },
          "execution_count": 35
        }
      ]
    },
    {
      "cell_type": "markdown",
      "metadata": {
        "id": "poaef6ERjGCv"
      },
      "source": [
        "Operasi matriks $b^T$$. a$"
      ]
    },
    {
      "cell_type": "code",
      "metadata": {
        "id": "qs8-yhokapXI",
        "colab": {
          "base_uri": "https://localhost:8080/"
        },
        "outputId": "31046df8-a308-4615-e258-333eccc7d871"
      },
      "source": [
        "b.T @ a"
      ],
      "execution_count": null,
      "outputs": [
        {
          "output_type": "execute_result",
          "data": {
            "text/plain": [
              "array([[3406, 1368, 1887],\n",
              "       [6161, 2266, 2795]])"
            ]
          },
          "metadata": {
            "tags": []
          },
          "execution_count": 5
        }
      ]
    },
    {
      "cell_type": "markdown",
      "metadata": {
        "id": "lOBUuA5sjdW4"
      },
      "source": [
        "# **Size of Object in Memory**"
      ]
    },
    {
      "cell_type": "markdown",
      "metadata": {
        "id": "tqyTXttjkTkW"
      },
      "source": [
        "dapat dikatakan, angka **3** di python memakan resource sebesar `28 Bytes` tanpa **NumPy**"
      ]
    },
    {
      "cell_type": "code",
      "metadata": {
        "colab": {
          "base_uri": "https://localhost:8080/"
        },
        "id": "TLwIqXCTj2R4",
        "outputId": "8e57b99a-069b-4047-e732-6cba5f6fd797"
      },
      "source": [
        "sys.getsizeof(3)"
      ],
      "execution_count": null,
      "outputs": [
        {
          "output_type": "execute_result",
          "data": {
            "text/plain": [
              "28"
            ]
          },
          "metadata": {
            "tags": []
          },
          "execution_count": 10
        }
      ]
    },
    {
      "cell_type": "markdown",
      "metadata": {
        "id": "VoO3tI2TlGpK"
      },
      "source": [
        "didapatkan juga tipe data **long** memakan lebih banyak resource dibanding integer tanpa **NumPy**"
      ]
    },
    {
      "cell_type": "code",
      "metadata": {
        "colab": {
          "base_uri": "https://localhost:8080/"
        },
        "id": "wLm3aYEoj7IB",
        "outputId": "efea1c19-ce2d-45b8-edda-866b91274b84"
      },
      "source": [
        "sys.getsizeof(10**100)"
      ],
      "execution_count": null,
      "outputs": [
        {
          "output_type": "execute_result",
          "data": {
            "text/plain": [
              "72"
            ]
          },
          "metadata": {
            "tags": []
          },
          "execution_count": 9
        }
      ]
    },
    {
      "cell_type": "code",
      "metadata": {
        "colab": {
          "base_uri": "https://localhost:8080/"
        },
        "id": "63lmQ23SlEit",
        "outputId": "8a55a8e2-609a-4265-97fa-6487143e0fa0"
      },
      "source": [
        "sys.getsizeof(int)"
      ],
      "execution_count": null,
      "outputs": [
        {
          "output_type": "execute_result",
          "data": {
            "text/plain": [
              "400"
            ]
          },
          "metadata": {
            "tags": []
          },
          "execution_count": 11
        }
      ]
    },
    {
      "cell_type": "code",
      "metadata": {
        "colab": {
          "base_uri": "https://localhost:8080/"
        },
        "id": "I8lb4CXxldun",
        "outputId": "454f8f35-a8bd-4168-f7a2-b7fd90dcf05f"
      },
      "source": [
        "np.dtype(int).itemsize #resouce integer per satu angka dengan NumPy"
      ],
      "execution_count": null,
      "outputs": [
        {
          "output_type": "execute_result",
          "data": {
            "text/plain": [
              "8"
            ]
          },
          "metadata": {
            "tags": []
          },
          "execution_count": 12
        }
      ]
    },
    {
      "cell_type": "code",
      "metadata": {
        "colab": {
          "base_uri": "https://localhost:8080/"
        },
        "id": "ez9BpNzSloL4",
        "outputId": "360390c7-e7d7-4d1c-e1eb-717b1ef8d76d"
      },
      "source": [
        "np.dtype(float).itemsize #resource float per satu angka dengan NumPy"
      ],
      "execution_count": null,
      "outputs": [
        {
          "output_type": "execute_result",
          "data": {
            "text/plain": [
              "8"
            ]
          },
          "metadata": {
            "tags": []
          },
          "execution_count": 15
        }
      ]
    },
    {
      "cell_type": "code",
      "metadata": {
        "colab": {
          "base_uri": "https://localhost:8080/"
        },
        "id": "MTl2KXQzlsXg",
        "outputId": "c6ffd642-f480-4986-e41d-638c2380ab5b"
      },
      "source": [
        "np.dtype(np.int8).itemsize"
      ],
      "execution_count": null,
      "outputs": [
        {
          "output_type": "execute_result",
          "data": {
            "text/plain": [
              "1"
            ]
          },
          "metadata": {
            "tags": []
          },
          "execution_count": 19
        }
      ]
    },
    {
      "cell_type": "markdown",
      "metadata": {
        "id": "xkfyOXQFstWM"
      },
      "source": [
        "**Size of List**"
      ]
    },
    {
      "cell_type": "code",
      "metadata": {
        "id": "-zzMVMRfs0ba",
        "colab": {
          "base_uri": "https://localhost:8080/"
        },
        "outputId": "127b2bdc-8307-4145-ab92-e35ef7b1a4d9"
      },
      "source": [
        "sys.getsizeof([1]) #List Without NumPy"
      ],
      "execution_count": null,
      "outputs": [
        {
          "output_type": "execute_result",
          "data": {
            "text/plain": [
              "72"
            ]
          },
          "metadata": {
            "tags": []
          },
          "execution_count": 17
        }
      ]
    },
    {
      "cell_type": "code",
      "metadata": {
        "id": "cDeiK9mes41Y",
        "colab": {
          "base_uri": "https://localhost:8080/"
        },
        "outputId": "983bc40b-0a13-4155-ac39-75d23008ed15"
      },
      "source": [
        "np.array([1]).nbytes #Array use NumPy"
      ],
      "execution_count": null,
      "outputs": [
        {
          "output_type": "execute_result",
          "data": {
            "text/plain": [
              "8"
            ]
          },
          "metadata": {
            "tags": []
          },
          "execution_count": 21
        }
      ]
    },
    {
      "cell_type": "markdown",
      "metadata": {
        "id": "K714WtJMs92u"
      },
      "source": [
        "**Perfomance is Important**"
      ]
    },
    {
      "cell_type": "code",
      "metadata": {
        "id": "3DHe4JzguF2-"
      },
      "source": [
        "l = list(range(1000))\r\n",
        "l #Variabel List With Python"
      ],
      "execution_count": null,
      "outputs": []
    },
    {
      "cell_type": "code",
      "metadata": {
        "id": "mMOhxSGcuKX6"
      },
      "source": [
        "a = np.arange(1000)\r\n",
        "a #Variabel Array with NumPy"
      ],
      "execution_count": null,
      "outputs": []
    },
    {
      "cell_type": "markdown",
      "metadata": {
        "id": "EWLPJioMuYYJ"
      },
      "source": [
        "Kecepatan dalam mengeksekusi/memproses data sangat penting dalam pemrograman"
      ]
    },
    {
      "cell_type": "markdown",
      "metadata": {
        "id": "qxo3NOzuuxs5"
      },
      "source": [
        "``Array a`` <h5>\r\n",
        "Dapat dilihat Array menggunakan numpy terlihat lebih cepat diproses"
      ]
    },
    {
      "cell_type": "code",
      "metadata": {
        "id": "zO9al6OGu5-K",
        "colab": {
          "base_uri": "https://localhost:8080/"
        },
        "outputId": "481fc3e3-d381-405f-a550-1aa61555f215"
      },
      "source": [
        "%time np.sum(a ** 2)"
      ],
      "execution_count": null,
      "outputs": [
        {
          "output_type": "stream",
          "text": [
            "CPU times: user 177 µs, sys: 21 µs, total: 198 µs\n",
            "Wall time: 186 µs\n"
          ],
          "name": "stdout"
        },
        {
          "output_type": "execute_result",
          "data": {
            "text/plain": [
              "332833500"
            ]
          },
          "metadata": {
            "tags": []
          },
          "execution_count": 27
        }
      ]
    },
    {
      "cell_type": "markdown",
      "metadata": {
        "id": "kTguF-VxvC1r"
      },
      "source": [
        "``List l`` <h5>\r\n",
        "sedangkan list dengan Phyton sedikit lebih tertinggal dibanding array dengan NumPy"
      ]
    },
    {
      "cell_type": "code",
      "metadata": {
        "id": "1X7luIu9vLKT",
        "colab": {
          "base_uri": "https://localhost:8080/"
        },
        "outputId": "4f29f967-c034-4a09-86bd-7ab3b626ba28"
      },
      "source": [
        "%time sum([x**2 for x in l])"
      ],
      "execution_count": null,
      "outputs": [
        {
          "output_type": "stream",
          "text": [
            "CPU times: user 328 µs, sys: 0 ns, total: 328 µs\n",
            "Wall time: 332 µs\n"
          ],
          "name": "stdout"
        },
        {
          "output_type": "execute_result",
          "data": {
            "text/plain": [
              "332833500"
            ]
          },
          "metadata": {
            "tags": []
          },
          "execution_count": 29
        }
      ]
    },
    {
      "cell_type": "code",
      "metadata": {
        "id": "-yPT8uWkvRO2"
      },
      "source": [
        ""
      ],
      "execution_count": null,
      "outputs": []
    }
  ]
}