{
  "nbformat": 4,
  "nbformat_minor": 0,
  "metadata": {
    "colab": {
      "name": "eighthLeasson.ipynb",
      "provenance": [],
      "authorship_tag": "ABX9TyO3PlN+fvTszptjVkvzx15l",
      "include_colab_link": true
    },
    "kernelspec": {
      "name": "python3",
      "display_name": "Python 3"
    }
  },
  "cells": [
    {
      "cell_type": "markdown",
      "metadata": {
        "id": "view-in-github",
        "colab_type": "text"
      },
      "source": [
        "<a href=\"https://colab.research.google.com/github/pridenous/NumPyLeasson/blob/master/eighthLeasson.ipynb\" target=\"_parent\"><img src=\"https://colab.research.google.com/assets/colab-badge.svg\" alt=\"Open In Colab\"/></a>"
      ]
    },
    {
      "cell_type": "markdown",
      "metadata": {
        "id": "Un8r03yIPZRt"
      },
      "source": [
        "# **Algebra and Size**"
      ]
    },
    {
      "cell_type": "code",
      "metadata": {
        "id": "BKSAkVL9QD36"
      },
      "source": [
        "import numpy as np"
      ],
      "execution_count": 2,
      "outputs": []
    },
    {
      "cell_type": "markdown",
      "metadata": {
        "id": "awKb2m6JVJ3J"
      },
      "source": [
        "Membuat variabel array, **a = 3 Dimensi** dan **b = 2 Dimensi**"
      ]
    },
    {
      "cell_type": "code",
      "metadata": {
        "colab": {
          "base_uri": "https://localhost:8080/"
        },
        "id": "EbyzWmwsPl01",
        "outputId": "1dd060d2-0de7-4fb1-b1ea-efadb1f7ab70"
      },
      "source": [
        "a = np.random.randint(100,size=(3,3))\r\n",
        "a"
      ],
      "execution_count": 28,
      "outputs": [
        {
          "output_type": "execute_result",
          "data": {
            "text/plain": [
              "array([[49, 62, 27],\n",
              "       [88,  6, 11],\n",
              "       [74, 35, 51]])"
            ]
          },
          "metadata": {
            "tags": []
          },
          "execution_count": 28
        }
      ]
    },
    {
      "cell_type": "code",
      "metadata": {
        "colab": {
          "base_uri": "https://localhost:8080/"
        },
        "id": "w_8R63zSQMwu",
        "outputId": "398b0902-947b-4894-fdb8-1a227ded303f"
      },
      "source": [
        "b = np.random.randint(50,size=(3,2))\r\n",
        "b"
      ],
      "execution_count": 29,
      "outputs": [
        {
          "output_type": "execute_result",
          "data": {
            "text/plain": [
              "array([[ 2,  9],\n",
              "       [ 9, 28],\n",
              "       [34, 44]])"
            ]
          },
          "metadata": {
            "tags": []
          },
          "execution_count": 29
        }
      ]
    },
    {
      "cell_type": "markdown",
      "metadata": {
        "id": "ZhmcZ9onTQ5k"
      },
      "source": [
        "**Operasi Matriks** <h5>\r\n",
        "*Maka didapat,* <h5>,\r\n",
        "\r\n",
        "\r\n",
        ">$a =\r\n",
        " \\begin{pmatrix}\r\n",
        "  {49} & {62} & {27} \\\\\r\n",
        "  {88} & {6} & {11} \\\\\r\n",
        "  {74} & {35} & {51} \r\n",
        " \\end{pmatrix}$\r\n",
        "\r\n",
        " dan ,\r\n",
        " >$b =\r\n",
        " \\begin{pmatrix}\r\n",
        "  {2} &  {9} \\\\\r\n",
        "  {9} & {28} \\\\\r\n",
        "  {34} &  {44} \r\n",
        " \\end{pmatrix}$\r\n",
        " \r\n",
        "\r\n",
        "\r\n",
        "\r\n",
        "\r\n"
      ]
    },
    {
      "cell_type": "markdown",
      "metadata": {
        "id": "hbpJLaVbY0i7"
      },
      "source": [
        "**Perkalian beda matriks** <h5>\r\n",
        "operasi pada matriks ($a.b$)"
      ]
    },
    {
      "cell_type": "code",
      "metadata": {
        "colab": {
          "base_uri": "https://localhost:8080/"
        },
        "id": "a5hM27DJZJcC",
        "outputId": "d1c106e8-b4d9-4d86-a3d1-4cfee41ccf0b"
      },
      "source": [
        "a.dot(b)"
      ],
      "execution_count": 31,
      "outputs": [
        {
          "output_type": "execute_result",
          "data": {
            "text/plain": [
              "array([[1574, 3365],\n",
              "       [ 604, 1444],\n",
              "       [2197, 3890]])"
            ]
          },
          "metadata": {
            "tags": []
          },
          "execution_count": 31
        }
      ]
    },
    {
      "cell_type": "code",
      "metadata": {
        "colab": {
          "base_uri": "https://localhost:8080/"
        },
        "id": "NxmYa2kxZMmv",
        "outputId": "52928a25-202e-4ef0-a227-db66ff09fed5"
      },
      "source": [
        "a @ b "
      ],
      "execution_count": 32,
      "outputs": [
        {
          "output_type": "execute_result",
          "data": {
            "text/plain": [
              "array([[1574, 3365],\n",
              "       [ 604, 1444],\n",
              "       [2197, 3890]])"
            ]
          },
          "metadata": {
            "tags": []
          },
          "execution_count": 32
        }
      ]
    },
    {
      "cell_type": "markdown",
      "metadata": {
        "id": "CNbO4Xa1ZUaH"
      },
      "source": [
        "**Transpos Matriks**"
      ]
    },
    {
      "cell_type": "markdown",
      "metadata": {
        "id": "m_sB9Zm2Z8x2"
      },
      "source": [
        "operasi matriks dengan mentransposkan array $b$ = $b^T$"
      ]
    },
    {
      "cell_type": "code",
      "metadata": {
        "colab": {
          "base_uri": "https://localhost:8080/"
        },
        "id": "K1WBnNeRasoD",
        "outputId": "16ffbd22-7210-42c8-dcad-a1961fc5b7a8"
      },
      "source": [
        "b #array sebelum transpos"
      ],
      "execution_count": 34,
      "outputs": [
        {
          "output_type": "execute_result",
          "data": {
            "text/plain": [
              "array([[ 2,  9],\n",
              "       [ 9, 28],\n",
              "       [34, 44]])"
            ]
          },
          "metadata": {
            "tags": []
          },
          "execution_count": 34
        }
      ]
    },
    {
      "cell_type": "code",
      "metadata": {
        "colab": {
          "base_uri": "https://localhost:8080/"
        },
        "id": "K5fKN8UpaL6_",
        "outputId": "2c56a6e7-1cd7-4c81-ae33-62fdd2febdd5"
      },
      "source": [
        "b.T # array sesudah transpos"
      ],
      "execution_count": 35,
      "outputs": [
        {
          "output_type": "execute_result",
          "data": {
            "text/plain": [
              "array([[ 2,  9, 34],\n",
              "       [ 9, 28, 44]])"
            ]
          },
          "metadata": {
            "tags": []
          },
          "execution_count": 35
        }
      ]
    },
    {
      "cell_type": "code",
      "metadata": {
        "id": "qs8-yhokapXI"
      },
      "source": [
        ""
      ],
      "execution_count": null,
      "outputs": []
    }
  ]
}