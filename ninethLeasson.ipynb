{
  "nbformat": 4,
  "nbformat_minor": 0,
  "metadata": {
    "colab": {
      "name": "ninethLeasson.ipynb",
      "provenance": [],
      "include_colab_link": true
    },
    "kernelspec": {
      "name": "python3",
      "display_name": "Python 3"
    }
  },
  "cells": [
    {
      "cell_type": "markdown",
      "metadata": {
        "id": "view-in-github",
        "colab_type": "text"
      },
      "source": [
        "<a href=\"https://colab.research.google.com/github/pridenous/NumPyLeasson/blob/master/ninethLeasson.ipynb\" target=\"_parent\"><img src=\"https://colab.research.google.com/assets/colab-badge.svg\" alt=\"Open In Colab\"/></a>"
      ]
    },
    {
      "cell_type": "markdown",
      "metadata": {
        "id": "TBrqAqtcKD8c"
      },
      "source": [
        "# **Pandas**"
      ]
    },
    {
      "cell_type": "code",
      "metadata": {
        "id": "WypKGc4IDrQG"
      },
      "source": [
        " import numpy as np\r\n",
        " import pandas as pd"
      ],
      "execution_count": 35,
      "outputs": []
    },
    {
      "cell_type": "markdown",
      "metadata": {
        "id": "Y5nDV07wD7in"
      },
      "source": [
        "# **Pandas Series**"
      ]
    },
    {
      "cell_type": "markdown",
      "metadata": {
        "id": "u9Hm23CdKRFU"
      },
      "source": [
        "Create Simple pandas variabel from **scratch**"
      ]
    },
    {
      "cell_type": "code",
      "metadata": {
        "colab": {
          "base_uri": "https://localhost:8080/"
        },
        "id": "m_HubBTsKbTt",
        "outputId": "2fd2e692-b7d6-4b70-aab5-ac2e5c54d470"
      },
      "source": [
        "g7_pop = pd.Series([19.933,188.1772,17.293,1.000,3.372])\r\n",
        "g7_pop"
      ],
      "execution_count": 36,
      "outputs": [
        {
          "output_type": "execute_result",
          "data": {
            "text/plain": [
              "0     19.9330\n",
              "1    188.1772\n",
              "2     17.2930\n",
              "3      1.0000\n",
              "4      3.3720\n",
              "dtype: float64"
            ]
          },
          "metadata": {
            "tags": []
          },
          "execution_count": 36
        }
      ]
    },
    {
      "cell_type": "markdown",
      "metadata": {
        "id": "1fND7t3kKn-H"
      },
      "source": [
        " dapat dilihat inisiasi varibel pandas tidak jauh berbeda dengan **list** pada Python"
      ]
    },
    {
      "cell_type": "code",
      "metadata": {
        "id": "9oRfQYF5K8tD"
      },
      "source": [
        "g7_pop.name = \"G7 Population on milion\" #Penamaan Series"
      ],
      "execution_count": 37,
      "outputs": []
    },
    {
      "cell_type": "code",
      "metadata": {
        "colab": {
          "base_uri": "https://localhost:8080/"
        },
        "id": "4KtxqS9ELNTc",
        "outputId": "68a3826d-8b7c-47f2-f4a4-26a1a918c893"
      },
      "source": [
        "g7_pop"
      ],
      "execution_count": 38,
      "outputs": [
        {
          "output_type": "execute_result",
          "data": {
            "text/plain": [
              "0     19.9330\n",
              "1    188.1772\n",
              "2     17.2930\n",
              "3      1.0000\n",
              "4      3.3720\n",
              "Name: G7 Population on milion, dtype: float64"
            ]
          },
          "metadata": {
            "tags": []
          },
          "execution_count": 38
        }
      ]
    },
    {
      "cell_type": "code",
      "metadata": {
        "colab": {
          "base_uri": "https://localhost:8080/"
        },
        "id": "MzYOueb2LOob",
        "outputId": "8a6fa5ef-76d1-4f55-d110-c2927b3dcd58"
      },
      "source": [
        "g7_pop.dtype #Tipe Data Series"
      ],
      "execution_count": 39,
      "outputs": [
        {
          "output_type": "execute_result",
          "data": {
            "text/plain": [
              "dtype('float64')"
            ]
          },
          "metadata": {
            "tags": []
          },
          "execution_count": 39
        }
      ]
    },
    {
      "cell_type": "code",
      "metadata": {
        "colab": {
          "base_uri": "https://localhost:8080/"
        },
        "id": "bzsGTvhLLaKy",
        "outputId": "ca7825e5-3cfe-45e9-83ca-b86ec265f1c0"
      },
      "source": [
        "g7_pop.values #Value of G7_pop"
      ],
      "execution_count": 40,
      "outputs": [
        {
          "output_type": "execute_result",
          "data": {
            "text/plain": [
              "array([ 19.933 , 188.1772,  17.293 ,   1.    ,   3.372 ])"
            ]
          },
          "metadata": {
            "tags": []
          },
          "execution_count": 40
        }
      ]
    },
    {
      "cell_type": "code",
      "metadata": {
        "colab": {
          "base_uri": "https://localhost:8080/"
        },
        "id": "NyFNh70PLnyr",
        "outputId": "50435611-28d3-406e-b2ce-fcb8a5bd875b"
      },
      "source": [
        "type(g7_pop.values) #Spesific data type values"
      ],
      "execution_count": 41,
      "outputs": [
        {
          "output_type": "execute_result",
          "data": {
            "text/plain": [
              "numpy.ndarray"
            ]
          },
          "metadata": {
            "tags": []
          },
          "execution_count": 41
        }
      ]
    },
    {
      "cell_type": "markdown",
      "metadata": {
        "id": "JaabT6RIL767"
      },
      "source": [
        "**Seleksi Series**"
      ]
    },
    {
      "cell_type": "code",
      "metadata": {
        "colab": {
          "base_uri": "https://localhost:8080/"
        },
        "id": "VSLaaqpwMQ3k",
        "outputId": "04ce72c1-f57f-4fb6-9e30-3b9d08e7058a"
      },
      "source": [
        "g7_pop"
      ],
      "execution_count": 42,
      "outputs": [
        {
          "output_type": "execute_result",
          "data": {
            "text/plain": [
              "0     19.9330\n",
              "1    188.1772\n",
              "2     17.2930\n",
              "3      1.0000\n",
              "4      3.3720\n",
              "Name: G7 Population on milion, dtype: float64"
            ]
          },
          "metadata": {
            "tags": []
          },
          "execution_count": 42
        }
      ]
    },
    {
      "cell_type": "code",
      "metadata": {
        "colab": {
          "base_uri": "https://localhost:8080/"
        },
        "id": "d0swdqd-MSwW",
        "outputId": "e9c3baa2-29e7-41ff-9938-3df18ce16561"
      },
      "source": [
        "g7_pop[1] #Tampilkan data pada index ke 1"
      ],
      "execution_count": 43,
      "outputs": [
        {
          "output_type": "execute_result",
          "data": {
            "text/plain": [
              "188.1772"
            ]
          },
          "metadata": {
            "tags": []
          },
          "execution_count": 43
        }
      ]
    },
    {
      "cell_type": "code",
      "metadata": {
        "colab": {
          "base_uri": "https://localhost:8080/"
        },
        "id": "TwTmpVhFMURM",
        "outputId": "02b3ea03-bb4c-450e-fc32-51fe9450c585"
      },
      "source": [
        "g7_pop.index "
      ],
      "execution_count": 44,
      "outputs": [
        {
          "output_type": "execute_result",
          "data": {
            "text/plain": [
              "RangeIndex(start=0, stop=5, step=1)"
            ]
          },
          "metadata": {
            "tags": []
          },
          "execution_count": 44
        }
      ]
    },
    {
      "cell_type": "markdown",
      "metadata": {
        "id": "cpIgIL8DMo_p"
      },
      "source": [
        "Dapat terlihat perintah ``g7_pop.index`` menghasilkan output diatas karena **index** masih terdefinisi sebagai angka, maka dapat diubah dengan cara melakukukan penamaan kepada tiap **index**"
      ]
    },
    {
      "cell_type": "code",
      "metadata": {
        "id": "5MGbBNAlPs9-"
      },
      "source": [
        "g7_pop.index= [\r\n",
        "              'Italy',\r\n",
        "              'Canada',\r\n",
        "              'USA',\r\n",
        "              'Indonesia',\r\n",
        "              'Brazil'\r\n",
        "]"
      ],
      "execution_count": 45,
      "outputs": []
    },
    {
      "cell_type": "code",
      "metadata": {
        "colab": {
          "base_uri": "https://localhost:8080/"
        },
        "id": "AhBted8jQE8I",
        "outputId": "40aa22a0-3fc7-4ec0-960e-7f07c776e620"
      },
      "source": [
        "g7_pop.index #Cek Index"
      ],
      "execution_count": 46,
      "outputs": [
        {
          "output_type": "execute_result",
          "data": {
            "text/plain": [
              "Index(['Italy', 'Canada', 'USA', 'Indonesia', 'Brazil'], dtype='object')"
            ]
          },
          "metadata": {
            "tags": []
          },
          "execution_count": 46
        }
      ]
    },
    {
      "cell_type": "code",
      "metadata": {
        "colab": {
          "base_uri": "https://localhost:8080/"
        },
        "id": "ADMu3JDpQOix",
        "outputId": "9fea65d6-6064-4dae-aeec-f334c9314439"
      },
      "source": [
        "g7_pop\r\n"
      ],
      "execution_count": 47,
      "outputs": [
        {
          "output_type": "execute_result",
          "data": {
            "text/plain": [
              "Italy         19.9330\n",
              "Canada       188.1772\n",
              "USA           17.2930\n",
              "Indonesia      1.0000\n",
              "Brazil         3.3720\n",
              "Name: G7 Population on milion, dtype: float64"
            ]
          },
          "metadata": {
            "tags": []
          },
          "execution_count": 47
        }
      ]
    },
    {
      "cell_type": "markdown",
      "metadata": {
        "id": "NfY8DDhNQQg1"
      },
      "source": [
        "Ada beberapa metode lain dalam hal pembuatan series dari 0 (**scratch**)<h5>\r\n",
        "``#Metode 1``"
      ]
    },
    {
      "cell_type": "code",
      "metadata": {
        "colab": {
          "base_uri": "https://localhost:8080/"
        },
        "id": "OLvUPHY1S9tX",
        "outputId": "4bdc6c95-5be0-48c0-8484-b82c0148cf8e"
      },
      "source": [
        "pd.Series({\r\n",
        "           'Italy' : 19.9330,\r\n",
        "           'Canada'  : 188.1772,\r\n",
        "           'USA'  : 17.2930,\r\n",
        "           'Indonesia' : 1.0000,\r\n",
        "           'Brazil' : 3.3720\r\n",
        "}, name = 'G7 Population on milion')"
      ],
      "execution_count": 48,
      "outputs": [
        {
          "output_type": "execute_result",
          "data": {
            "text/plain": [
              "Italy         19.9330\n",
              "Canada       188.1772\n",
              "USA           17.2930\n",
              "Indonesia      1.0000\n",
              "Brazil         3.3720\n",
              "Name: G7 Population on milion, dtype: float64"
            ]
          },
          "metadata": {
            "tags": []
          },
          "execution_count": 48
        }
      ]
    },
    {
      "cell_type": "markdown",
      "metadata": {
        "id": "rPz9fT8aTg9y"
      },
      "source": [
        "``#Metode 2``"
      ]
    },
    {
      "cell_type": "code",
      "metadata": {
        "colab": {
          "base_uri": "https://localhost:8080/"
        },
        "id": "OnnGA0cKT6Sp",
        "outputId": "fb8a8822-580a-4ede-c4da-cc63f4ba6ba9"
      },
      "source": [
        "  pd.Series(\r\n",
        "      [19.9330,188.1772,17.2930,1.0000,3.3720],\r\n",
        "      index=['Italy','Canada','USA','Indonesia','Brazil'],\r\n",
        "      name='G7 Population on milion'\r\n",
        "  )"
      ],
      "execution_count": 49,
      "outputs": [
        {
          "output_type": "execute_result",
          "data": {
            "text/plain": [
              "Italy         19.9330\n",
              "Canada       188.1772\n",
              "USA           17.2930\n",
              "Indonesia      1.0000\n",
              "Brazil         3.3720\n",
              "Name: G7 Population on milion, dtype: float64"
            ]
          },
          "metadata": {
            "tags": []
          },
          "execution_count": 49
        }
      ]
    },
    {
      "cell_type": "markdown",
      "metadata": {
        "id": "qIRjjmFqUgBt"
      },
      "source": [
        "#**Indexing** <h1>\r\n",
        "Setelah dilakukan penamaan dalam index, maka dalam pemanggilannya akan sangat mudah jika ada salah satu index yang akan dipanggil/diseleksi datanya"
      ]
    },
    {
      "cell_type": "code",
      "metadata": {
        "colab": {
          "base_uri": "https://localhost:8080/"
        },
        "id": "dqnZwDyaUmu9",
        "outputId": "9de85810-8242-4770-9f53-04d8583c6c1a"
      },
      "source": [
        "g7_pop['Canada'] #Seleksi Index dengan nama 'Canada'"
      ],
      "execution_count": 50,
      "outputs": [
        {
          "output_type": "execute_result",
          "data": {
            "text/plain": [
              "188.1772"
            ]
          },
          "metadata": {
            "tags": []
          },
          "execution_count": 50
        }
      ]
    },
    {
      "cell_type": "code",
      "metadata": {
        "colab": {
          "base_uri": "https://localhost:8080/"
        },
        "id": "WSPtYmZbU-mO",
        "outputId": "11a75e82-b23a-4da6-ed2b-353acbc3c7aa"
      },
      "source": [
        "g7_pop['Italy'] #Seleksi Index dengan nama 'Italy\""
      ],
      "execution_count": 51,
      "outputs": [
        {
          "output_type": "execute_result",
          "data": {
            "text/plain": [
              "19.933"
            ]
          },
          "metadata": {
            "tags": []
          },
          "execution_count": 51
        }
      ]
    },
    {
      "cell_type": "code",
      "metadata": {
        "id": "rSuF_bTjT8ig",
        "outputId": "3e81931c-edf2-4448-d151-1f5293df8378",
        "colab": {
          "base_uri": "https://localhost:8080/"
        }
      },
      "source": [
        "g7_pop.iloc[0] #Seleksi menggunakan numeric indexing, Tampil data dengan index = 0"
      ],
      "execution_count": 52,
      "outputs": [
        {
          "output_type": "execute_result",
          "data": {
            "text/plain": [
              "19.933"
            ]
          },
          "metadata": {
            "tags": []
          },
          "execution_count": 52
        }
      ]
    },
    {
      "cell_type": "code",
      "metadata": {
        "id": "d4qlMosZUV0v",
        "outputId": "505da268-3a53-4f26-8866-b604eeea3790",
        "colab": {
          "base_uri": "https://localhost:8080/"
        }
      },
      "source": [
        "g7_pop.iloc[-1] #Tampil data dengan index = -1 yang artinya minus dari data yang ada(data paling akhir)"
      ],
      "execution_count": 53,
      "outputs": [
        {
          "output_type": "execute_result",
          "data": {
            "text/plain": [
              "3.372"
            ]
          },
          "metadata": {
            "tags": []
          },
          "execution_count": 53
        }
      ]
    },
    {
      "cell_type": "code",
      "metadata": {
        "id": "u700yRM2UfzR",
        "outputId": "eebf58cb-39e9-4980-f002-242bf7a3b2fd",
        "colab": {
          "base_uri": "https://localhost:8080/"
        }
      },
      "source": [
        "g7_pop[['Canada','Italy']]"
      ],
      "execution_count": 54,
      "outputs": [
        {
          "output_type": "execute_result",
          "data": {
            "text/plain": [
              "Canada    188.1772\n",
              "Italy      19.9330\n",
              "Name: G7 Population on milion, dtype: float64"
            ]
          },
          "metadata": {
            "tags": []
          },
          "execution_count": 54
        }
      ]
    },
    {
      "cell_type": "code",
      "metadata": {
        "id": "_xR8qZ_DU66B",
        "outputId": "e63b2b49-264a-4fa9-ed93-05b30eeb3ad0",
        "colab": {
          "base_uri": "https://localhost:8080/"
        }
      },
      "source": [
        "g7_pop.iloc[[1,0]]"
      ],
      "execution_count": 55,
      "outputs": [
        {
          "output_type": "execute_result",
          "data": {
            "text/plain": [
              "Canada    188.1772\n",
              "Italy      19.9330\n",
              "Name: G7 Population on milion, dtype: float64"
            ]
          },
          "metadata": {
            "tags": []
          },
          "execution_count": 55
        }
      ]
    },
    {
      "cell_type": "markdown",
      "metadata": {
        "id": "hzNhqcyxVNQ_"
      },
      "source": [
        "Range Selection"
      ]
    },
    {
      "cell_type": "code",
      "metadata": {
        "id": "Ex5VcY96Vlka",
        "outputId": "386df958-973c-407f-af5b-72995cb64c3c",
        "colab": {
          "base_uri": "https://localhost:8080/"
        }
      },
      "source": [
        "g7_pop['Italy':'Indonesia']"
      ],
      "execution_count": 56,
      "outputs": [
        {
          "output_type": "execute_result",
          "data": {
            "text/plain": [
              "Italy         19.9330\n",
              "Canada       188.1772\n",
              "USA           17.2930\n",
              "Indonesia      1.0000\n",
              "Name: G7 Population on milion, dtype: float64"
            ]
          },
          "metadata": {
            "tags": []
          },
          "execution_count": 56
        }
      ]
    },
    {
      "cell_type": "markdown",
      "metadata": {
        "id": "sMplSL80XJ56"
      },
      "source": [
        "# **Condition selection (boolean array)**"
      ]
    },
    {
      "cell_type": "code",
      "metadata": {
        "id": "h4eNQhMXXXcO",
        "outputId": "17f6e910-991f-4ed1-c063-d8c866ef61e1",
        "colab": {
          "base_uri": "https://localhost:8080/"
        }
      },
      "source": [
        "g7_pop"
      ],
      "execution_count": 59,
      "outputs": [
        {
          "output_type": "execute_result",
          "data": {
            "text/plain": [
              "Italy         19.9330\n",
              "Canada       188.1772\n",
              "USA           17.2930\n",
              "Indonesia      1.0000\n",
              "Brazil         3.3720\n",
              "Name: G7 Population on milion, dtype: float64"
            ]
          },
          "metadata": {
            "tags": []
          },
          "execution_count": 59
        }
      ]
    },
    {
      "cell_type": "code",
      "metadata": {
        "id": "37JqO1MBXjK3",
        "outputId": "814132a9-143b-46ed-f245-a41138dc45cd",
        "colab": {
          "base_uri": "https://localhost:8080/"
        }
      },
      "source": [
        "g7_pop > 4"
      ],
      "execution_count": 62,
      "outputs": [
        {
          "output_type": "execute_result",
          "data": {
            "text/plain": [
              "Italy         True\n",
              "Canada        True\n",
              "USA           True\n",
              "Indonesia    False\n",
              "Brazil       False\n",
              "Name: G7 Population on milion, dtype: bool"
            ]
          },
          "metadata": {
            "tags": []
          },
          "execution_count": 62
        }
      ]
    },
    {
      "cell_type": "code",
      "metadata": {
        "id": "fzNyLPlNXjrW",
        "outputId": "1936e2b1-d38d-4d03-9e22-d580470e82b2",
        "colab": {
          "base_uri": "https://localhost:8080/"
        }
      },
      "source": [
        "g7_pop[g7_pop > 4]"
      ],
      "execution_count": 64,
      "outputs": [
        {
          "output_type": "execute_result",
          "data": {
            "text/plain": [
              "Italy      19.9330\n",
              "Canada    188.1772\n",
              "USA        17.2930\n",
              "Name: G7 Population on milion, dtype: float64"
            ]
          },
          "metadata": {
            "tags": []
          },
          "execution_count": 64
        }
      ]
    },
    {
      "cell_type": "code",
      "metadata": {
        "id": "zxpScfFjYpeu",
        "outputId": "cbd54536-b346-48d5-9877-128746c33c85",
        "colab": {
          "base_uri": "https://localhost:8080/"
        }
      },
      "source": [
        "g7_pop.mean()"
      ],
      "execution_count": 65,
      "outputs": [
        {
          "output_type": "execute_result",
          "data": {
            "text/plain": [
              "45.95504"
            ]
          },
          "metadata": {
            "tags": []
          },
          "execution_count": 65
        }
      ]
    },
    {
      "cell_type": "code",
      "metadata": {
        "id": "M4twJQyxYr9y",
        "outputId": "576da943-0510-4b89-9c28-d835977ea8fc",
        "colab": {
          "base_uri": "https://localhost:8080/"
        }
      },
      "source": [
        "g7_pop[g7_pop > g7_pop.mean()]"
      ],
      "execution_count": 66,
      "outputs": [
        {
          "output_type": "execute_result",
          "data": {
            "text/plain": [
              "Canada    188.1772\n",
              "Name: G7 Population on milion, dtype: float64"
            ]
          },
          "metadata": {
            "tags": []
          },
          "execution_count": 66
        }
      ]
    },
    {
      "cell_type": "code",
      "metadata": {
        "id": "FLoVVYRmYv3d",
        "outputId": "77f101c3-3e1e-4f4b-85e7-8c8a33bc9817",
        "colab": {
          "base_uri": "https://localhost:8080/"
        }
      },
      "source": [
        "g7_pop.std()"
      ],
      "execution_count": 70,
      "outputs": [
        {
          "output_type": "execute_result",
          "data": {
            "text/plain": [
              "79.93758942892886"
            ]
          },
          "metadata": {
            "tags": []
          },
          "execution_count": 70
        }
      ]
    },
    {
      "cell_type": "markdown",
      "metadata": {
        "id": "8put-pnXfaPX"
      },
      "source": [
        "Menggunakan operator **OR**"
      ]
    },
    {
      "cell_type": "code",
      "metadata": {
        "id": "RjpwORtze88I",
        "outputId": "8a244e5b-ae1f-4494-9a71-67a981459849",
        "colab": {
          "base_uri": "https://localhost:8080/"
        }
      },
      "source": [
        "g7_pop[(g7_pop > g7_pop.mean() /2) | (g7_pop >  g7_pop.mean() + g7_pop.std()/2)]"
      ],
      "execution_count": 69,
      "outputs": [
        {
          "output_type": "execute_result",
          "data": {
            "text/plain": [
              "Canada    188.1772\n",
              "Name: G7 Population on milion, dtype: float64"
            ]
          },
          "metadata": {
            "tags": []
          },
          "execution_count": 69
        }
      ]
    },
    {
      "cell_type": "markdown",
      "metadata": {
        "id": "EhdEVosjVpyt"
      },
      "source": [
        "# **Operation and Method**"
      ]
    },
    {
      "cell_type": "markdown",
      "metadata": {
        "id": "8q76WBu6WDe4"
      },
      "source": [
        "Series dapat juga mensupport vektorisasi dan agregasi fungsi "
      ]
    },
    {
      "cell_type": "code",
      "metadata": {
        "id": "SuAUeaISWYn1",
        "outputId": "4aa14fc4-6398-4bd5-9a62-2d3ee3ba5a94",
        "colab": {
          "base_uri": "https://localhost:8080/"
        }
      },
      "source": [
        "g7_pop"
      ],
      "execution_count": 57,
      "outputs": [
        {
          "output_type": "execute_result",
          "data": {
            "text/plain": [
              "Italy         19.9330\n",
              "Canada       188.1772\n",
              "USA           17.2930\n",
              "Indonesia      1.0000\n",
              "Brazil         3.3720\n",
              "Name: G7 Population on milion, dtype: float64"
            ]
          },
          "metadata": {
            "tags": []
          },
          "execution_count": 57
        }
      ]
    },
    {
      "cell_type": "code",
      "metadata": {
        "id": "AyouU5ylWlbs",
        "outputId": "93e4c35f-5fe0-4ad7-e52d-a83c1d30d4f8",
        "colab": {
          "base_uri": "https://localhost:8080/"
        }
      },
      "source": [
        "g7_pop * 1_000_000    #Mengubah format menjadi milion(juta)"
      ],
      "execution_count": 58,
      "outputs": [
        {
          "output_type": "execute_result",
          "data": {
            "text/plain": [
              "Italy         19933000.0\n",
              "Canada       188177200.0\n",
              "USA           17293000.0\n",
              "Indonesia      1000000.0\n",
              "Brazil         3372000.0\n",
              "Name: G7 Population on milion, dtype: float64"
            ]
          },
          "metadata": {
            "tags": []
          },
          "execution_count": 58
        }
      ]
    },
    {
      "cell_type": "code",
      "metadata": {
        "id": "kqBNSMMHW60f",
        "outputId": "b37fbb24-c4ce-401d-8f49-b0d1772db23e",
        "colab": {
          "base_uri": "https://localhost:8080/"
        }
      },
      "source": [
        " g7_pop.mean()"
      ],
      "execution_count": 71,
      "outputs": [
        {
          "output_type": "execute_result",
          "data": {
            "text/plain": [
              "45.95504"
            ]
          },
          "metadata": {
            "tags": []
          },
          "execution_count": 71
        }
      ]
    },
    {
      "cell_type": "code",
      "metadata": {
        "id": "ZjQePU9sfxmh",
        "outputId": "0c56f2af-e415-4b74-e03d-3c1d041f1c3b",
        "colab": {
          "base_uri": "https://localhost:8080/"
        }
      },
      "source": [
        "np.log(g7_pop)"
      ],
      "execution_count": 72,
      "outputs": [
        {
          "output_type": "execute_result",
          "data": {
            "text/plain": [
              "Italy        2.992377\n",
              "Canada       5.237384\n",
              "USA          2.850302\n",
              "Indonesia    0.000000\n",
              "Brazil       1.215506\n",
              "Name: G7 Population on milion, dtype: float64"
            ]
          },
          "metadata": {
            "tags": []
          },
          "execution_count": 72
        }
      ]
    },
    {
      "cell_type": "code",
      "metadata": {
        "id": "MoLNZoYLf0S1",
        "outputId": "40fab524-3ad4-4846-8fd5-2ee793490dea",
        "colab": {
          "base_uri": "https://localhost:8080/"
        }
      },
      "source": [
        "g7_pop['Italy':'Canada'].mean()"
      ],
      "execution_count": 73,
      "outputs": [
        {
          "output_type": "execute_result",
          "data": {
            "text/plain": [
              "104.0551"
            ]
          },
          "metadata": {
            "tags": []
          },
          "execution_count": 73
        }
      ]
    },
    {
      "cell_type": "code",
      "metadata": {
        "id": "AGXQYkc5f8JL"
      },
      "source": [
        ""
      ],
      "execution_count": null,
      "outputs": []
    }
  ]
}