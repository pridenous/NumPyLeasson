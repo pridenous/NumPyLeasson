{
  "nbformat": 4,
  "nbformat_minor": 0,
  "metadata": {
    "colab": {
      "name": "ninethLeasson.ipynb",
      "provenance": [],
      "authorship_tag": "ABX9TyPINLONwfeZMcMz0XnrmKUK",
      "include_colab_link": true
    },
    "kernelspec": {
      "name": "python3",
      "display_name": "Python 3"
    }
  },
  "cells": [
    {
      "cell_type": "markdown",
      "metadata": {
        "id": "view-in-github",
        "colab_type": "text"
      },
      "source": [
        "<a href=\"https://colab.research.google.com/github/pridenous/NumPyLeasson/blob/master/ninethLeasson.ipynb\" target=\"_parent\"><img src=\"https://colab.research.google.com/assets/colab-badge.svg\" alt=\"Open In Colab\"/></a>"
      ]
    },
    {
      "cell_type": "markdown",
      "metadata": {
        "id": "TBrqAqtcKD8c"
      },
      "source": [
        "# **Pandas**"
      ]
    },
    {
      "cell_type": "code",
      "metadata": {
        "id": "WypKGc4IDrQG"
      },
      "source": [
        " import numpy as np\r\n",
        " import pandas as pd"
      ],
      "execution_count": 1,
      "outputs": []
    },
    {
      "cell_type": "markdown",
      "metadata": {
        "id": "Y5nDV07wD7in"
      },
      "source": [
        "# **Pandas Series**"
      ]
    },
    {
      "cell_type": "markdown",
      "metadata": {
        "id": "u9Hm23CdKRFU"
      },
      "source": [
        "Create Simple pandas variabel from **scratch**"
      ]
    },
    {
      "cell_type": "code",
      "metadata": {
        "colab": {
          "base_uri": "https://localhost:8080/"
        },
        "id": "m_HubBTsKbTt",
        "outputId": "4139d768-5a9e-4dbc-8342-e739f9b78532"
      },
      "source": [
        "g7_pop = pd.Series([19.933,188.1772,17.293,1.000,3.372])\r\n",
        "g7_pop"
      ],
      "execution_count": 4,
      "outputs": [
        {
          "output_type": "execute_result",
          "data": {
            "text/plain": [
              "0     19.9330\n",
              "1    188.1772\n",
              "2     17.2930\n",
              "3      1.0000\n",
              "4      3.3720\n",
              "dtype: float64"
            ]
          },
          "metadata": {
            "tags": []
          },
          "execution_count": 4
        }
      ]
    },
    {
      "cell_type": "markdown",
      "metadata": {
        "id": "1fND7t3kKn-H"
      },
      "source": [
        " dapat dilihat inisiasi varibel pandas tidak jauh berbeda dengan **list** pada Python"
      ]
    },
    {
      "cell_type": "code",
      "metadata": {
        "id": "9oRfQYF5K8tD"
      },
      "source": [
        "g7_pop.name = \"G7 Population on milion\" #Penamaan Series"
      ],
      "execution_count": 8,
      "outputs": []
    },
    {
      "cell_type": "code",
      "metadata": {
        "colab": {
          "base_uri": "https://localhost:8080/"
        },
        "id": "4KtxqS9ELNTc",
        "outputId": "f53b45c8-7db0-447b-a84f-1313d616554f"
      },
      "source": [
        "g7_pop"
      ],
      "execution_count": 7,
      "outputs": [
        {
          "output_type": "execute_result",
          "data": {
            "text/plain": [
              "0     19.9330\n",
              "1    188.1772\n",
              "2     17.2930\n",
              "3      1.0000\n",
              "4      3.3720\n",
              "Name: G7 Population on milion, dtype: float64"
            ]
          },
          "metadata": {
            "tags": []
          },
          "execution_count": 7
        }
      ]
    },
    {
      "cell_type": "code",
      "metadata": {
        "colab": {
          "base_uri": "https://localhost:8080/"
        },
        "id": "MzYOueb2LOob",
        "outputId": "91b543b6-92c4-484f-d741-370f93ea862d"
      },
      "source": [
        "g7_pop.dtype #Tipe Data Series"
      ],
      "execution_count": 12,
      "outputs": [
        {
          "output_type": "execute_result",
          "data": {
            "text/plain": [
              "dtype('float64')"
            ]
          },
          "metadata": {
            "tags": []
          },
          "execution_count": 12
        }
      ]
    },
    {
      "cell_type": "code",
      "metadata": {
        "colab": {
          "base_uri": "https://localhost:8080/"
        },
        "id": "bzsGTvhLLaKy",
        "outputId": "69e80459-c910-48ad-a00c-4e39afdc3f74"
      },
      "source": [
        "g7_pop.values #Value of G7_pop"
      ],
      "execution_count": 14,
      "outputs": [
        {
          "output_type": "execute_result",
          "data": {
            "text/plain": [
              "array([ 19.933 , 188.1772,  17.293 ,   1.    ,   3.372 ])"
            ]
          },
          "metadata": {
            "tags": []
          },
          "execution_count": 14
        }
      ]
    },
    {
      "cell_type": "code",
      "metadata": {
        "colab": {
          "base_uri": "https://localhost:8080/"
        },
        "id": "NyFNh70PLnyr",
        "outputId": "7d8b344c-eeb9-4e83-c03c-bd855797b509"
      },
      "source": [
        "type(g7_pop.values) #Spesific data type values"
      ],
      "execution_count": 18,
      "outputs": [
        {
          "output_type": "execute_result",
          "data": {
            "text/plain": [
              "numpy.ndarray"
            ]
          },
          "metadata": {
            "tags": []
          },
          "execution_count": 18
        }
      ]
    },
    {
      "cell_type": "markdown",
      "metadata": {
        "id": "JaabT6RIL767"
      },
      "source": [
        "**Seleksi Series**"
      ]
    },
    {
      "cell_type": "code",
      "metadata": {
        "colab": {
          "base_uri": "https://localhost:8080/"
        },
        "id": "VSLaaqpwMQ3k",
        "outputId": "da1ae8b3-331b-4dcc-8451-3b2d87dbda62"
      },
      "source": [
        "g7_pop"
      ],
      "execution_count": 19,
      "outputs": [
        {
          "output_type": "execute_result",
          "data": {
            "text/plain": [
              "0     19.9330\n",
              "1    188.1772\n",
              "2     17.2930\n",
              "3      1.0000\n",
              "4      3.3720\n",
              "Name: G7 Population on milion, dtype: float64"
            ]
          },
          "metadata": {
            "tags": []
          },
          "execution_count": 19
        }
      ]
    },
    {
      "cell_type": "code",
      "metadata": {
        "colab": {
          "base_uri": "https://localhost:8080/"
        },
        "id": "d0swdqd-MSwW",
        "outputId": "90a90fea-75f9-4546-861a-0b7f2491c0b0"
      },
      "source": [
        "g7_pop[1] #Tampilkan data pada index ke 1"
      ],
      "execution_count": 22,
      "outputs": [
        {
          "output_type": "execute_result",
          "data": {
            "text/plain": [
              "188.1772"
            ]
          },
          "metadata": {
            "tags": []
          },
          "execution_count": 22
        }
      ]
    },
    {
      "cell_type": "code",
      "metadata": {
        "colab": {
          "base_uri": "https://localhost:8080/"
        },
        "id": "TwTmpVhFMURM",
        "outputId": "121cbb0f-fd16-4fbc-cdd7-fab6b6083f17"
      },
      "source": [
        "g7_pop.index "
      ],
      "execution_count": 23,
      "outputs": [
        {
          "output_type": "execute_result",
          "data": {
            "text/plain": [
              "RangeIndex(start=0, stop=5, step=1)"
            ]
          },
          "metadata": {
            "tags": []
          },
          "execution_count": 23
        }
      ]
    },
    {
      "cell_type": "markdown",
      "metadata": {
        "id": "cpIgIL8DMo_p"
      },
      "source": [
        "Dapat terlihat perintah ``g7_pop.index`` menghasilkan output diatas karena **index** masih terdefinisi sebagai angka, maka dapat diubah dengan cara melakukukan penamaan kepada tiap **index**"
      ]
    },
    {
      "cell_type": "code",
      "metadata": {
        "id": "5MGbBNAlPs9-"
      },
      "source": [
        "g7_pop.index= [\r\n",
        "              'Italy',\r\n",
        "              'Canada',\r\n",
        "              'USA',\r\n",
        "              'Indonesia',\r\n",
        "              'Brazil'\r\n",
        "]"
      ],
      "execution_count": 25,
      "outputs": []
    },
    {
      "cell_type": "code",
      "metadata": {
        "colab": {
          "base_uri": "https://localhost:8080/"
        },
        "id": "AhBted8jQE8I",
        "outputId": "b3d12d47-e2bc-4dea-d729-a15f631eb7a4"
      },
      "source": [
        "g7_pop.index #Cek Index"
      ],
      "execution_count": 26,
      "outputs": [
        {
          "output_type": "execute_result",
          "data": {
            "text/plain": [
              "Index(['Italy', 'Canada', 'USA', 'Indonesia', 'Brazil'], dtype='object')"
            ]
          },
          "metadata": {
            "tags": []
          },
          "execution_count": 26
        }
      ]
    },
    {
      "cell_type": "code",
      "metadata": {
        "colab": {
          "base_uri": "https://localhost:8080/"
        },
        "id": "ADMu3JDpQOix",
        "outputId": "17b0e2db-3b75-4945-d266-90b6f4e323dd"
      },
      "source": [
        "g7_pop\r\n"
      ],
      "execution_count": 27,
      "outputs": [
        {
          "output_type": "execute_result",
          "data": {
            "text/plain": [
              "Italy         19.9330\n",
              "Canada       188.1772\n",
              "USA           17.2930\n",
              "Indonesia      1.0000\n",
              "Brazil         3.3720\n",
              "Name: G7 Population on milion, dtype: float64"
            ]
          },
          "metadata": {
            "tags": []
          },
          "execution_count": 27
        }
      ]
    },
    {
      "cell_type": "markdown",
      "metadata": {
        "id": "NfY8DDhNQQg1"
      },
      "source": [
        "Ada beberapa metode lain dalam hal pembuatan series dari 0 (**scratch**)<h5>\r\n",
        "``#Metode 1``"
      ]
    },
    {
      "cell_type": "code",
      "metadata": {
        "colab": {
          "base_uri": "https://localhost:8080/"
        },
        "id": "OLvUPHY1S9tX",
        "outputId": "3004989d-f12c-4634-b115-b5967b812024"
      },
      "source": [
        "pd.Series({\r\n",
        "           'Italy' : 19.9330,\r\n",
        "           'Canada'  : 188.1772,\r\n",
        "           'USA'  : 17.2930,\r\n",
        "           'Indonesia' : 1.0000,\r\n",
        "           'Brazil' : 3.3720\r\n",
        "}, name = 'G7 Population on milion')"
      ],
      "execution_count": 32,
      "outputs": [
        {
          "output_type": "execute_result",
          "data": {
            "text/plain": [
              "Italy         19.9330\n",
              "Canada       188.1772\n",
              "USA           17.2930\n",
              "Indonesia      1.0000\n",
              "Brazil         3.3720\n",
              "Name: G7 Population on milion, dtype: float64"
            ]
          },
          "metadata": {
            "tags": []
          },
          "execution_count": 32
        }
      ]
    },
    {
      "cell_type": "markdown",
      "metadata": {
        "id": "rPz9fT8aTg9y"
      },
      "source": [
        "``#Metode 2``"
      ]
    },
    {
      "cell_type": "code",
      "metadata": {
        "colab": {
          "base_uri": "https://localhost:8080/"
        },
        "id": "OnnGA0cKT6Sp",
        "outputId": "cc98c177-b840-4073-a602-047a2f77aee5"
      },
      "source": [
        "  pd.Series(\r\n",
        "      [19.9330,188.1772,17.2930,1.0000,3.3720],\r\n",
        "      index=['Italy','Canada','USA','Indonesia','Brazil'],\r\n",
        "      name='G7 Population on milion'\r\n",
        "  )"
      ],
      "execution_count": 33,
      "outputs": [
        {
          "output_type": "execute_result",
          "data": {
            "text/plain": [
              "Italy         19.9330\n",
              "Canada       188.1772\n",
              "USA           17.2930\n",
              "Indonesia      1.0000\n",
              "Brazil         3.3720\n",
              "Name: G7 Population on milion, dtype: float64"
            ]
          },
          "metadata": {
            "tags": []
          },
          "execution_count": 33
        }
      ]
    },
    {
      "cell_type": "markdown",
      "metadata": {
        "id": "qIRjjmFqUgBt"
      },
      "source": [
        "#**Indexing** <h1>\r\n",
        "Setelah dilakukan penamaan dalam index, maka dalam pemanggilannya akan sangat mudah jika ada salah satu index yang akan dipanggil/diseleksi datanya"
      ]
    },
    {
      "cell_type": "code",
      "metadata": {
        "colab": {
          "base_uri": "https://localhost:8080/"
        },
        "id": "dqnZwDyaUmu9",
        "outputId": "8a744e0c-2230-4f00-8308-f97da9429e0d"
      },
      "source": [
        "g7_pop['Canada'] #Seleksi Index dengan nama 'Canada'"
      ],
      "execution_count": 34,
      "outputs": [
        {
          "output_type": "execute_result",
          "data": {
            "text/plain": [
              "188.1772"
            ]
          },
          "metadata": {
            "tags": []
          },
          "execution_count": 34
        }
      ]
    },
    {
      "cell_type": "code",
      "metadata": {
        "colab": {
          "base_uri": "https://localhost:8080/"
        },
        "id": "WSPtYmZbU-mO",
        "outputId": "a441db06-c13f-4568-badc-c865f9c09377"
      },
      "source": [
        "g7_pop['Italy'] #Seleksi Index dengan nama 'Italy\""
      ],
      "execution_count": 36,
      "outputs": [
        {
          "output_type": "execute_result",
          "data": {
            "text/plain": [
              "19.933"
            ]
          },
          "metadata": {
            "tags": []
          },
          "execution_count": 36
        }
      ]
    }
  ]
}